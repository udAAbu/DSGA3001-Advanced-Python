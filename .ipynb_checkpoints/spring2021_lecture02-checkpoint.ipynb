{
 "cells": [
  {
   "cell_type": "markdown",
   "metadata": {
    "slideshow": {
     "slide_type": "slide"
    }
   },
   "source": [
    "## Lecture 02  \n",
    "## Python Performance Tips  \n",
    "### Feb. 08, 2021"
   ]
  },
  {
   "cell_type": "markdown",
   "metadata": {
    "slideshow": {
     "slide_type": "slide"
    }
   },
   "source": [
    "## Useful resources\n",
    "- https://nyu-cds.github.io/python-performance-tips/ (link seems broken, a copy is available [here](http://alberto.bietti.me/python-performance-tips/))\n",
    "\n",
    "- https://wiki.python.org/moin/PythonSpeed/PerformanceTips"
   ]
  },
  {
   "cell_type": "markdown",
   "metadata": {
    "slideshow": {
     "slide_type": "slide"
    }
   },
   "source": [
    "- Python is a dynamic interpreted language (not a compiled language)\n",
    "\n",
    "- It is not compiled to the native object code and executed on a computer system\n",
    "\n",
    "- **Types** of variables, function arguments, etc. are not known until the program runs\n",
    "\n",
    "- Dynamic interpreted languages have great flexibility, but suffer significant performance limitations\n",
    "\n",
    "- Difficult to optimize, dependence on the interpreter\n"
   ]
  },
  {
   "cell_type": "markdown",
   "metadata": {
    "slideshow": {
     "slide_type": "slide"
    }
   },
   "source": [
    "---\n",
    "\n",
    "- Python is easy to learn, write, read, debug\n",
    "\n",
    "- A large library of built-in functions and libraries: https://docs.python.org/3/library/functions.html\n",
    "\n",
    "---"
   ]
  },
  {
   "cell_type": "markdown",
   "metadata": {
    "slideshow": {
     "slide_type": "slide"
    }
   },
   "source": [
    "\n",
    "### How to optimize?\n",
    "\n",
    "- Get the program to give correct results\n",
    "\n",
    "- Then rerun to see if the correct program is slow\n",
    "\n",
    "- Profile to find which parts of the program consume most of the time \n",
    "\n",
    "- Repeat"
   ]
  },
  {
   "cell_type": "markdown",
   "metadata": {
    "slideshow": {
     "slide_type": "slide"
    }
   },
   "source": [
    "### Today's topics: \n",
    "\n",
    "- Built-in functions\n",
    "\n",
    "- Function Call Overhead\n",
    "\n",
    "- Function Decorator\n",
    "\n",
    "- Loops, and built-in operators\n",
    "\n",
    "- Membership operator **in** \n"
   ]
  },
  {
   "cell_type": "markdown",
   "metadata": {
    "slideshow": {
     "slide_type": "slide"
    }
   },
   "source": [
    "## Timing Python Code"
   ]
  },
  {
   "cell_type": "code",
   "execution_count": null,
   "metadata": {
    "slideshow": {
     "slide_type": "slide"
    }
   },
   "outputs": [],
   "source": [
    "# manually to time:\n",
    "\n",
    "import time\n",
    "\n",
    "start_time = time.time()\n",
    "\n",
    "#factorial 500! = 1 * 2 * 3 * ... * 500\n",
    "fact = 1\n",
    "for i in range(500): \n",
    "    fact *= i\n",
    "    \n",
    "end_time = time.time()\n",
    "\n",
    "print(\"run_time: %f\" % (end_time - start_time))"
   ]
  },
  {
   "cell_type": "code",
   "execution_count": null,
   "metadata": {
    "slideshow": {
     "slide_type": "slide"
    }
   },
   "outputs": [],
   "source": [
    "# Timing Python Code\n",
    "# timeit module\n",
    "# To see how long it takes a program to run once;\n",
    "# on average over a bunch of runs, e.g. over k=10000 runs;\n",
    "\n",
    "import timeit\n",
    "II\n",
    "def my_function():\n",
    "    fact = 1\n",
    "    for i in range(500): \n",
    "        fact *= i\n",
    "\n",
    "\n",
    "k = 10_000\n",
    "print(\"run_time:\", timeit.timeit(my_function, number=k) / k)"
   ]
  },
  {
   "cell_type": "code",
   "execution_count": null,
   "metadata": {
    "slideshow": {
     "slide_type": "slide"
    }
   },
   "outputs": [],
   "source": [
    "#if using IPython\n",
    "\n",
    "# default 100_000 loops\n",
    "%timeit my_function()\n",
    "\n",
    "%timeit -n 1000 my_function()\n",
    "\n"
   ]
  },
  {
   "cell_type": "code",
   "execution_count": null,
   "metadata": {
    "slideshow": {
     "slide_type": "slide"
    }
   },
   "outputs": [],
   "source": [
    "#if using IPython\n",
    "\n",
    "# default 100_000 loops\n",
    "%timeit -r 10 my_function()\n",
    "\n",
    "%timeit -r 10 -n 1000 my_function()\n",
    "\n"
   ]
  },
  {
   "cell_type": "code",
   "execution_count": null,
   "metadata": {
    "slideshow": {
     "slide_type": "slide"
    }
   },
   "outputs": [],
   "source": [
    "def f(x):\n",
    "    return x**2\n",
    "\n",
    "def g(x):\n",
    "    return x**4\n",
    "\n",
    "def h(x):\n",
    "    return x**8\n",
    "\n",
    "\n",
    "%timeit -n 100 f(5)\n",
    "\n",
    "%timeit -n 100 g(5)\n",
    "\n",
    "%timeit -n 100 h(5)\n"
   ]
  },
  {
   "cell_type": "markdown",
   "metadata": {
    "slideshow": {
     "slide_type": "slide"
    }
   },
   "source": [
    "# Built-in Functions\n",
    "\n",
    "\n",
    "- One of the easiest ways to improve Python performance is not to execute any Python code at all! \n",
    "\n",
    "- Python provides a large number of built-in functions that perform a wide variety of operations. \n",
    "\n",
    "- These built-in functions are written in C, and so are generally very fast. \n",
    "\n",
    "- See the Python documentation for a list of the available functions: https://docs.python.org/3/library/functions.html\n"
   ]
  },
  {
   "cell_type": "code",
   "execution_count": null,
   "metadata": {
    "scrolled": true,
    "slideshow": {
     "slide_type": "slide"
    }
   },
   "outputs": [],
   "source": [
    "import random\n",
    "\n",
    "def my_min(values):\n",
    "    min_value = values[0]\n",
    "    for v in values:\n",
    "        if v < min_value:\n",
    "            min_value = v\n",
    "    return min_value\n",
    "\n",
    "\n",
    "random_numbers = [random.random() for _ in range(0,100_000)]\n",
    "\n",
    "print(my_min(random_numbers), min(random_numbers))\n",
    "\n",
    "#time \"my_min()\"\n",
    "%timeit -n 100 my_min(random_numbers)\n",
    "\n",
    "#IPython already provides the function \"min()\"\n",
    "%timeit -n 100 min(random_numbers)\n"
   ]
  },
  {
   "cell_type": "markdown",
   "metadata": {
    "slideshow": {
     "slide_type": "slide"
    }
   },
   "source": [
    "# Function Call Overhead  \n",
    "\n",
    "\n",
    "**How functions affect a program’s performance?**  \n",
    "\n",
    "- Function call overhead in Python is relatively high, especially compared with the execution speed of builtin functions. \n",
    "\n",
    "- The overhead is due, e.g., to loading function objects, loading and checking function arguments, dynamic type checking of function arguments that must be performed before and after the function call.\n",
    "\n",
    "- One idea is to minimize the number of function calls by handling aggregates\n"
   ]
  },
  {
   "cell_type": "code",
   "execution_count": null,
   "metadata": {
    "slideshow": {
     "slide_type": "slide"
    }
   },
   "outputs": [],
   "source": [
    "%%timeit -n 100\n",
    "\n",
    "total_sum = 0\n",
    "def inner(i):\n",
    "    global total_sum\n",
    "    total_sum += i\n",
    "    \n",
    "# The sum of the first n non-negative integers\n",
    "# S_{n} = 1 + ... + n \n",
    "\n",
    "def outer_1():\n",
    "    for i in range(10_000 + 1): \n",
    "        inner(i)"
   ]
  },
  {
   "cell_type": "markdown",
   "metadata": {
    "slideshow": {
     "slide_type": "fragment"
    }
   },
   "source": [
    "- The \"inner\" function was called 10000 times. \n",
    "\n",
    "- Instead, move the loop inside the \"aggregate\" function and call it only once!"
   ]
  },
  {
   "cell_type": "code",
   "execution_count": null,
   "metadata": {
    "slideshow": {
     "slide_type": "slide"
    }
   },
   "outputs": [],
   "source": [
    "%%timeit -n 100\n",
    "\n",
    "x = 0\n",
    "def aggregate(l):\n",
    "    global x\n",
    "    for i in l:\n",
    "        x = x + i\n",
    "\n",
    "def outer_2():\n",
    "    aggregate(range(10000))\n",
    "    "
   ]
  },
  {
   "cell_type": "markdown",
   "metadata": {
    "slideshow": {
     "slide_type": "slide"
    }
   },
   "source": [
    "## Membership Testing"
   ]
  },
  {
   "cell_type": "markdown",
   "metadata": {
    "slideshow": {
     "slide_type": "fragment"
    }
   },
   "source": [
    "- Python provides the **in** operator (a membership operator) to check if an element exists in a collection. \n",
    "\n",
    "- The **in** operator is very fast at checking if an element exists in a **dict** or a **set**, because both dict and set are implemented using a **hash table**. \n"
   ]
  },
  {
   "cell_type": "code",
   "execution_count": null,
   "metadata": {
    "slideshow": {
     "slide_type": "slide"
    }
   },
   "outputs": [],
   "source": [
    "letters = 'abcdefghijklmnopqrstuvwxyz'\n",
    "letters_list = [x + y + z for x in letters for y in letters for z in letters]\n",
    "\n",
    "print(\"first 10 members:\", letters_list[:10])\n",
    "print(\"last  10 members:\", letters_list[-10:])"
   ]
  },
  {
   "cell_type": "code",
   "execution_count": null,
   "metadata": {
    "slideshow": {
     "slide_type": "slide"
    }
   },
   "outputs": [],
   "source": [
    "print(\"len_letters_list = %d\" % len(letters_list))\n",
    "print(\"len_letters ** 3 = %d = %d ** 3\" % (len(letters) ** 3, len(letters)))"
   ]
  },
  {
   "cell_type": "code",
   "execution_count": null,
   "metadata": {
    "slideshow": {
     "slide_type": "slide"
    }
   },
   "outputs": [],
   "source": [
    "\"aaa\" in letters_list"
   ]
  },
  {
   "cell_type": "code",
   "execution_count": null,
   "metadata": {
    "slideshow": {
     "slide_type": "slide"
    }
   },
   "outputs": [],
   "source": [
    "\"zzz\" in letters_list"
   ]
  },
  {
   "cell_type": "code",
   "execution_count": null,
   "metadata": {
    "slideshow": {
     "slide_type": "slide"
    }
   },
   "outputs": [],
   "source": [
    "#Membership of a List\n",
    "%timeit (\"aaa\" in letters_list)\n",
    "%timeit (\"mmm\" in letters_list)\n",
    "%timeit (\"zzz\" in letters_list)"
   ]
  },
  {
   "cell_type": "markdown",
   "metadata": {
    "slideshow": {
     "slide_type": "slide"
    }
   },
   "source": [
    "### Checking for membership in a list or tuple is not as efficient!"
   ]
  },
  {
   "cell_type": "code",
   "execution_count": null,
   "metadata": {
    "slideshow": {
     "slide_type": "slide"
    }
   },
   "outputs": [],
   "source": [
    "#Membership of a Dictionary\n",
    "\n",
    "# identity mapping: \n",
    "letters_dict = dict([(x, x) for x in letters_list])\n",
    "\n",
    "for k, v in letters_dict.items():\n",
    "    print(k, \":\", v)"
   ]
  },
  {
   "cell_type": "code",
   "execution_count": null,
   "metadata": {
    "slideshow": {
     "slide_type": "skip"
    }
   },
   "outputs": [],
   "source": [
    "# \"aaa\" in letters_dict\n",
    "# \"zzz\" in letters_dict"
   ]
  },
  {
   "cell_type": "code",
   "execution_count": null,
   "metadata": {
    "slideshow": {
     "slide_type": "fragment"
    }
   },
   "outputs": [],
   "source": [
    "%timeit (\"aaa\" in letters_dict)\n",
    "%timeit (\"mmm\" in letters_dict)\n",
    "%timeit (\"zzz\" in letters_dict)"
   ]
  },
  {
   "cell_type": "markdown",
   "metadata": {
    "slideshow": {
     "slide_type": "slide"
    }
   },
   "source": [
    "### You could also convert a list into a set and check for a membership\n",
    "\n",
    "---"
   ]
  },
  {
   "cell_type": "code",
   "execution_count": null,
   "metadata": {
    "slideshow": {
     "slide_type": "fragment"
    }
   },
   "outputs": [],
   "source": [
    "letters_set = set(letters_list)\n",
    "\n",
    "%timeit (\"aaa\" in letters_set)\n",
    "%timeit (\"mmm\" in letters_set)\n",
    "%timeit (\"zzz\" in letters_set)"
   ]
  },
  {
   "cell_type": "markdown",
   "metadata": {
    "slideshow": {
     "slide_type": "slide"
    }
   },
   "source": [
    "## String Concatenation"
   ]
  },
  {
   "cell_type": "code",
   "execution_count": null,
   "metadata": {
    "slideshow": {
     "slide_type": "slide"
    }
   },
   "outputs": [],
   "source": [
    "def make_string(string_list):\n",
    "    my_string = ''\n",
    "    for character in string_list:\n",
    "        my_string += character\n",
    "    return my_string\n",
    "\n",
    "str_list = [character for character in 'abcdefghijklmnopqrstuvwxyz']\n",
    "print(str_list)"
   ]
  },
  {
   "cell_type": "code",
   "execution_count": null,
   "metadata": {
    "slideshow": {
     "slide_type": "slide"
    }
   },
   "outputs": [],
   "source": [
    "%timeit make_string(str_list)"
   ]
  },
  {
   "cell_type": "code",
   "execution_count": null,
   "metadata": {
    "slideshow": {
     "slide_type": "slide"
    }
   },
   "outputs": [],
   "source": [
    "%timeit \"\".join(str_list)"
   ]
  },
  {
   "cell_type": "markdown",
   "metadata": {
    "slideshow": {
     "slide_type": "slide"
    }
   },
   "source": [
    "# Decorator Caching"
   ]
  },
  {
   "cell_type": "markdown",
   "metadata": {
    "slideshow": {
     "slide_type": "slide"
    }
   },
   "source": [
    "## Function Decorator\n",
    "\n",
    "\n",
    "\n",
    "---\n",
    "\n",
    "- The symbol **@** is Python decorator syntax. \n",
    "\n",
    "\n",
    "- Python decorators are callable Python object that is used to modify a function, method or class definition.   \n",
    "\n",
    "\n",
    "- Python decorators are normally used for tracking, locking, or logging  \n",
    "\n",
    "\n",
    "- The wise use of decorators can improve the performance of codes.  \n",
    "\n",
    "\n",
    "- Decorate a Python function so that it remembers the results needed later  \n",
    "\n",
    "---"
   ]
  },
  {
   "cell_type": "code",
   "execution_count": null,
   "metadata": {
    "slideshow": {
     "slide_type": "slide"
    }
   },
   "outputs": [],
   "source": [
    "def decorating_a_function(func):\n",
    "    def function_wrapper(x):\n",
    "        print(\"Now \\\"\" + func.__name__ + \"\\\" becomes decorated.\")\n",
    "        print(\"The attribute:\")\n",
    "        func(x)\n",
    "        print(\"is surrounded by all these text!\")\n",
    "    return function_wrapper\n",
    "\n",
    "def foo(x):\n",
    "    print(x)"
   ]
  },
  {
   "cell_type": "code",
   "execution_count": null,
   "metadata": {
    "slideshow": {
     "slide_type": "slide"
    }
   },
   "outputs": [],
   "source": [
    "# run the function\n",
    "foo(\"test\")\n",
    "\n",
    "# separator\n",
    "print(\"-\" * 50)\n",
    "\n",
    "# get the function name\n",
    "print(\"function_name:\", foo.__name__)"
   ]
  },
  {
   "cell_type": "code",
   "execution_count": null,
   "metadata": {
    "slideshow": {
     "slide_type": "slide"
    }
   },
   "outputs": [],
   "source": [
    "foo = decorating_a_function(foo)\n",
    "\n",
    "# run the function\n",
    "foo(\"test\")\n",
    "\n",
    "# separator\n",
    "print(\"-\" * 50)\n",
    "\n",
    "# get the function name\n",
    "print(foo.__name__)"
   ]
  },
  {
   "cell_type": "code",
   "execution_count": null,
   "metadata": {
    "slideshow": {
     "slide_type": "slide"
    }
   },
   "outputs": [],
   "source": [
    "def decorating_a_function(func):\n",
    "    def function_wrapper(x):\n",
    "        print(\"Now the function called \\\"\" + func.__name__ + \"\\\" becomes decorated.\")\n",
    "        print(\"The attribute of the function:\")\n",
    "        func(x)\n",
    "        print(\"is surrounded by all this text!\")\n",
    "    return function_wrapper\n",
    "\n",
    "@decorating_a_function\n",
    "def foo(x):\n",
    "    print(x)"
   ]
  },
  {
   "cell_type": "code",
   "execution_count": null,
   "metadata": {
    "slideshow": {
     "slide_type": "slide"
    }
   },
   "outputs": [],
   "source": [
    "# Test 1:\n",
    "foo(\"test\")"
   ]
  },
  {
   "cell_type": "code",
   "execution_count": null,
   "metadata": {
    "slideshow": {
     "slide_type": "slide"
    }
   },
   "outputs": [],
   "source": [
    "# Test 2:\n",
    "print(foo.__name__)"
   ]
  },
  {
   "cell_type": "markdown",
   "metadata": {
    "slideshow": {
     "slide_type": "slide"
    }
   },
   "source": [
    "## Imported functions can also be decorated"
   ]
  },
  {
   "cell_type": "code",
   "execution_count": null,
   "metadata": {
    "slideshow": {
     "slide_type": "slide"
    }
   },
   "outputs": [],
   "source": [
    "from math import sin, cos, pi\n",
    "\n",
    "def our_decorator(func):\n",
    "    def function_wrapper(x):\n",
    "        print(\"The result of %s(%0.4f) is: %0.4f\" % (func.__name__, x, func(x)))\n",
    "    return function_wrapper\n",
    "\n",
    "# in this case is not possible to use @\n",
    "sin = our_decorator(sin)\n",
    "cos = our_decorator(cos)\n",
    "\n",
    "for f in [sin, cos]: f(pi/2)\n",
    "\n",
    "for f in [sin, cos]: f(pi)\n",
    "    \n"
   ]
  },
  {
   "cell_type": "markdown",
   "metadata": {
    "slideshow": {
     "slide_type": "slide"
    }
   },
   "source": [
    "## Using wraps from module functools\n",
    "\n",
    "- a module with higher-order functions and operations on callable objects"
   ]
  },
  {
   "cell_type": "code",
   "execution_count": null,
   "metadata": {
    "slideshow": {
     "slide_type": "slide"
    }
   },
   "outputs": [],
   "source": [
    "from functools import wraps\n",
    "\n",
    "def greeting(func):\n",
    "    @wraps(func)\n",
    "    def function_wrapper(x):\n",
    "        \"\"\"function_wrapper of greeting\"\"\"\n",
    "        print(\"Hello, this function \" + func.__name__ + \" at value \" + str(x) + \" returns:\", func(x))\n",
    "    \n",
    "    return function_wrapper\n",
    "\n",
    "@greeting\n",
    "def simple_f(x):\n",
    "    \"\"\"this is a docstring of some simple function\"\"\"\n",
    "    return (x + 500)"
   ]
  },
  {
   "cell_type": "code",
   "execution_count": null,
   "metadata": {
    "slideshow": {
     "slide_type": "slide"
    }
   },
   "outputs": [],
   "source": [
    "#call simple_f\n",
    "simple_f(10)"
   ]
  },
  {
   "cell_type": "code",
   "execution_count": null,
   "metadata": {
    "slideshow": {
     "slide_type": "slide"
    }
   },
   "outputs": [],
   "source": [
    "print(\"function name: \" + simple_f.__name__)\n",
    "print(\"docstring: \" + simple_f.__doc__)\n",
    "print(\"module name: \" + simple_f.__module__)"
   ]
  },
  {
   "cell_type": "markdown",
   "metadata": {
    "slideshow": {
     "slide_type": "slide"
    }
   },
   "source": [
    "# Using Decorators for Caching"
   ]
  },
  {
   "cell_type": "code",
   "execution_count": null,
   "metadata": {
    "slideshow": {
     "slide_type": "slide"
    }
   },
   "outputs": [],
   "source": [
    "import time\n",
    "\n",
    "# Consider Fibonacci numbers: \n",
    "# defined as f_n = f_{n - 1} + f_{n - 2} for n >=2 \n",
    "# where f_0 = 0 and f_1 = 1\n",
    "# https://en.wikipedia.org/wiki/Fibonacci_number\n",
    "    \n",
    "\n",
    "# a simple recursion: \n",
    "def fib(i):\n",
    "    if i <= 1: return i\n",
    "    return fib(i - 1) + fib(i - 2)\n",
    "\n",
    "#0, 1, 1, 2, 3, 5, 8, 13, 21, 34, ...\n",
    "\n",
    "t = time.process_time() \n",
    "fib_result = fib(33)\n",
    "elapsed_time = time.process_time() - t\n",
    "print(\"fibonacci time: %0.10f; fib_result: %d\" % (elapsed_time, fib_result))"
   ]
  },
  {
   "cell_type": "markdown",
   "metadata": {
    "slideshow": {
     "slide_type": "slide"
    }
   },
   "source": [
    "# Memoization"
   ]
  },
  {
   "cell_type": "code",
   "execution_count": null,
   "metadata": {
    "slideshow": {
     "slide_type": "slide"
    }
   },
   "outputs": [],
   "source": [
    "# The idea is a memoization: \n",
    "# introduce a map (dictionary) \"memo\"\n",
    "# in which to save intermediate steps\n",
    "# of calculations\n",
    "\n",
    "def fib_memo(i, memo=dict()):\n",
    "    if i <= 1: return i\n",
    "    if i in memo: return memo[i]\n",
    "\n",
    "    memo[i] = fib_memo(i - 1, memo) + fib_memo(i - 2, memo)\n",
    "    return memo[i]\n",
    "\n",
    "t = time.process_time() \n",
    "fib_m = fib_memo(33)\n",
    "elapsed_time_memo = time.process_time() - t\n",
    "print(\"fibonacci time: %0.10f; fib_result: %d\" % (elapsed_time_memo, fib_m))"
   ]
  },
  {
   "cell_type": "code",
   "execution_count": null,
   "metadata": {
    "slideshow": {
     "slide_type": "slide"
    }
   },
   "outputs": [],
   "source": [
    "# We can create a decorator that saves:\n",
    "# each intermediate value in memory \n",
    "# rather than calculating it every time.\n",
    "\n",
    "from functools import wraps\n",
    "\n",
    "def cache(f):\n",
    "    memo = {}\n",
    "    @wraps(f)\n",
    "    def function_wrapper(*arg):\n",
    "        if arg not in memo:\n",
    "            memo[arg] = f(*arg)\n",
    "        return memo[arg]\n",
    "    \n",
    "    return function_wrapper\n",
    "\n",
    "@cache\n",
    "def fib_cache(i):\n",
    "    if i < 2: return i\n",
    "    return fib_cache(i - 1) + fib_cache(i - 2)\n",
    "\n",
    "\n",
    "t = time.process_time() \n",
    "fib_c = fib_cache(33)\n",
    "elapsed_time_c = time.process_time() - t\n",
    "print(\"fibonacci time: %0.10f; result: %d\" % (elapsed_time_c, fib_c))"
   ]
  },
  {
   "cell_type": "markdown",
   "metadata": {
    "slideshow": {
     "slide_type": "slide"
    }
   },
   "source": [
    "# Optimizing Loops"
   ]
  },
  {
   "cell_type": "code",
   "execution_count": null,
   "metadata": {
    "slideshow": {
     "slide_type": "slide"
    }
   },
   "outputs": [],
   "source": [
    "import random\n",
    "\n",
    "lowerlist = ['abcdefghijklmnopqrstuvwxyz'[:random.randint(0, 26)] for x in range(10_00)]\n",
    "upperlist = []\n",
    "\n",
    "# get firs 20 elements\n",
    "lowerlist[ : 20]"
   ]
  },
  {
   "cell_type": "markdown",
   "metadata": {
    "slideshow": {
     "slide_type": "slide"
    }
   },
   "source": [
    "### Task: From the lowerlist build the upperlist"
   ]
  },
  {
   "cell_type": "code",
   "execution_count": null,
   "metadata": {
    "slideshow": {
     "slide_type": "slide"
    }
   },
   "outputs": [],
   "source": [
    "upperlist = []\n",
    "\n",
    "def to_upper_1():\n",
    "    for word in lowerlist:\n",
    "        upperlist.append(str.upper(word))\n",
    "    return upperlist\n",
    "\n",
    "%timeit -n 100 to_upper_1()"
   ]
  },
  {
   "cell_type": "markdown",
   "metadata": {
    "slideshow": {
     "slide_type": "slide"
    }
   },
   "source": [
    "- The loop calls two methods: \"upperlist.append\" and \"str.upper\" every time. \n",
    "\n",
    "- Python must support dynamic attributes as well as multiple namespaces. \n"
   ]
  },
  {
   "cell_type": "code",
   "execution_count": null,
   "metadata": {
    "slideshow": {
     "slide_type": "slide"
    }
   },
   "outputs": [],
   "source": [
    "\n",
    "upperlist = []\n",
    "f_upper = str.upper\n",
    "f_append = upperlist.append\n",
    "\n",
    "def to_upper_2():\n",
    "    for word in lowerlist:\n",
    "        f_append(f_upper(word))\n",
    "\n",
    "%timeit -n 100 to_upper_2()"
   ]
  },
  {
   "cell_type": "code",
   "execution_count": null,
   "metadata": {
    "slideshow": {
     "slide_type": "slide"
    }
   },
   "outputs": [],
   "source": [
    "\n",
    "def to_upper_3():\n",
    "    upperlist = []\n",
    "    f_upper = str.upper\n",
    "    f_append = upperlist.append\n",
    "\n",
    "    for word in lowerlist:\n",
    "        f_append(f_upper(word))\n",
    "\n",
    "%timeit -n 100 to_upper_3()"
   ]
  },
  {
   "cell_type": "markdown",
   "metadata": {
    "slideshow": {
     "slide_type": "slide"
    }
   },
   "source": [
    "### Avoid the loop"
   ]
  },
  {
   "cell_type": "code",
   "execution_count": null,
   "metadata": {
    "slideshow": {
     "slide_type": "slide"
    }
   },
   "outputs": [],
   "source": [
    "# A \"map\" is often called \"apply-to-all\" when considered in functional form;\n",
    "# e.g. a map applied on all elements of a list\n",
    "\n",
    "simple_mapping = map(lambda x : x + 100, [0, 1, 2, 3, 4, 5, 6, 7, 8, 9, 10])\n",
    "\n",
    "list(simple_mapping)"
   ]
  },
  {
   "cell_type": "code",
   "execution_count": null,
   "metadata": {
    "slideshow": {
     "slide_type": "slide"
    }
   },
   "outputs": [],
   "source": [
    "# Apply the method \"upper\" on strings\n",
    "\n",
    "print(lowerlist[0], str.upper(lowerlist[0]))"
   ]
  },
  {
   "cell_type": "code",
   "execution_count": null,
   "metadata": {
    "slideshow": {
     "slide_type": "slide"
    }
   },
   "outputs": [],
   "source": [
    "\n",
    "# avoiding the loop by using \"map\"\n",
    "upper = str.upper\n",
    "\n",
    "%timeit -n 100 upperlist = list(map(upper, lowerlist))"
   ]
  },
  {
   "cell_type": "code",
   "execution_count": null,
   "metadata": {
    "slideshow": {
     "slide_type": "slide"
    }
   },
   "outputs": [],
   "source": [
    "\n",
    "# avoiding the loop by using \"list comprehension\"\n",
    "f_upper = str.upper \n",
    "%timeit -n 100 upperlist = [f_upper(word) for word in lowerlist]"
   ]
  },
  {
   "cell_type": "code",
   "execution_count": null,
   "metadata": {
    "slideshow": {
     "slide_type": "slide"
    }
   },
   "outputs": [],
   "source": [
    "# add two random vectors; given as lists\n",
    "\n",
    "import random \n",
    "\n",
    "random_numbers1 = [random.random() for _ in range(0,100000)]\n",
    "random_numbers2 = [random.random() for _ in range(0,100000)]\n",
    "\n",
    "%timeit res1 = list(map(lambda x, y: x + y, random_numbers1, random_numbers2))\n",
    "\n",
    "# However map is calling our function as \"adding two vectors\" not as \"cross product\" "
   ]
  },
  {
   "cell_type": "code",
   "execution_count": null,
   "metadata": {
    "slideshow": {
     "slide_type": "slide"
    }
   },
   "outputs": [],
   "source": [
    "len(list(map(lambda x, y: x + y, random_numbers1, random_numbers2)))"
   ]
  },
  {
   "cell_type": "markdown",
   "metadata": {
    "slideshow": {
     "slide_type": "slide"
    }
   },
   "source": [
    "## Intrinsic Opertors\n",
    "\n",
    "- Another performance improvement is to use intrinsic operators (+, -, *, etc.) instead of a user defined function.  \n",
    "\n",
    "\n",
    "- The operator module exports a set of efficient functions corresponding to the intrinsic operators of Python.   \n",
    "\n",
    "\n",
    "- operator.add(x, y) is equivalent to the expression x + y.   \n",
    "\n",
    "\n",
    "- `import operator`\n",
    "\n",
    "https://docs.python.org/3.4/library/operator.html"
   ]
  },
  {
   "cell_type": "code",
   "execution_count": null,
   "metadata": {
    "slideshow": {
     "slide_type": "slide"
    }
   },
   "outputs": [],
   "source": [
    "import operator\n",
    "\n",
    "%timeit res2 = list(map(operator.add, random_numbers1, random_numbers2))"
   ]
  },
  {
   "cell_type": "markdown",
   "metadata": {
    "slideshow": {
     "slide_type": "fragment"
    }
   },
   "source": [
    "### using maps\n",
    "\n",
    "- In Python 3.5, **the map function returns an iterator that does not evaluate the arguments until it needs to**. \n",
    "\n",
    "-  By converting the iterator to a list, we are forcing map to compute every value.\n"
   ]
  },
  {
   "cell_type": "code",
   "execution_count": null,
   "metadata": {
    "slideshow": {
     "slide_type": "slide"
    }
   },
   "outputs": [],
   "source": [
    "#Instead here we use the operator \"add\" directly without \"map\":\n",
    "\n",
    "%timeit res3 = operator.add(random_numbers1, random_numbers2)"
   ]
  },
  {
   "cell_type": "code",
   "execution_count": null,
   "metadata": {
    "slideshow": {
     "slide_type": "slide"
    }
   },
   "outputs": [],
   "source": [
    "# Using numpy: exploit contiguous memory, special instructions\n",
    "\n",
    "import numpy as np\n",
    "\n",
    "rand1_np = np.array(random_numbers1)\n",
    "rand2_np = np.array(random_numbers2)\n",
    "\n",
    "%timeit res4 = rand1_np + rand2_np"
   ]
  },
  {
   "cell_type": "code",
   "execution_count": null,
   "metadata": {
    "slideshow": {
     "slide_type": "slide"
    }
   },
   "outputs": [],
   "source": [
    "# Using Python arrays (if you don't have Numpy...)\n",
    "\n",
    "import array\n",
    "\n",
    "rand1_arr = array.array('d', random_numbers1)\n",
    "rand2_arr = array.array('d', random_numbers2)\n",
    "\n",
    "%timeit res4 = operator.add(rand1_arr, rand2_arr)"
   ]
  }
 ],
 "metadata": {
  "celltoolbar": "Slideshow",
  "kernelspec": {
   "display_name": "Python 3",
   "language": "python",
   "name": "python3"
  },
  "language_info": {
   "codemirror_mode": {
    "name": "ipython",
    "version": 3
   },
   "file_extension": ".py",
   "mimetype": "text/x-python",
   "name": "python",
   "nbconvert_exporter": "python",
   "pygments_lexer": "ipython3",
   "version": "3.8.5"
  }
 },
 "nbformat": 4,
 "nbformat_minor": 2
}
