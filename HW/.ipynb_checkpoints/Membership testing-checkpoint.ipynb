{
 "cells": [
  {
   "cell_type": "code",
   "execution_count": 8,
   "metadata": {},
   "outputs": [],
   "source": [
    "import time"
   ]
  },
  {
   "cell_type": "code",
   "execution_count": 13,
   "metadata": {},
   "outputs": [
    {
     "name": "stdout",
     "output_type": "stream",
     "text": [
      "-0.16908926275527025\n",
      "time:  0.285672664642334\n",
      "-0.1690524049239042\n",
      "time:  0.2881953716278076\n",
      "-0.169014744045289\n",
      "time:  0.29759955406188965\n",
      "-0.16902307738079617\n",
      "time:  0.29363203048706055\n",
      "-0.16907985939165196\n",
      "time:  0.3119838237762451\n",
      "-0.16908378513401653\n",
      "time:  0.3169422149658203\n",
      "-0.16904612370292355\n",
      "time:  0.3194243907928467\n",
      "-0.16901416322874255\n",
      "time:  0.3050394058227539\n",
      "-0.16902778605966304\n",
      "time:  0.30260324478149414\n",
      "-0.1690837125696274\n",
      "time:  0.30503320693969727\n",
      "-0.1690807806762558\n",
      "time:  0.2889728546142578\n",
      "-0.1690447415801465\n",
      "time:  0.30056095123291016\n",
      "-0.16901196403204627\n",
      "time:  0.29462289810180664\n",
      "-0.1690331730107864\n",
      "time:  0.2861921787261963\n",
      "-0.1690878399948164\n",
      "time:  0.2941272258758545\n",
      "-0.16908019793581186\n",
      "time:  0.2990870475769043\n",
      "-0.16904027123718363\n",
      "time:  0.3010725975036621\n",
      "-0.16900666759840852\n",
      "time:  0.29759883880615234\n",
      "-0.16903859940007526\n",
      "time:  0.30652809143066406\n"
     ]
    },
    {
     "ename": "KeyboardInterrupt",
     "evalue": "",
     "output_type": "error",
     "traceback": [
      "\u001b[1;31m---------------------------------------------------------------------------\u001b[0m",
      "\u001b[1;31mKeyboardInterrupt\u001b[0m                         Traceback (most recent call last)",
      "\u001b[1;32m<ipython-input-13-f86bee057c9a>\u001b[0m in \u001b[0;36m<module>\u001b[1;34m\u001b[0m\n\u001b[0;32m    131\u001b[0m \u001b[1;33m\u001b[0m\u001b[0m\n\u001b[0;32m    132\u001b[0m \u001b[1;32mif\u001b[0m \u001b[0m__name__\u001b[0m \u001b[1;33m==\u001b[0m \u001b[1;34m'__main__'\u001b[0m\u001b[1;33m:\u001b[0m\u001b[1;33m\u001b[0m\u001b[1;33m\u001b[0m\u001b[0m\n\u001b[1;32m--> 133\u001b[1;33m     \u001b[0mnbody\u001b[0m\u001b[1;33m(\u001b[0m\u001b[1;36m100\u001b[0m\u001b[1;33m,\u001b[0m \u001b[1;34m'sun'\u001b[0m\u001b[1;33m,\u001b[0m \u001b[1;36m20000\u001b[0m\u001b[1;33m)\u001b[0m\u001b[1;33m\u001b[0m\u001b[1;33m\u001b[0m\u001b[0m\n\u001b[0m",
      "\u001b[1;32m<ipython-input-13-f86bee057c9a>\u001b[0m in \u001b[0;36mnbody\u001b[1;34m(loops, reference, iterations)\u001b[0m\n\u001b[0;32m    124\u001b[0m \u001b[1;33m\u001b[0m\u001b[0m\n\u001b[0;32m    125\u001b[0m         \u001b[1;32mfor\u001b[0m \u001b[0m_\u001b[0m \u001b[1;32min\u001b[0m \u001b[0mrange\u001b[0m\u001b[1;33m(\u001b[0m\u001b[0miterations\u001b[0m\u001b[1;33m)\u001b[0m\u001b[1;33m:\u001b[0m\u001b[1;33m\u001b[0m\u001b[1;33m\u001b[0m\u001b[0m\n\u001b[1;32m--> 126\u001b[1;33m             \u001b[0madvance\u001b[0m\u001b[1;33m(\u001b[0m\u001b[1;36m0.01\u001b[0m\u001b[1;33m)\u001b[0m\u001b[1;33m\u001b[0m\u001b[1;33m\u001b[0m\u001b[0m\n\u001b[0m\u001b[0;32m    127\u001b[0m         \u001b[0mprint\u001b[0m\u001b[1;33m(\u001b[0m\u001b[0mreport_energy\u001b[0m\u001b[1;33m(\u001b[0m\u001b[1;33m)\u001b[0m\u001b[1;33m)\u001b[0m\u001b[1;33m\u001b[0m\u001b[1;33m\u001b[0m\u001b[0m\n\u001b[0;32m    128\u001b[0m \u001b[1;33m\u001b[0m\u001b[0m\n",
      "\u001b[1;32m<ipython-input-13-f86bee057c9a>\u001b[0m in \u001b[0;36madvance\u001b[1;34m(dt)\u001b[0m\n\u001b[0;32m     50\u001b[0m         \u001b[1;32mfor\u001b[0m \u001b[0mbody2\u001b[0m \u001b[1;32min\u001b[0m \u001b[0mBODIES\u001b[0m\u001b[1;33m.\u001b[0m\u001b[0mkeys\u001b[0m\u001b[1;33m(\u001b[0m\u001b[1;33m)\u001b[0m\u001b[1;33m:\u001b[0m\u001b[1;33m\u001b[0m\u001b[1;33m\u001b[0m\u001b[0m\n\u001b[0;32m     51\u001b[0m             \u001b[1;32mif\u001b[0m \u001b[1;33m(\u001b[0m\u001b[0mbody1\u001b[0m \u001b[1;33m!=\u001b[0m \u001b[0mbody2\u001b[0m\u001b[1;33m)\u001b[0m \u001b[1;32mand\u001b[0m \u001b[1;32mnot\u001b[0m \u001b[1;33m(\u001b[0m\u001b[0mbody2\u001b[0m \u001b[1;32min\u001b[0m \u001b[0mseenit\u001b[0m\u001b[1;33m)\u001b[0m\u001b[1;33m:\u001b[0m\u001b[1;33m\u001b[0m\u001b[1;33m\u001b[0m\u001b[0m\n\u001b[1;32m---> 52\u001b[1;33m                 \u001b[1;33m(\u001b[0m\u001b[1;33m[\u001b[0m\u001b[0mx1\u001b[0m\u001b[1;33m,\u001b[0m \u001b[0my1\u001b[0m\u001b[1;33m,\u001b[0m \u001b[0mz1\u001b[0m\u001b[1;33m]\u001b[0m\u001b[1;33m,\u001b[0m \u001b[0mv1\u001b[0m\u001b[1;33m,\u001b[0m \u001b[0mm1\u001b[0m\u001b[1;33m)\u001b[0m \u001b[1;33m=\u001b[0m \u001b[0mBODIES\u001b[0m\u001b[1;33m[\u001b[0m\u001b[0mbody1\u001b[0m\u001b[1;33m]\u001b[0m\u001b[1;33m\u001b[0m\u001b[1;33m\u001b[0m\u001b[0m\n\u001b[0m\u001b[0;32m     53\u001b[0m                 \u001b[1;33m(\u001b[0m\u001b[1;33m[\u001b[0m\u001b[0mx2\u001b[0m\u001b[1;33m,\u001b[0m \u001b[0my2\u001b[0m\u001b[1;33m,\u001b[0m \u001b[0mz2\u001b[0m\u001b[1;33m]\u001b[0m\u001b[1;33m,\u001b[0m \u001b[0mv2\u001b[0m\u001b[1;33m,\u001b[0m \u001b[0mm2\u001b[0m\u001b[1;33m)\u001b[0m \u001b[1;33m=\u001b[0m \u001b[0mBODIES\u001b[0m\u001b[1;33m[\u001b[0m\u001b[0mbody2\u001b[0m\u001b[1;33m]\u001b[0m\u001b[1;33m\u001b[0m\u001b[1;33m\u001b[0m\u001b[0m\n\u001b[0;32m     54\u001b[0m                 \u001b[1;33m(\u001b[0m\u001b[0mdx\u001b[0m\u001b[1;33m,\u001b[0m \u001b[0mdy\u001b[0m\u001b[1;33m,\u001b[0m \u001b[0mdz\u001b[0m\u001b[1;33m)\u001b[0m \u001b[1;33m=\u001b[0m \u001b[1;33m(\u001b[0m\u001b[0mx1\u001b[0m\u001b[1;33m-\u001b[0m\u001b[0mx2\u001b[0m\u001b[1;33m,\u001b[0m \u001b[0my1\u001b[0m\u001b[1;33m-\u001b[0m\u001b[0my2\u001b[0m\u001b[1;33m,\u001b[0m \u001b[0mz1\u001b[0m\u001b[1;33m-\u001b[0m\u001b[0mz2\u001b[0m\u001b[1;33m)\u001b[0m\u001b[1;33m\u001b[0m\u001b[1;33m\u001b[0m\u001b[0m\n",
      "\u001b[1;31mKeyboardInterrupt\u001b[0m: "
     ]
    }
   ],
   "source": [
    "\"\"\"\n",
    "    N-body simulation.\n",
    "\"\"\"\n",
    "\n",
    "PI = 3.14159265358979323\n",
    "SOLAR_MASS = 4 * PI * PI\n",
    "DAYS_PER_YEAR = 365.24\n",
    "\n",
    "BODIES = {\n",
    "    'sun': ([0.0, 0.0, 0.0], [0.0, 0.0, 0.0], SOLAR_MASS),\n",
    "\n",
    "    'jupiter': ([4.84143144246472090e+00,\n",
    "                 -1.16032004402742839e+00,\n",
    "                 -1.03622044471123109e-01],\n",
    "                [1.66007664274403694e-03 * DAYS_PER_YEAR,\n",
    "                 7.69901118419740425e-03 * DAYS_PER_YEAR,\n",
    "                 -6.90460016972063023e-05 * DAYS_PER_YEAR],\n",
    "                9.54791938424326609e-04 * SOLAR_MASS),\n",
    "\n",
    "    'saturn': ([8.34336671824457987e+00,\n",
    "                4.12479856412430479e+00,\n",
    "                -4.03523417114321381e-01],\n",
    "               [-2.76742510726862411e-03 * DAYS_PER_YEAR,\n",
    "                4.99852801234917238e-03 * DAYS_PER_YEAR,\n",
    "                2.30417297573763929e-05 * DAYS_PER_YEAR],\n",
    "               2.85885980666130812e-04 * SOLAR_MASS),\n",
    "\n",
    "    'uranus': ([1.28943695621391310e+01,\n",
    "                -1.51111514016986312e+01,\n",
    "                -2.23307578892655734e-01],\n",
    "               [2.96460137564761618e-03 * DAYS_PER_YEAR,\n",
    "                2.37847173959480950e-03 * DAYS_PER_YEAR,\n",
    "                -2.96589568540237556e-05 * DAYS_PER_YEAR],\n",
    "               4.36624404335156298e-05 * SOLAR_MASS),\n",
    "\n",
    "    'neptune': ([1.53796971148509165e+01,\n",
    "                 -2.59193146099879641e+01,\n",
    "                 1.79258772950371181e-01],\n",
    "                [2.68067772490389322e-03 * DAYS_PER_YEAR,\n",
    "                 1.62824170038242295e-03 * DAYS_PER_YEAR,\n",
    "                 -9.51592254519715870e-05 * DAYS_PER_YEAR],\n",
    "                5.15138902046611451e-05 * SOLAR_MASS)}\n",
    "\n",
    "def advance(dt):\n",
    "    '''\n",
    "        advance the system one timestep\n",
    "    '''\n",
    "    seenit = set()\n",
    "    for body1 in BODIES.keys():\n",
    "        for body2 in BODIES.keys():\n",
    "            if (body1 != body2) and not (body2 in seenit):\n",
    "                ([x1, y1, z1], v1, m1) = BODIES[body1]\n",
    "                ([x2, y2, z2], v2, m2) = BODIES[body2]\n",
    "                (dx, dy, dz) = (x1-x2, y1-y2, z1-z2)\n",
    "                \n",
    "                mag = dt * ((dx * dx + dy * dy + dz * dz) ** (-1.5))\n",
    "                v1_b = m2 * mag\n",
    "                v1[0] -= dx * v1_b\n",
    "                v1[1] -= dy * v1_b\n",
    "                v1[2] -= dz * v1_b\n",
    "\n",
    "                v2_b = m1 * mag\n",
    "                v2[0] += dx * v2_b\n",
    "                v2[1] += dy * v2_b\n",
    "                v2[2] += dz * v2_b\n",
    "                seenit.add(body1)\n",
    "        \n",
    "    for body in BODIES.keys():\n",
    "        (r, [vx, vy, vz], m) = BODIES[body]\n",
    "        r[0] += dt * vx\n",
    "        r[1] += dt * vy\n",
    "        r[2] += dt * vz\n",
    "    \n",
    "def report_energy(e=0.0):\n",
    "    '''\n",
    "        compute the energy and return it so that it can be printed\n",
    "    '''\n",
    "    seenit = set()\n",
    "    \n",
    "    for body1 in BODIES.keys():\n",
    "        for body2 in BODIES.keys():\n",
    "            if (body1 != body2) and not (body2 in seenit):\n",
    "                ((x1, y1, z1), v1, m1) = BODIES[body1]\n",
    "                ((x2, y2, z2), v2, m2) = BODIES[body2]\n",
    "                (dx, dy, dz) = (x1-x2, y1-y2, z1-z2)\n",
    "                e -= (m1 * m2) / ((dx * dx + dy * dy + dz * dz) ** 0.5)\n",
    "                seenit.add(body1) \n",
    "        \n",
    "    for body in BODIES.keys():\n",
    "        (r, [vx, vy, vz], m) = BODIES[body]\n",
    "        e += m * (vx * vx + vy * vy + vz * vz) / 2.\n",
    "        \n",
    "    return e\n",
    "\n",
    "def offset_momentum(ref, px=0.0, py=0.0, pz=0.0):\n",
    "    '''\n",
    "        ref is the body in the center of the system\n",
    "        offset values from this reference\n",
    "    '''\n",
    "    for body in BODIES.keys():\n",
    "        (r, [vx, vy, vz], m) = BODIES[body]\n",
    "        px -= vx * m\n",
    "        py -= vy * m\n",
    "        pz -= vz * m\n",
    "        \n",
    "    (r, v, m) = ref\n",
    "    v[0] = px / m\n",
    "    v[1] = py / m\n",
    "    v[2] = pz / m\n",
    "\n",
    "\n",
    "def nbody(loops, reference, iterations):\n",
    "    '''\n",
    "        nbody simulation\n",
    "        loops - number of loops to run\n",
    "        reference - body at center of system\n",
    "        iterations - number of timesteps to advance\n",
    "    '''\n",
    "    # Set up global state \n",
    "    offset_momentum(BODIES[reference])\n",
    "    \n",
    "    for _ in range(loops):\n",
    "        start = time.time() #add\n",
    "        \n",
    "        for _ in range(iterations):\n",
    "            advance(0.01)\n",
    "        print(report_energy())\n",
    "        \n",
    "        end = time.time() #add\n",
    "        print(\"time: \", end - start) #add\n",
    "\n",
    "if __name__ == '__main__':\n",
    "    nbody(100, 'sun', 20000)"
   ]
  },
  {
   "cell_type": "code",
   "execution_count": 17,
   "metadata": {},
   "outputs": [],
   "source": [
    "def advance2(dt):\n",
    "    '''\n",
    "        advance the system one timestep\n",
    "    '''\n",
    "    global BODIES\n",
    "    seenit = set()\n",
    "    for body1 in bodies.keys():\n",
    "        for body2 in bodies.keys():\n",
    "            if (body1 != body2) and not (body2 in seenit):\n",
    "                ([x1, y1, z1], v1, m1) = bodies[body1]\n",
    "                ([x2, y2, z2], v2, m2) = bodies[body2]\n",
    "                (dx, dy, dz) = (x1-x2, y1-y2, z1-z2)\n",
    "                \n",
    "                mag = dt * ((dx * dx + dy * dy + dz * dz) ** (-1.5))\n",
    "                v1_b = m2 * mag\n",
    "                v1[0] -= dx * v1_b\n",
    "                v1[1] -= dy * v1_b\n",
    "                v1[2] -= dz * v1_b\n",
    "\n",
    "                v2_b = m1 * mag\n",
    "                v2[0] += dx * v2_b\n",
    "                v2[1] += dy * v2_b\n",
    "                v2[2] += dz * v2_b\n",
    "                seenit.add(body1)\n",
    "                \n",
    "    for body in bodies.keys():\n",
    "        (r, [vx, vy, vz], m) = bodies[body]\n",
    "        r[0] += dt * vx\n",
    "        r[1] += dt * vy\n",
    "        r[2] += dt * vz"
   ]
  },
  {
   "cell_type": "code",
   "execution_count": 15,
   "metadata": {},
   "outputs": [
    {
     "name": "stdout",
     "output_type": "stream",
     "text": [
      "15.4 µs ± 454 ns per loop (mean ± std. dev. of 7 runs, 100000 loops each)\n"
     ]
    }
   ],
   "source": [
    "%timeit advance(0.01)"
   ]
  },
  {
   "cell_type": "code",
   "execution_count": 19,
   "metadata": {},
   "outputs": [
    {
     "name": "stdout",
     "output_type": "stream",
     "text": [
      "16.5 µs ± 209 ns per loop (mean ± std. dev. of 7 runs, 100000 loops each)\n"
     ]
    }
   ],
   "source": [
    "%timeit advance2(0.01)"
   ]
  },
  {
   "cell_type": "code",
   "execution_count": 10,
   "metadata": {},
   "outputs": [
    {
     "name": "stdout",
     "output_type": "stream",
     "text": [
      "148 ns ± 3.15 ns per loop (mean ± std. dev. of 7 runs, 10000000 loops each)\n"
     ]
    }
   ],
   "source": [
    "%%timeit\n",
    "for i in BODIES.keys():\n",
    "    continue"
   ]
  },
  {
   "cell_type": "code",
   "execution_count": 12,
   "metadata": {},
   "outputs": [
    {
     "name": "stdout",
     "output_type": "stream",
     "text": [
      "96 ns ± 1.35 ns per loop (mean ± std. dev. of 7 runs, 10000000 loops each)\n"
     ]
    }
   ],
   "source": [
    "%%timeit\n",
    "for i in BODIES:\n",
    "    continue"
   ]
  },
  {
   "cell_type": "code",
   "execution_count": null,
   "metadata": {},
   "outputs": [],
   "source": []
  }
 ],
 "metadata": {
  "kernelspec": {
   "display_name": "Python 3",
   "language": "python",
   "name": "python3"
  },
  "language_info": {
   "codemirror_mode": {
    "name": "ipython",
    "version": 3
   },
   "file_extension": ".py",
   "mimetype": "text/x-python",
   "name": "python",
   "nbconvert_exporter": "python",
   "pygments_lexer": "ipython3",
   "version": "3.8.5"
  }
 },
 "nbformat": 4,
 "nbformat_minor": 4
}
