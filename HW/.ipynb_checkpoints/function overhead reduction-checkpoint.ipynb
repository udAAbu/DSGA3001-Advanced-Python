{
 "cells": [
  {
   "cell_type": "code",
   "execution_count": 3,
   "metadata": {},
   "outputs": [],
   "source": [
    "import time"
   ]
  },
  {
   "cell_type": "code",
   "execution_count": 48,
   "metadata": {},
   "outputs": [
    {
     "name": "stdout",
     "output_type": "stream",
     "text": [
      "-0.16908926275527025\n",
      "time:  0.2980952262878418\n",
      "-0.1690524049239042\n",
      "time:  0.2988464832305908\n",
      "-0.169014744045289\n",
      "time:  0.3032708168029785\n",
      "-0.16902307738079617\n",
      "time:  0.31349778175354004\n",
      "-0.16907985939165196\n",
      "time:  0.32088565826416016\n",
      "-0.16908378513401653\n",
      "time:  0.31843137741088867\n",
      "-0.16904612370292355\n",
      "time:  0.32487964630126953\n",
      "-0.16901416322874255\n",
      "time:  0.3169443607330322\n"
     ]
    },
    {
     "ename": "KeyboardInterrupt",
     "evalue": "",
     "output_type": "error",
     "traceback": [
      "\u001b[1;31m---------------------------------------------------------------------------\u001b[0m",
      "\u001b[1;31mKeyboardInterrupt\u001b[0m                         Traceback (most recent call last)",
      "\u001b[1;32m<ipython-input-48-a22d196b744e>\u001b[0m in \u001b[0;36m<module>\u001b[1;34m\u001b[0m\n\u001b[0;32m    172\u001b[0m \u001b[1;33m\u001b[0m\u001b[0m\n\u001b[0;32m    173\u001b[0m \u001b[1;32mif\u001b[0m \u001b[0m__name__\u001b[0m \u001b[1;33m==\u001b[0m \u001b[1;34m'__main__'\u001b[0m\u001b[1;33m:\u001b[0m\u001b[1;33m\u001b[0m\u001b[1;33m\u001b[0m\u001b[0m\n\u001b[1;32m--> 174\u001b[1;33m     \u001b[0mnbody\u001b[0m\u001b[1;33m(\u001b[0m\u001b[1;36m100\u001b[0m\u001b[1;33m,\u001b[0m \u001b[1;34m'sun'\u001b[0m\u001b[1;33m,\u001b[0m \u001b[1;36m20000\u001b[0m\u001b[1;33m)\u001b[0m\u001b[1;33m\u001b[0m\u001b[1;33m\u001b[0m\u001b[0m\n\u001b[0m",
      "\u001b[1;32m<ipython-input-48-a22d196b744e>\u001b[0m in \u001b[0;36mnbody\u001b[1;34m(loops, reference, iterations)\u001b[0m\n\u001b[0;32m    165\u001b[0m \u001b[1;33m\u001b[0m\u001b[0m\n\u001b[0;32m    166\u001b[0m         \u001b[1;32mfor\u001b[0m \u001b[0m_\u001b[0m \u001b[1;32min\u001b[0m \u001b[0mrange\u001b[0m\u001b[1;33m(\u001b[0m\u001b[0miterations\u001b[0m\u001b[1;33m)\u001b[0m\u001b[1;33m:\u001b[0m\u001b[1;33m\u001b[0m\u001b[1;33m\u001b[0m\u001b[0m\n\u001b[1;32m--> 167\u001b[1;33m             \u001b[0madvance\u001b[0m\u001b[1;33m(\u001b[0m\u001b[1;36m0.01\u001b[0m\u001b[1;33m)\u001b[0m\u001b[1;33m\u001b[0m\u001b[1;33m\u001b[0m\u001b[0m\n\u001b[0m\u001b[0;32m    168\u001b[0m         \u001b[0mprint\u001b[0m\u001b[1;33m(\u001b[0m\u001b[0mreport_energy\u001b[0m\u001b[1;33m(\u001b[0m\u001b[1;33m)\u001b[0m\u001b[1;33m)\u001b[0m\u001b[1;33m\u001b[0m\u001b[1;33m\u001b[0m\u001b[0m\n\u001b[0;32m    169\u001b[0m \u001b[1;33m\u001b[0m\u001b[0m\n",
      "\u001b[1;32m<ipython-input-48-a22d196b744e>\u001b[0m in \u001b[0;36madvance\u001b[1;34m(dt)\u001b[0m\n\u001b[0;32m     87\u001b[0m         \u001b[1;32mfor\u001b[0m \u001b[0mbody2\u001b[0m \u001b[1;32min\u001b[0m \u001b[0mBODIES\u001b[0m\u001b[1;33m.\u001b[0m\u001b[0mkeys\u001b[0m\u001b[1;33m(\u001b[0m\u001b[1;33m)\u001b[0m\u001b[1;33m:\u001b[0m\u001b[1;33m\u001b[0m\u001b[1;33m\u001b[0m\u001b[0m\n\u001b[0;32m     88\u001b[0m             \u001b[1;32mif\u001b[0m \u001b[1;33m(\u001b[0m\u001b[0mbody1\u001b[0m \u001b[1;33m!=\u001b[0m \u001b[0mbody2\u001b[0m\u001b[1;33m)\u001b[0m \u001b[1;32mand\u001b[0m \u001b[1;32mnot\u001b[0m \u001b[1;33m(\u001b[0m\u001b[0mbody2\u001b[0m \u001b[1;32min\u001b[0m \u001b[0mseenit\u001b[0m\u001b[1;33m)\u001b[0m\u001b[1;33m:\u001b[0m\u001b[1;33m\u001b[0m\u001b[1;33m\u001b[0m\u001b[0m\n\u001b[1;32m---> 89\u001b[1;33m                 \u001b[1;33m(\u001b[0m\u001b[1;33m[\u001b[0m\u001b[0mx1\u001b[0m\u001b[1;33m,\u001b[0m \u001b[0my1\u001b[0m\u001b[1;33m,\u001b[0m \u001b[0mz1\u001b[0m\u001b[1;33m]\u001b[0m\u001b[1;33m,\u001b[0m \u001b[0mv1\u001b[0m\u001b[1;33m,\u001b[0m \u001b[0mm1\u001b[0m\u001b[1;33m)\u001b[0m \u001b[1;33m=\u001b[0m \u001b[0mBODIES\u001b[0m\u001b[1;33m[\u001b[0m\u001b[0mbody1\u001b[0m\u001b[1;33m]\u001b[0m\u001b[1;33m\u001b[0m\u001b[1;33m\u001b[0m\u001b[0m\n\u001b[0m\u001b[0;32m     90\u001b[0m                 \u001b[1;33m(\u001b[0m\u001b[1;33m[\u001b[0m\u001b[0mx2\u001b[0m\u001b[1;33m,\u001b[0m \u001b[0my2\u001b[0m\u001b[1;33m,\u001b[0m \u001b[0mz2\u001b[0m\u001b[1;33m]\u001b[0m\u001b[1;33m,\u001b[0m \u001b[0mv2\u001b[0m\u001b[1;33m,\u001b[0m \u001b[0mm2\u001b[0m\u001b[1;33m)\u001b[0m \u001b[1;33m=\u001b[0m \u001b[0mBODIES\u001b[0m\u001b[1;33m[\u001b[0m\u001b[0mbody2\u001b[0m\u001b[1;33m]\u001b[0m\u001b[1;33m\u001b[0m\u001b[1;33m\u001b[0m\u001b[0m\n\u001b[0;32m     91\u001b[0m                 \u001b[1;33m(\u001b[0m\u001b[0mdx\u001b[0m\u001b[1;33m,\u001b[0m \u001b[0mdy\u001b[0m\u001b[1;33m,\u001b[0m \u001b[0mdz\u001b[0m\u001b[1;33m)\u001b[0m \u001b[1;33m=\u001b[0m \u001b[1;33m(\u001b[0m\u001b[0mx1\u001b[0m\u001b[1;33m-\u001b[0m\u001b[0mx2\u001b[0m\u001b[1;33m,\u001b[0m \u001b[0my1\u001b[0m\u001b[1;33m-\u001b[0m\u001b[0my2\u001b[0m\u001b[1;33m,\u001b[0m \u001b[0mz1\u001b[0m\u001b[1;33m-\u001b[0m\u001b[0mz2\u001b[0m\u001b[1;33m)\u001b[0m\u001b[1;33m\u001b[0m\u001b[1;33m\u001b[0m\u001b[0m\n",
      "\u001b[1;31mKeyboardInterrupt\u001b[0m: "
     ]
    }
   ],
   "source": [
    "\"\"\"\n",
    "    N-body simulation.\n",
    "\"\"\"\n",
    "\n",
    "PI = 3.14159265358979323\n",
    "SOLAR_MASS = 4 * PI * PI\n",
    "DAYS_PER_YEAR = 365.24\n",
    "\n",
    "BODIES = {\n",
    "    'sun': ([0.0, 0.0, 0.0], [0.0, 0.0, 0.0], SOLAR_MASS),\n",
    "\n",
    "    'jupiter': ([4.84143144246472090e+00,\n",
    "                 -1.16032004402742839e+00,\n",
    "                 -1.03622044471123109e-01],\n",
    "                [1.66007664274403694e-03 * DAYS_PER_YEAR,\n",
    "                 7.69901118419740425e-03 * DAYS_PER_YEAR,\n",
    "                 -6.90460016972063023e-05 * DAYS_PER_YEAR],\n",
    "                9.54791938424326609e-04 * SOLAR_MASS),\n",
    "\n",
    "    'saturn': ([8.34336671824457987e+00,\n",
    "                4.12479856412430479e+00,\n",
    "                -4.03523417114321381e-01],\n",
    "               [-2.76742510726862411e-03 * DAYS_PER_YEAR,\n",
    "                4.99852801234917238e-03 * DAYS_PER_YEAR,\n",
    "                2.30417297573763929e-05 * DAYS_PER_YEAR],\n",
    "               2.85885980666130812e-04 * SOLAR_MASS),\n",
    "\n",
    "    'uranus': ([1.28943695621391310e+01,\n",
    "                -1.51111514016986312e+01,\n",
    "                -2.23307578892655734e-01],\n",
    "               [2.96460137564761618e-03 * DAYS_PER_YEAR,\n",
    "                2.37847173959480950e-03 * DAYS_PER_YEAR,\n",
    "                -2.96589568540237556e-05 * DAYS_PER_YEAR],\n",
    "               4.36624404335156298e-05 * SOLAR_MASS),\n",
    "\n",
    "    'neptune': ([1.53796971148509165e+01,\n",
    "                 -2.59193146099879641e+01,\n",
    "                 1.79258772950371181e-01],\n",
    "                [2.68067772490389322e-03 * DAYS_PER_YEAR,\n",
    "                 1.62824170038242295e-03 * DAYS_PER_YEAR,\n",
    "                 -9.51592254519715870e-05 * DAYS_PER_YEAR],\n",
    "                5.15138902046611451e-05 * SOLAR_MASS)}\n",
    "\n",
    "def advance(dt):\n",
    "    '''\n",
    "        advance the system one timestep\n",
    "    '''\n",
    "    seenit = []\n",
    "    for body1 in BODIES.keys():\n",
    "        for body2 in BODIES.keys():\n",
    "            if (body1 != body2) and not (body2 in seenit):\n",
    "                ([x1, y1, z1], v1, m1) = BODIES[body1]\n",
    "                ([x2, y2, z2], v2, m2) = BODIES[body2]\n",
    "                (dx, dy, dz) = (x1-x2, y1-y2, z1-z2)\n",
    "                \n",
    "                mag = dt * ((dx * dx + dy * dy + dz * dz) ** (-1.5))\n",
    "                v1_b = m2 * mag\n",
    "                v1[0] -= dx * v1_b\n",
    "                v1[1] -= dy * v1_b\n",
    "                v1[2] -= dz * v1_b\n",
    "\n",
    "                v2_b = m1 * mag\n",
    "                v2[0] += dx * v2_b\n",
    "                v2[1] += dy * v2_b\n",
    "                v2[2] += dz * v2_b\n",
    "                seenit.append(body1)\n",
    "        \n",
    "    for body in BODIES.keys():\n",
    "        (r, [vx, vy, vz], m) = BODIES[body]\n",
    "        r[0] += dt * vx\n",
    "        r[1] += dt * vy\n",
    "        r[2] += dt * vz\n",
    "    \n",
    "def report_energy(e=0.0):\n",
    "    '''\n",
    "        compute the energy and return it so that it can be printed\n",
    "    '''\n",
    "    seenit = []\n",
    "    \n",
    "    for body1 in BODIES.keys():\n",
    "        for body2 in BODIES.keys():\n",
    "            if (body1 != body2) and not (body2 in seenit):\n",
    "                ((x1, y1, z1), v1, m1) = BODIES[body1]\n",
    "                ((x2, y2, z2), v2, m2) = BODIES[body2]\n",
    "                (dx, dy, dz) = (x1-x2, y1-y2, z1-z2)\n",
    "                e -= (m1 * m2) / ((dx * dx + dy * dy + dz * dz) ** 0.5)\n",
    "                seenit.append(body1) \n",
    "        \n",
    "    for body in BODIES.keys():\n",
    "        (r, [vx, vy, vz], m) = BODIES[body]\n",
    "        e += m * (vx * vx + vy * vy + vz * vz) / 2.\n",
    "        \n",
    "    return e\n",
    "\n",
    "def offset_momentum(ref, px=0.0, py=0.0, pz=0.0):\n",
    "    '''\n",
    "        ref is the body in the center of the system\n",
    "        offset values from this reference\n",
    "    '''\n",
    "    for body in BODIES.keys():\n",
    "        (r, [vx, vy, vz], m) = BODIES[body]\n",
    "        px -= vx * m\n",
    "        py -= vy * m\n",
    "        pz -= vz * m\n",
    "        \n",
    "    (r, v, m) = ref\n",
    "    v[0] = px / m\n",
    "    v[1] = py / m\n",
    "    v[2] = pz / m\n",
    "\n",
    "\n",
    "def nbody(loops, reference, iterations):\n",
    "    '''\n",
    "        nbody simulation\n",
    "        loops - number of loops to run\n",
    "        reference - body at center of system\n",
    "        iterations - number of timesteps to advance\n",
    "    '''\n",
    "    # Set up global state \n",
    "    offset_momentum(BODIES[reference])\n",
    "    \n",
    "    for _ in range(loops):\n",
    "        start = time.time() #add\n",
    "        \n",
    "        for _ in range(iterations):\n",
    "            advance(0.01)\n",
    "        print(report_energy())\n",
    "        \n",
    "        end = time.time() #add\n",
    "        print(\"time: \", end - start) #add\n",
    "\n",
    "if __name__ == '__main__':\n",
    "    nbody(100, 'sun', 20000)"
   ]
  },
  {
   "cell_type": "code",
   "execution_count": 43,
   "metadata": {},
   "outputs": [
    {
     "name": "stdout",
     "output_type": "stream",
     "text": [
      "16.7 ms ± 361 µs per loop (mean ± std. dev. of 7 runs, 100 loops each)\n"
     ]
    }
   ],
   "source": [
    "advanced_001 = advance\n",
    "%timeit [advanced_001(0.01) for _ in range(1000)]"
   ]
  },
  {
   "cell_type": "code",
   "execution_count": 45,
   "metadata": {},
   "outputs": [
    {
     "name": "stdout",
     "output_type": "stream",
     "text": [
      "15.8 ms ± 159 µs per loop (mean ± std. dev. of 7 runs, 100 loops each)\n"
     ]
    }
   ],
   "source": [
    "%timeit [advance(0.01) for _ in range(1000)]"
   ]
  },
  {
   "cell_type": "code",
   "execution_count": 46,
   "metadata": {},
   "outputs": [
    {
     "name": "stdout",
     "output_type": "stream",
     "text": [
      "10.4 ms ± 211 µs per loop (mean ± std. dev. of 7 runs, 100 loops each)\n"
     ]
    }
   ],
   "source": [
    "re = report_energy\n",
    "%timeit [re() for _ in range(1000)]"
   ]
  },
  {
   "cell_type": "code",
   "execution_count": 47,
   "metadata": {},
   "outputs": [
    {
     "name": "stdout",
     "output_type": "stream",
     "text": [
      "10.3 ms ± 148 µs per loop (mean ± std. dev. of 7 runs, 100 loops each)\n"
     ]
    }
   ],
   "source": [
    "%timeit [report_energy() for _ in range(1000)]"
   ]
  },
  {
   "cell_type": "code",
   "execution_count": 33,
   "metadata": {},
   "outputs": [],
   "source": [
    "def report_energy(e=0.0):\n",
    "    '''\n",
    "        compute the energy and return it so that it can be printed\n",
    "    '''\n",
    "    seenit = []\n",
    "    \n",
    "    for body1 in BODIES.keys():\n",
    "        for body2 in BODIES.keys():\n",
    "            if (body1 != body2) and not (body2 in seenit):\n",
    "                ((x1, y1, z1), v1, m1) = BODIES[body1]\n",
    "                ((x2, y2, z2), v2, m2) = BODIES[body2]\n",
    "                (dx, dy, dz) = (x1-x2, y1-y2, z1-z2)\n",
    "                e -= (m1 * m2) / ((dx * dx + dy * dy + dz * dz) ** 0.5)\n",
    "                seenit.append(body1) \n",
    "        \n",
    "    for body in BODIES.keys():\n",
    "        (r, [vx, vy, vz], m) = BODIES[body]\n",
    "        e += m * (vx * vx + vy * vy + vz * vz) / 2.\n",
    "        \n",
    "    return e"
   ]
  },
  {
   "cell_type": "code",
   "execution_count": 34,
   "metadata": {},
   "outputs": [
    {
     "name": "stdout",
     "output_type": "stream",
     "text": [
      "9.91 µs ± 285 ns per loop (mean ± std. dev. of 7 runs, 10000 loops each)\n"
     ]
    }
   ],
   "source": [
    "%timeit -n 10000 report_energy()"
   ]
  },
  {
   "cell_type": "code",
   "execution_count": 39,
   "metadata": {},
   "outputs": [],
   "source": [
    "def advance(dt):\n",
    "    '''\n",
    "        advance the system one timestep\n",
    "    '''\n",
    "    seenit = []\n",
    "    for body1 in BODIES.keys():\n",
    "        for body2 in BODIES.keys():\n",
    "            if (body1 != body2) and not (body2 in seenit):\n",
    "                ([x1, y1, z1], v1, m1) = BODIES[body1]\n",
    "                ([x2, y2, z2], v2, m2) = BODIES[body2]\n",
    "                (dx, dy, dz) = (x1-x2, y1-y2, z1-z2)\n",
    "                \n",
    "                mag = dt * ((dx * dx + dy * dy + dz * dz) ** (-1.5))\n",
    "                v1_b = m2 * mag\n",
    "                v1[0] -= dx * v1_b\n",
    "                v1[1] -= dy * v1_b\n",
    "                v1[2] -= dz * v1_b\n",
    "\n",
    "                v2_b = m1 * mag\n",
    "                v2[0] += dx * v2_b\n",
    "                v2[1] += dy * v2_b\n",
    "                v2[2] += dz * v2_b\n",
    "                seenit.append(body1)\n",
    "        \n",
    "    for body in BODIES.keys():\n",
    "        (r, [vx, vy, vz], m) = BODIES[body]\n",
    "        r[0] += dt * vx\n",
    "        r[1] += dt * vy\n",
    "        r[2] += dt * vz"
   ]
  },
  {
   "cell_type": "code",
   "execution_count": 41,
   "metadata": {},
   "outputs": [
    {
     "name": "stdout",
     "output_type": "stream",
     "text": [
      "15.3 µs ± 600 ns per loop (mean ± std. dev. of 7 runs, 1000 loops each)\n"
     ]
    }
   ],
   "source": [
    "%timeit -n 1000 advance(0.01)"
   ]
  },
  {
   "cell_type": "code",
   "execution_count": null,
   "metadata": {},
   "outputs": [],
   "source": []
  }
 ],
 "metadata": {
  "kernelspec": {
   "display_name": "Python 3",
   "language": "python",
   "name": "python3"
  },
  "language_info": {
   "codemirror_mode": {
    "name": "ipython",
    "version": 3
   },
   "file_extension": ".py",
   "mimetype": "text/x-python",
   "name": "python",
   "nbconvert_exporter": "python",
   "pygments_lexer": "ipython3",
   "version": "3.8.5"
  }
 },
 "nbformat": 4,
 "nbformat_minor": 4
}
