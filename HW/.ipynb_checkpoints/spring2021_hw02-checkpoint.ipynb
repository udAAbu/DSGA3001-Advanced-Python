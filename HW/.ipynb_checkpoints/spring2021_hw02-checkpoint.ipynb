{
 "cells": [
  {
   "cell_type": "markdown",
   "metadata": {},
   "source": [
    "**Advanced Python for Data Science**  \n",
    "**DS-GA-3001.001/.002/.003**\n",
    "\n",
    "\n",
    "## Homework Assignment 02  \n",
    "**Due date: Feb, 18 2020, 4:00PM**  "
   ]
  },
  {
   "cell_type": "markdown",
   "metadata": {},
   "source": [
    "### Instructions for submitting solutions for assignment 2: \n",
    "\n",
    "- Please submit only one zip file to NYU Classes, which contains **all your python solutions** and **one pdf file** with all of your answers.  \n",
    "\n",
    "- The submitted zip-file name should be as **\"spring2021_sol02_*nyuid*.zip\"**  \n",
    "\n",
    "\n",
    "- **e.g.** If your nyuid is \"ab1234\", the submission is \"spring2021_sol02_ab1234.zip\"  \n",
    "\n",
    "\n",
    "\n"
   ]
  },
  {
   "cell_type": "markdown",
   "metadata": {},
   "source": [
    "# Problem 1. (30pt)\n",
    "\n",
    "Write a function f(n) to calculate the number of ways of representing $n$ as a sum of 1, 2, and 5, where the order of summands is important. For example: \n",
    "\n",
    "---\n",
    "\n",
    "n = 1  \n",
    "1 = 1  \n",
    "f(1) = 1  \n",
    "\n",
    "---\n",
    "\n",
    "n = 2  \n",
    "2 = 1 + 1  \n",
    "2 = 2  \n",
    "f(2) = 2  \n",
    "\n",
    "---\n",
    "\n",
    "n = 3  \n",
    "3 = 1 + 1 + 1  \n",
    "3 = 1 + 2  \n",
    "3 = 2 + 1  \n",
    "f(3) = 3 \n",
    "\n",
    "---\n",
    "\n",
    "n = 5  \n",
    "5 = 1 + 1 + 1 + 1 + 1  \n",
    "5 = 1 + 1 + 1 + 2  \n",
    "5 = 1 + 1 + 2 + 1  \n",
    "5 = 1 + 2 + 1 + 1  \n",
    "5 = 2 + 1 + 1 + 1  \n",
    "5 = 2 + 2 + 1  \n",
    "5 = 2 + 1 + 2  \n",
    "5 = 1 + 2 + 2  \n",
    "5 = 5  \n",
    "f(5) = 9\n",
    "\n",
    "---\n",
    "\n",
    "(10pt) Write a recursive solution f_rec() without memoization and time it for $n=10, 25$.  \n",
    "\n",
    "(10pt) Write a recursive solution with memoization or a wrapper function f_memo() and time it for $n=10, 25, 50, 100$.  \n",
    "\n",
    "(10pt) Write an iterative solution f_it() and time it for $n=10, 25, 50, 100$.  \n",
    "\n"
   ]
  },
  {
   "cell_type": "code",
   "execution_count": 49,
   "metadata": {},
   "outputs": [],
   "source": [
    "def show_result(n_list, func):\n",
    "    for n in n_list:\n",
    "        print(\"n = {} : result {}\".format(n, func(n)))\n",
    "        %timeit func(n)\n",
    "        print('\\n')"
   ]
  },
  {
   "cell_type": "code",
   "execution_count": 50,
   "metadata": {},
   "outputs": [],
   "source": [
    "def f_dec(n):\n",
    "    if n <= 3:\n",
    "        return max(n, 0)\n",
    "    if n == 4:\n",
    "        return 5\n",
    "    if n == 5:\n",
    "        return 9\n",
    "    return f_dec(n - 1) + f_dec(n - 2) + f_dec(n - 5)"
   ]
  },
  {
   "cell_type": "code",
   "execution_count": 52,
   "metadata": {},
   "outputs": [
    {
     "name": "stdout",
     "output_type": "stream",
     "text": [
      "n = 10 : result 128\n",
      "6.35 µs ± 155 ns per loop (mean ± std. dev. of 7 runs, 100000 loops each)\n",
      "\n",
      "\n",
      "n = 25 : result 382396\n",
      "19.4 ms ± 385 µs per loop (mean ± std. dev. of 7 runs, 100 loops each)\n",
      "\n",
      "\n"
     ]
    }
   ],
   "source": [
    "show_result([10, 25], f_dec)"
   ]
  },
  {
   "cell_type": "code",
   "execution_count": 28,
   "metadata": {},
   "outputs": [],
   "source": [
    "def f_memo(n, memo = {}):\n",
    "    if n <= 3:\n",
    "        return max(n, 0)\n",
    "    if n == 4:\n",
    "        return 5\n",
    "    if n == 5:\n",
    "        return 9\n",
    "    if n in memo:\n",
    "        return memo[n]\n",
    "    \n",
    "    memo[n] = f_memo(n - 1, memo) + f_memo(n - 2, memo) + f_memo(n - 5, memo)\n",
    "    return memo[n]"
   ]
  },
  {
   "cell_type": "code",
   "execution_count": 53,
   "metadata": {},
   "outputs": [
    {
     "name": "stdout",
     "output_type": "stream",
     "text": [
      "n = 10 : result 128\n",
      "220 ns ± 4.94 ns per loop (mean ± std. dev. of 7 runs, 1000000 loops each)\n",
      "\n",
      "\n",
      "n = 25 : result 382396\n",
      "224 ns ± 6.5 ns per loop (mean ± std. dev. of 7 runs, 1000000 loops each)\n",
      "\n",
      "\n",
      "n = 50 : result 237139442616\n",
      "226 ns ± 5.18 ns per loop (mean ± std. dev. of 7 runs, 1000000 loops each)\n",
      "\n",
      "\n",
      "n = 100 : result 91197869007632925819218\n",
      "221 ns ± 6.2 ns per loop (mean ± std. dev. of 7 runs, 1000000 loops each)\n",
      "\n",
      "\n"
     ]
    }
   ],
   "source": [
    "show_result([10, 25, 50, 100], f_memo)"
   ]
  },
  {
   "cell_type": "code",
   "execution_count": 57,
   "metadata": {},
   "outputs": [],
   "source": [
    "'''\n",
    "def f_it(n):\n",
    "    if n <= 3:\n",
    "        return max(n, 0)\n",
    "    if n == 4:\n",
    "        return 5\n",
    "    if n == 5:\n",
    "        return 9\n",
    "    \n",
    "    n_ways = [0] * n\n",
    "    #n_ways[:5] = [1, 2, 3, 5, 9]\n",
    "    idx = 5\n",
    "    while idx < n:\n",
    "        n_ways.append(n_ways[idx - 1] + n_ways[idx - 2] + n_ways[idx - 5])\n",
    "        idx += 1\n",
    "    return n_ways[-1]\n",
    "'''"
   ]
  },
  {
   "cell_type": "code",
   "execution_count": 65,
   "metadata": {},
   "outputs": [],
   "source": [
    "def f_it(n):\n",
    "    memo = {\n",
    "        1:1,\n",
    "        2:2,\n",
    "        3:3,\n",
    "        4:5,\n",
    "        5:9\n",
    "    }\n",
    "    \n",
    "    i = 6\n",
    "    while i <= n:\n",
    "        memo[i] = memo[i - 1] + memo[i - 2] + memo[i - 5]\n",
    "        i += 1\n",
    "    return memo[n]"
   ]
  },
  {
   "cell_type": "code",
   "execution_count": 60,
   "metadata": {},
   "outputs": [
    {
     "name": "stdout",
     "output_type": "stream",
     "text": [
      "n = 10 : result 128\n",
      "1.53 µs ± 52.7 ns per loop (mean ± std. dev. of 7 runs, 1000000 loops each)\n",
      "\n",
      "\n",
      "n = 25 : result 382396\n",
      "5.73 µs ± 253 ns per loop (mean ± std. dev. of 7 runs, 100000 loops each)\n",
      "\n",
      "\n",
      "n = 50 : result 237139442616\n",
      "12.4 µs ± 261 ns per loop (mean ± std. dev. of 7 runs, 100000 loops each)\n",
      "\n",
      "\n",
      "n = 100 : result 91197869007632925819218\n",
      "25.9 µs ± 836 ns per loop (mean ± std. dev. of 7 runs, 10000 loops each)\n",
      "\n",
      "\n"
     ]
    }
   ],
   "source": [
    "show_result([10, 25, 50, 100], f_it)"
   ]
  },
  {
   "cell_type": "markdown",
   "metadata": {},
   "source": [
    "# Problem 2. (70%)\n",
    "\n",
    "An astrophysicist colleague was recently complaining about how long it was taking to run an N-body simulation. “It’s really just a simple calculation, and I’m only simulating four planets, but it takes nearly a minute and a half to run one simulation. I really need it done in under 30 seconds.” You kindly offer to take a look at code to see if it is possible to speed it up. Your colleague provides you with a link to the source: https://nyu-cds.github.io/courses/code/nbody.py\n",
    "\n",
    "\n",
    "Although your colleague said the code was simple, it is still fairly complex, so you decide to tackle the problem in stages. A first scan of the code reveals a number of potential areas that could be improved. These include:\n",
    "\n",
    "- Reducing function call overhead\n",
    "\n",
    "- Using alternatives to membership testing of lists \n",
    "\n",
    "- Using local rather than global variables \n",
    "\n",
    "- Using data aggregation to reduce loop overheads.\n",
    "\n",
    "As you’re a cautious programmer, you decide to address each of these in turn. This will ensure that it is possible to check the program is still working correctly after each change, and to assess the performance improvement that the change achieved. You are also aware that the program has to be maintained by others in the future, so you want to make sure that the changes do not make this more difficult, especially if the performance improvement is only minor.\n",
    "\n",
    "For each of these areas, create a new version of nbody.py, call them nbody_1.py, nbody_2.py, nbody_3.py, nbody_4.py. Finally, create another file called nbody_opt.py that contains all of the optimizations you made. \n",
    "\n",
    "\n",
    "Finally, generate a .pdf file with the four logs produced by the command in shell:\n",
    "\n",
    "for f in nbody_*.py; do python -m cProfile -s cumulative $f; done\n",
    "\n",
    "How much speedup do you get (time_original/time_optimized)?\n",
    "\n"
   ]
  },
  {
   "cell_type": "code",
   "execution_count": 86,
   "metadata": {},
   "outputs": [
    {
     "name": "stdout",
     "output_type": "stream",
     "text": [
      "speedup : 5.345689379398593\n"
     ]
    }
   ],
   "source": [
    "time_original = 133.685\n",
    "time_optimized = 25.008\n",
    "speedup = time_original/time_optimized\n",
    "print(\"speedup : {}\".format(speedup))"
   ]
  }
 ],
 "metadata": {
  "kernelspec": {
   "display_name": "Python 3",
   "language": "python",
   "name": "python3"
  },
  "language_info": {
   "codemirror_mode": {
    "name": "ipython",
    "version": 3
   },
   "file_extension": ".py",
   "mimetype": "text/x-python",
   "name": "python",
   "nbconvert_exporter": "python",
   "pygments_lexer": "ipython3",
   "version": "3.8.5"
  }
 },
 "nbformat": 4,
 "nbformat_minor": 2
}
