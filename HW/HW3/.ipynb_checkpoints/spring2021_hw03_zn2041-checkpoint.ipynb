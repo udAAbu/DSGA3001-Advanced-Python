{
 "cells": [
  {
   "cell_type": "markdown",
   "metadata": {},
   "source": [
    "## Homework 03\n",
    "\n",
    "### Due Date: March 1, 2021, 4:00PM\n",
    "\n",
    "### Student's Name: Zhifan Nan\n",
    "\n",
    "### Student's e-mail: zn2041@nyu.edu"
   ]
  },
  {
   "cell_type": "markdown",
   "metadata": {},
   "source": [
    "### Problem 1. (15 points)\n",
    "\n",
    "- 1.1. (5 points)    \n",
    "By using **count from itertools** make a generator which produces all numbers from 0 to 1000 (including the two) divisible by 5. \n",
    "\n",
    "- 1.2. (5 points)  \n",
    "From the obtained generator produce a list of numbers that are not divisible by 25. \n",
    "\n",
    "- 1.3. (5 points)  \n",
    "Print the list and the length of the list.\n",
    "\n",
    "\n"
   ]
  },
  {
   "cell_type": "code",
   "execution_count": 13,
   "metadata": {},
   "outputs": [],
   "source": [
    "from itertools import count\n",
    "def generate_nums(n):\n",
    "    for i in count(start = 0, step = 5):\n",
    "        if i > n:\n",
    "            break\n",
    "        yield i\n",
    "gen = generate_nums(1000)"
   ]
  },
  {
   "cell_type": "code",
   "execution_count": 14,
   "metadata": {},
   "outputs": [],
   "source": [
    "from itertools import filterfalse\n",
    "list_nums = list(filterfalse(lambda x: x % 25 == 0, gen))"
   ]
  },
  {
   "cell_type": "code",
   "execution_count": 18,
   "metadata": {},
   "outputs": [
    {
     "name": "stdout",
     "output_type": "stream",
     "text": [
      "[5, 10, 15, 20, 30, 35, 40, 45, 55, 60, 65, 70, 80, 85, 90, 95, 105, 110, 115, 120, 130, 135, 140, 145, 155, 160, 165, 170, 180, 185, 190, 195, 205, 210, 215, 220, 230, 235, 240, 245, 255, 260, 265, 270, 280, 285, 290, 295, 305, 310, 315, 320, 330, 335, 340, 345, 355, 360, 365, 370, 380, 385, 390, 395, 405, 410, 415, 420, 430, 435, 440, 445, 455, 460, 465, 470, 480, 485, 490, 495, 505, 510, 515, 520, 530, 535, 540, 545, 555, 560, 565, 570, 580, 585, 590, 595, 605, 610, 615, 620, 630, 635, 640, 645, 655, 660, 665, 670, 680, 685, 690, 695, 705, 710, 715, 720, 730, 735, 740, 745, 755, 760, 765, 770, 780, 785, 790, 795, 805, 810, 815, 820, 830, 835, 840, 845, 855, 860, 865, 870, 880, 885, 890, 895, 905, 910, 915, 920, 930, 935, 940, 945, 955, 960, 965, 970, 980, 985, 990, 995]\n",
      "length: 160\n"
     ]
    }
   ],
   "source": [
    "print(list_nums)\n",
    "print(f\"length: {len(list_nums)}\")"
   ]
  },
  {
   "cell_type": "markdown",
   "metadata": {},
   "source": [
    "## Problem 2. (20 points) \n",
    "\n",
    "Write three functions to calculate n! (n factorial) for a given non-negative integer n: \n",
    "\n",
    "- 2.1 (5 points)  \n",
    "f_rec(n) in a recursive way  (in a simplest way without memoization)  \n",
    "\n",
    "- 2.2 (5 points)  \n",
    "- f_it(n) in an iterative way  \n",
    "\n",
    "- 2.3 (10 points)  \n",
    "- f_acc(n) by using \"accumulate\" from itertools. \n",
    "\n",
    "\n",
    "Note the ratios of the expected run-times: \n",
    "1. f_rec(n=1000) and f_it(n=1000)  \n",
    "and \n",
    "2. f_acc(n=1000) and f_it(n=1000)\n"
   ]
  },
  {
   "cell_type": "code",
   "execution_count": 19,
   "metadata": {},
   "outputs": [],
   "source": [
    "def f_rec(n):\n",
    "    if n == 1:\n",
    "        return n\n",
    "    return n * f_rec(n - 1)"
   ]
  },
  {
   "cell_type": "code",
   "execution_count": 22,
   "metadata": {},
   "outputs": [],
   "source": [
    "def f_it(n):\n",
    "    i = 1\n",
    "    res = i\n",
    "    while i < n:\n",
    "        i += 1\n",
    "        res *= i\n",
    "    return res"
   ]
  },
  {
   "cell_type": "code",
   "execution_count": 50,
   "metadata": {},
   "outputs": [],
   "source": [
    "from itertools import accumulate\n",
    "def f_acc(n):\n",
    "    return list(accumulate(range(1, n+1), lambda x,y:x*y))[-1]"
   ]
  },
  {
   "cell_type": "code",
   "execution_count": 46,
   "metadata": {},
   "outputs": [
    {
     "name": "stdout",
     "output_type": "stream",
     "text": [
      "395 µs ± 14 µs per loop (mean ± std. dev. of 7 runs, 1000 loops each)\n",
      "287 µs ± 5.63 µs per loop (mean ± std. dev. of 7 runs, 1000 loops each)\n",
      "318 µs ± 6.83 µs per loop (mean ± std. dev. of 7 runs, 1000 loops each)\n"
     ]
    }
   ],
   "source": [
    "%timeit f_rec(1000)\n",
    "%timeit f_it(1000)\n",
    "%timeit f_acc(1000)"
   ]
  },
  {
   "cell_type": "code",
   "execution_count": 47,
   "metadata": {},
   "outputs": [
    {
     "name": "stdout",
     "output_type": "stream",
     "text": [
      "Ratio of f_rec and f_it: 1.37631\n"
     ]
    }
   ],
   "source": [
    "print(\"Ratio of f_rec and f_it: {:.5f}\".format(395/287))"
   ]
  },
  {
   "cell_type": "code",
   "execution_count": 48,
   "metadata": {},
   "outputs": [
    {
     "name": "stdout",
     "output_type": "stream",
     "text": [
      "Ratio of f_acc and f_it: 1.10801\n"
     ]
    }
   ],
   "source": [
    "print(\"Ratio of f_acc and f_it: {:.5f}\".format(318/287))"
   ]
  },
  {
   "cell_type": "markdown",
   "metadata": {},
   "source": [
    "# Problem 3 (35 points) \n",
    "\n",
    "- 3.1 (5 points)  \n",
    "Write a function  `perm_generator(n)`, which for a given positive integer $n$, returns a generator with all permutations of the set  $\\{0, 1, 2 , \\dots n - 1\\}$.\n",
    "\n",
    "\n",
    "- 3.2 (10 points)  \n",
    "Write a function  `comb_generator(n, k)`, which for given non-negative integers $n, k$ where $n  \\geq k$, returns a generator with all combinations of size $k$ on the set  $\\{0, 1, 2 , \\dots n - 1\\}$.\n",
    "\n",
    "\n",
    "- 3.3 (20 points)    \n",
    "Write a function `h_generator(n)`,  which for a given positive integer $n$, returns a generator with all permutations of the set  $\\{0, 1, 2 , \\dots n - 1\\}$ such that for all  $i = 0, 1, 2, \\dots, n−1$ the number $i$ is not at the $i$-th position. \n",
    "\n",
    "- 3.3. Example: For $n=3$, there are  $3!=6$  permutations $(0, 1, 2), (0, 2, 1), (1, 0, 2), (1, 2, 0), (2, 0, 1), (2, 1, 0)$. And `h_generator(n)` should return the generator with permutations $(1, 2, 0)$ and $(2, 0, 1)$.  For example, $(2, 1, 0)$ cannot be included since here $1$ is at the $1$-st position. \n",
    "\n"
   ]
  },
  {
   "cell_type": "code",
   "execution_count": 1,
   "metadata": {},
   "outputs": [],
   "source": [
    "from itertools import permutations, combinations"
   ]
  },
  {
   "cell_type": "code",
   "execution_count": 2,
   "metadata": {},
   "outputs": [],
   "source": [
    "def perm_generator(n):\n",
    "    return permutations(range(n))"
   ]
  },
  {
   "cell_type": "code",
   "execution_count": 55,
   "metadata": {},
   "outputs": [],
   "source": [
    "def comb_generator(n, k):\n",
    "    return combinations(range(n), r = k)"
   ]
  },
  {
   "cell_type": "code",
   "execution_count": 69,
   "metadata": {},
   "outputs": [],
   "source": [
    "def h_generator(n):\n",
    "    for p in permutations(range(n)):\n",
    "        equal_ix = True\n",
    "        for ix, e in enumerate(p):\n",
    "            if ix == e:\n",
    "                equal_ix = False\n",
    "                break\n",
    "        if equal_ix == True:\n",
    "            yield p"
   ]
  },
  {
   "cell_type": "markdown",
   "metadata": {},
   "source": [
    "## Problem 4 (30 points) \n",
    "\n",
    "\n",
    "By using **starmap** from **itertools** write a function that returns a generator that produces all distances for a given input list of points, in the two-dimensional coordinate system.\n",
    "\n",
    "In more detail, for a given input list of points $\\textrm{list_of_points} = [p_0, p_1, \\dots, p_{n - 1}]$, write a function: \n",
    "\n",
    "$$\\textrm{f_distances(list_of_points)}$$\n",
    "\n",
    "that returns a generator that produces tuples $(p_i, p_j, ||p_i - p_j||)$, (where each tuple stores the point i, point j and their Euclidean distance). (There are $n(n - 1) / 2$ tuples.)\n",
    "\n",
    "\n",
    "For example: \n",
    "\n",
    "- input: For 3 points as $\\textrm{list_of_points} = [(0, 0), (0, 1), (1, 0)]$\n",
    "\n",
    "- output: A generator that produces ${3 \\choose 2} = 3$ tuples: $((0, 0), (0, 1), 1); ((0, 0), (1, 0), 1); ((0, 1), (1, 0), \\sqrt{2})$.\n",
    "\n"
   ]
  },
  {
   "cell_type": "code",
   "execution_count": 7,
   "metadata": {},
   "outputs": [],
   "source": [
    "from itertools import starmap\n",
    "import numpy as np"
   ]
  },
  {
   "cell_type": "code",
   "execution_count": 8,
   "metadata": {},
   "outputs": [],
   "source": [
    "def f_distances(list_of_points):\n",
    "    point_pairs = combinations(list_of_points, 2)\n",
    "    return starmap(lambda x, y: (x, y, ((x[0] - y[0])**2 + (x[1] - y[1])**2)**0.5), point_pairs)"
   ]
  }
 ],
 "metadata": {
  "kernelspec": {
   "display_name": "Python 3",
   "language": "python",
   "name": "python3"
  },
  "language_info": {
   "codemirror_mode": {
    "name": "ipython",
    "version": 3
   },
   "file_extension": ".py",
   "mimetype": "text/x-python",
   "name": "python",
   "nbconvert_exporter": "python",
   "pygments_lexer": "ipython3",
   "version": "3.8.5"
  }
 },
 "nbformat": 4,
 "nbformat_minor": 2
}
