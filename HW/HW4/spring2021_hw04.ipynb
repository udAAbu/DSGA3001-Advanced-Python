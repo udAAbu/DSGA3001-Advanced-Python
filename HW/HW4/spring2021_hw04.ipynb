{
 "cells": [
  {
   "cell_type": "markdown",
   "metadata": {},
   "source": [
    "# Advanced Python for Data Science\n",
    "### DS-GA-3001.001/.002/.003\n",
    "\n",
    "### Homework Assignment 04\n",
    "### Due date: 03/08/2021, 4:00PM\n",
    "### Student's Name: Zhifan Nan\n",
    "### Student's e-mail: zn2041@nyu.edu"
   ]
  },
  {
   "cell_type": "markdown",
   "metadata": {},
   "source": [
    "# Problem 1 (100 points)\n",
    "\n",
    "The task is to optimize your solutions by using \"line_profiler\". \n",
    "\n",
    "Your submission \"spring2021_sol04_yourid.ipynb\" will contain:\n",
    "- the first part is your original solution (a solution that you originally wrote); \n",
    "- the second part is your final, optimized solution after using line_profiler; \n",
    "- both of which will include the line_profiler results, and your detailed comments.\n",
    "\n",
    "\n",
    "The problem is to simulate a random motion of $n$ objects over a discrete time. \n",
    "\n",
    "Concretely, there is:\n",
    "- a unit square $[0,1]^2$, \n",
    "- $n$ points within the unit square, \n",
    "- and the time is discrete $t=0, 1, 2, \\dots$. \n",
    "\n",
    "At time $t=0$, the positions of $n$ points are randomly and uniformly distributed within the unit square; call these positions $\\{p_0, p_1, p_2,\\dots, p_{n-1}\\}$. \n",
    "\n",
    "At every time step $t \\geq 0$, every point $i$, chooses to randomly move in one of four directions: left, right, up, down. The distance is also random uniform number on $[0, \\delta]$, where $\\delta$ is given. \n",
    "\n",
    "That is, at every time step $t$ and for every $i$ we generate a random move as: \n",
    "$$ p_i := p_i + r_i \\cdot u_i$$\n",
    "where \n",
    "$$ r_i \\sim uniform[0, \\delta],$$ \n",
    "and \n",
    "$u_i$ represents a random direction, i.e. a randomly chosen vector among $(-1, 0), (1, 0), (0, -1), (0, 1)$.\n",
    "\n",
    "**Dynamics**\n",
    "\n",
    "Now, one would like to examine and plot the diagram of the minimum distance $d_{\\min}$ among these $n$ points over $T$ iterations.\n",
    "\n",
    "The task is to complete the rest of this notebook, where definitions of the functions main_orignal and main_optimized are given below. "
   ]
  },
  {
   "cell_type": "code",
   "execution_count": 2,
   "metadata": {},
   "outputs": [],
   "source": [
    "import numpy as np\n",
    "import random\n",
    "import matplotlib.pyplot as plt"
   ]
  },
  {
   "cell_type": "code",
   "execution_count": 3,
   "metadata": {},
   "outputs": [],
   "source": [
    "%load_ext line_profiler"
   ]
  },
  {
   "cell_type": "markdown",
   "metadata": {},
   "source": [
    "---\n",
    "\n",
    "### The original code description: \n",
    "\n",
    "Walkthrough: In this naive solution, for every time stamp, I used a nested loop to iterate through 1000 data points and find the minimum distance, which should has a time complexity of $O(n^{2})$. And then, I used a for loop to update each data point one by one, and only update those that are still within the boundary after moving. \n",
    "\n",
    "Comments: After profiling the code, the whole function takes around 103s, and finding the minimum distance is the most time consuming part, which takes more than 90 percent of the total running time. Updating the positions of data points also took a bit long than I expect, so these are the two parts that I will focus on optimizing.\n",
    "\n",
    "---\n"
   ]
  },
  {
   "cell_type": "code",
   "execution_count": 53,
   "metadata": {},
   "outputs": [],
   "source": [
    "def main_original(n, delta, T): \n",
    "    \"\"\" \n",
    "    n: is the number of uniformly at random generated points in the unit square \n",
    "    delta: a maximal move of a point in one of four random directions: left, right, up, or down \n",
    "    T: number of iterations\n",
    "    return: \n",
    "    lst_of_min_distances: of the minimum distances among all n points over times: t=0, 1, 2, \\dots, T - 1,\n",
    "    it is a list of reals of length T\"\"\"\n",
    "    pts = np.random.uniform(0, 1, size = (n, 2))\n",
    "    u = np.array([[1,0], [0,1], [-1,0], [0,-1]])\n",
    "    lst_of_min_d = []\n",
    "    \n",
    "    for _ in range(T):\n",
    "        \n",
    "        min_d = np.sqrt(2)\n",
    "        for i in range(n):\n",
    "            for j in range(i+1, n):\n",
    "                min_d = min(min_d, np.sqrt((pts[i][0] - pts[j][0])**2 + (pts[i][1] - pts[j][1])**2))\n",
    "        lst_of_min_d.append(min_d)\n",
    "        \n",
    "        for pt in pts:\n",
    "            u_i = u[np.random.randint(4)]\n",
    "            d_i = np.random.uniform(0, delta, 1)\n",
    "            move = u_i * d_i\n",
    "            temp = pt + move\n",
    "            if temp[0] >= 0 and temp[0] <= 1 and temp[1] >= 0 and temp[1] <= 1:\n",
    "                pt += move\n",
    "\n",
    "    return lst_of_min_d"
   ]
  },
  {
   "cell_type": "code",
   "execution_count": 54,
   "metadata": {},
   "outputs": [],
   "source": [
    "n = 1500\n",
    "delta = 1.0 / n\n",
    "T = 20"
   ]
  },
  {
   "cell_type": "code",
   "execution_count": 55,
   "metadata": {},
   "outputs": [],
   "source": [
    "%lprun -f main_original lst_min_dist = main_original(n, delta, T)"
   ]
  },
  {
   "cell_type": "code",
   "execution_count": null,
   "metadata": {},
   "outputs": [],
   "source": [
    "Timer unit: 1e-07 s\n",
    "\n",
    "Total time: 103.287 s\n",
    "File: <ipython-input-53-e8002aabfd8c>\n",
    "Function: main_original at line 1\n",
    "\n",
    "Line #      Hits         Time  Per Hit   % Time  Line Contents\n",
    "==============================================================\n",
    "     1                                           def main_original(n, delta, T): \n",
    "     2                                               \"\"\" \n",
    "     3                                               n: is the number of uniformly at random generated points in the unit square \n",
    "     4                                               delta: a maximal move of a point in one of four random directions: left, right, up, or down \n",
    "     5                                               T: number of iterations\n",
    "     6                                               return: \n",
    "     7                                               lst_of_min_distances: of the minimum distances among all n points over times: t=0, 1, 2, \\dots, T - 1,\n",
    "     8                                               it is a list of reals of length T\"\"\"\n",
    "     9         1       1695.0   1695.0      0.0      pts = np.random.uniform(0, 1, size = (n, 2))\n",
    "    10         1        114.0    114.0      0.0      u = np.array([[1,0], [0,1], [-1,0], [0,-1]])\n",
    "    11         1          4.0      4.0      0.0      lst_of_min_d = []\n",
    "    12                                               \n",
    "    13        21        133.0      6.3      0.0      for _ in range(T):\n",
    "    14                                                   \n",
    "    15        20        911.0     45.5      0.0          min_d = np.sqrt(2)\n",
    "    16     30020     106039.0      3.5      0.0          for i in range(n):\n",
    "    17  22515000   81603481.0      3.6      7.9              for j in range(i+1, n):\n",
    "    18  22485000  946417911.0     42.1     91.6                  min_d = min(min_d, np.sqrt((pts[i][0] - pts[j][0])**2 + (pts[i][1] - pts[j][1])**2))\n",
    "    19        20        419.0     20.9      0.0          lst_of_min_d.append(min_d)\n",
    "    20                                                   \n",
    "    21     30020     180246.0      6.0      0.0          for pt in pts:\n",
    "    22     30000    1235379.0     41.2      0.1              u_i = u[np.random.randint(4)]\n",
    "    23     30000    1239699.0     41.3      0.1              d_i = np.random.uniform(0, delta, 1)\n",
    "    24     30000     720653.0     24.0      0.1              move = u_i * d_i\n",
    "    25     30000     290219.0      9.7      0.0              temp = pt + move\n",
    "    26     30000     613973.0     20.5      0.1              if temp[0] >= 0 and temp[0] <= 1 and temp[1] >= 0 and temp[1] <= 1:\n",
    "    27     29994     459908.0     15.3      0.0                  pt += move\n",
    "    28                                           \n",
    "    29         1          8.0      8.0      0.0      return lst_of_min_d"
   ]
  },
  {
   "cell_type": "code",
   "execution_count": 10,
   "metadata": {},
   "outputs": [
    {
     "name": "stdout",
     "output_type": "stream",
     "text": [
      "len: 20\n"
     ]
    },
    {
     "data": {
      "image/png": "[encoded data removed]",
      "text/plain": [
       "<Figure size 432x288 with 1 Axes>"
      ]
     },
     "metadata": {
      "needs_background": "light"
     },
     "output_type": "display_data"
    }
   ],
   "source": [
    "# plot the diagram of the minimum distances:\n",
    "# where we rescale distance with by factor $\\sqrt{n}$:\n",
    "print(\"len:\", len(lst_min_dist))\n",
    "plt.plot(range(T), np.array(lst_min_dist) * np.sqrt(n))\n",
    "plt.show()"
   ]
  },
  {
   "cell_type": "markdown",
   "metadata": {},
   "source": [
    "---\n",
    "\n",
    "### The optimized code description: \n",
    "\n",
    "Walkthrough: In this optimized solution, At each timestamp t, instead of updating points one by one, I generate all the updating steps using numpy 2d array's element-wise multiplication, and only update those points that are within the boundary after moving. Then I generate a distance matrix using numpy broadcasting and fill the diagonal with inf so that I can find a valid minimum value in the distance matrix, otherwise the minimum value will always be 0 on the diagonal. \n",
    "\n",
    "Comments: We got huge improvement by decreasing the running time to 2.8s, which is mostly saved by numpy's operation. First I replace the nested for loop by deriving a distance matrix and also update all points at the same time instead of update them one by one. \n",
    "\n",
    "---\n"
   ]
  },
  {
   "cell_type": "code",
   "execution_count": 94,
   "metadata": {},
   "outputs": [],
   "source": [
    "def main_optimized(n, delta, T): \n",
    "    \"\"\" \n",
    "    n: is the number of uniformly at random generated points in the unit square \n",
    "    delta: a maximal move of a point in one of four random directions: left, right, up, or down \n",
    "    T: number of iterations\n",
    "    return: \n",
    "    lst_of_min_distances: of the minimum distances among all n points over times: t=0, 1, 2, \\dots, T - 1,\n",
    "    it is a list of reals of length T\"\"\"\n",
    "    curr_pts = np.random.uniform(0, 1, size = (n, 2))\n",
    "    u = np.array([[1,0], [0,1], [-1,0], [0,-1]])\n",
    "    lst_of_min_d = []\n",
    "    \n",
    "    def populate_u(x):\n",
    "        return u[x]\n",
    "    \n",
    "    def bound_check(pt):\n",
    "        if pt[0] >= 0 and pt[1] >= 0 and pt[0] <= 1 and pt[1] <= 1:\n",
    "            return True\n",
    "        return False\n",
    "    \n",
    "    for t in range(T):\n",
    "        ix_mat = np.random.randint(0, 4, size = n)\n",
    "        u_mat = populate_u(ix_mat)\n",
    "        delta_mat = np.random.uniform(0, delta, size = (n, 2))\n",
    "        move_mat = u_mat * delta_mat\n",
    "        \n",
    "        temp_update = curr_pts + move_mat\n",
    "        good_move = [i for i in range(n) if bound_check(temp_update[i])]\n",
    "        curr_pts[good_move] += move_mat[good_move]\n",
    "        \n",
    "        dist_matrix = np.sqrt(np.sum((curr_pts.reshape(1, n, 2) - curr_pts.reshape(n, 1, 2))**2, -1))\n",
    "        np.fill_diagonal(dist_matrix, np.inf)\n",
    "        lst_of_min_d.append(dist_matrix.min())\n",
    "        \n",
    "    return lst_of_min_d"
   ]
  },
  {
   "cell_type": "code",
   "execution_count": 95,
   "metadata": {},
   "outputs": [],
   "source": [
    "n = 1500\n",
    "delta = 1.0 / n\n",
    "T = 40"
   ]
  },
  {
   "cell_type": "code",
   "execution_count": 96,
   "metadata": {},
   "outputs": [],
   "source": [
    "%lprun -f main_optimized lst_min_dist = main_optimized(n, delta, T)"
   ]
  },
  {
   "cell_type": "code",
   "execution_count": null,
   "metadata": {},
   "outputs": [],
   "source": [
    "Timer unit: 1e-07 s\n",
    "\n",
    "Total time: 2.80005 s\n",
    "File: <ipython-input-85-f03971f915ed>\n",
    "Function: main_optimized at line 1\n",
    "\n",
    "Line #      Hits         Time  Per Hit   % Time  Line Contents\n",
    "==============================================================\n",
    "     1                                           def main_optimized(n, delta, T): \n",
    "     2                                               \"\"\" \n",
    "     3                                               n: is the number of uniformly at random generated points in the unit square \n",
    "     4                                               delta: a maximal move of a point in one of four random directions: left, right, up, or down \n",
    "     5                                               T: number of iterations\n",
    "     6                                               return: \n",
    "     7                                               lst_of_min_distances: of the minimum distances among all n points over times: t=0, 1, 2, \\dots, T - 1,\n",
    "     8                                               it is a list of reals of length T\"\"\"\n",
    "     9         1        453.0    453.0      0.0      curr_pts = np.random.uniform(0, 1, size = (n, 2))\n",
    "    10         1         80.0     80.0      0.0      u = np.array([[1,0], [0,1], [-1,0], [0,-1]])\n",
    "    11         1          7.0      7.0      0.0      lst_of_min_d = []\n",
    "    12                                               \n",
    "    13         1          8.0      8.0      0.0      def populate_u(x):\n",
    "    14                                                   return u[x]\n",
    "    15                                               \n",
    "    16         1          6.0      6.0      0.0      def bound_check(pt):\n",
    "    17                                                   if pt[0] >= 0 and pt[1] >= 0 and pt[0] <= 1 and pt[1] <= 1:\n",
    "    18                                                       return True\n",
    "    19                                                   return False\n",
    "    20                                               \n",
    "    21        41        504.0     12.3      0.0      for t in range(T):\n",
    "    22        40      23597.0    589.9      0.1          ix_mat = np.random.randint(0, 4, size = n)\n",
    "    23        40      10917.0    272.9      0.0          u_mat = populate_u(ix_mat)\n",
    "    24        40      14224.0    355.6      0.1          delta_mat = np.random.uniform(0, delta, size = (n, 2))\n",
    "    25        40       4925.0    123.1      0.0          move_mat = u_mat * delta_mat\n",
    "    26                                                   \n",
    "    27        40       4204.0    105.1      0.0          temp_update = curr_pts + move_mat\n",
    "    28        40    1236210.0  30905.2      4.4          good_move = [i for i in range(n) if bound_check(temp_update[i])]\n",
    "    29        40     116971.0   2924.3      0.4          curr_pts[good_move] += move_mat[good_move]\n",
    "    30                                                   \n",
    "    31        40   26099828.0 652495.7     93.2          dist_matrix = np.sqrt(np.sum((curr_pts.reshape(1, n, 2) - curr_pts.reshape(n, 1, 2))**2, -1))\n",
    "    32        40      17440.0    436.0      0.1          np.fill_diagonal(dist_matrix, np.inf)\n",
    "    33        40     471116.0  11777.9      1.7          lst_of_min_d.append(dist_matrix.min())\n",
    "    34                                                   \n",
    "    35         1          6.0      6.0      0.0      return lst_of_min_d"
   ]
  },
  {
   "cell_type": "code",
   "execution_count": 97,
   "metadata": {},
   "outputs": [
    {
     "name": "stdout",
     "output_type": "stream",
     "text": [
      "len: 40\n"
     ]
    },
    {
     "data": {
      "image/png": "[encoded data removed]",
      "text/plain": [
       "<Figure size 432x288 with 1 Axes>"
      ]
     },
     "metadata": {
      "needs_background": "light"
     },
     "output_type": "display_data"
    }
   ],
   "source": [
    "# plot the diagram of the minimum distances:\n",
    "# where we rescale distance by a factor $\\sqrt{n}$:\n",
    "print(\"len:\", len(lst_min_dist))\n",
    "plt.plot(range(T), np.array(lst_min_dist) * np.sqrt(n))\n",
    "plt.show()"
   ]
  },
  {
   "cell_type": "code",
   "execution_count": null,
   "metadata": {},
   "outputs": [],
   "source": []
  }
 ],
 "metadata": {
  "kernelspec": {
   "display_name": "Python 3",
   "language": "python",
   "name": "python3"
  },
  "language_info": {
   "codemirror_mode": {
    "name": "ipython",
    "version": 3
   },
   "file_extension": ".py",
   "mimetype": "text/x-python",
   "name": "python",
   "nbconvert_exporter": "python",
   "pygments_lexer": "ipython3",
   "version": "3.8.5"
  }
 },
 "nbformat": 4,
 "nbformat_minor": 2
}
