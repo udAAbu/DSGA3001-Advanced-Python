{
 "cells": [
  {
   "cell_type": "markdown",
   "metadata": {
    "id": "1tXXm6B3ErGD"
   },
   "source": [
    "### Homework 07: Concurrency\n",
    "\n",
    "## Due Date: Apr 5, 2021, 04:00pm\n",
    "\n",
    "#### Firstname Lastname: \n",
    "\n",
    "#### E-mail: \n",
    "\n",
    "#### Enter your solutions and submit this notebook\n"
   ]
  },
  {
   "cell_type": "markdown",
   "metadata": {
    "id": "U86s_oFKErGE"
   },
   "source": [
    "---\n",
    "\n",
    "**Problem 1** **(60 Points)**\n",
    "\n",
    "Let us consider the Gamma function, or the Euler integral of the second kind: \n",
    "\n",
    "$$\\Gamma(x) = \\int_{0} ^ \\infty t ^{x - 1} e^{-t} dt, $$\n",
    "\n",
    "and in this HW we consider real $x > 0$."
   ]
  },
  {
   "cell_type": "markdown",
   "metadata": {
    "id": "0L0m75kLErGF"
   },
   "source": [
    "(Here is more on the Gamma function https://en.wikipedia.org/wiki/Gamma_function .\n",
    "It is not needed for this HW assignment.) "
   ]
  },
  {
   "cell_type": "markdown",
   "metadata": {
    "id": "5Hgk8nJZErGF"
   },
   "source": [
    "**1.1 (Points 15)**: \n",
    "\n",
    "Write a function (in the cell below) that sequentially calculates the given Gamma integral.\n"
   ]
  },
  {
   "cell_type": "code",
   "execution_count": 1,
   "metadata": {
    "id": "ofGjG7lxErGF"
   },
   "outputs": [],
   "source": [
    "import numpy as np\n",
    "\n",
    "def calculate_gamma(x, bound_1, bound_2, number_of_steps):\n",
    "    res, t = 0, bound_1\n",
    "    step = (bound_2 - bound_1)/number_of_steps\n",
    "    \n",
    "    while t <= bound_2:\n",
    "        res += t ** (x - 1) * np.exp(-t) * step\n",
    "        t += step\n",
    "\n",
    "    return res"
   ]
  },
  {
   "cell_type": "markdown",
   "metadata": {
    "id": "XK0v5X9-ErGF"
   },
   "source": [
    "**1.2 (Points 5)** \n",
    "\n",
    "Evaluate, $\\Gamma(6)$ by using `calculate_gamma(x, bound_1, bound_2, number_of_steps)` and the error of this computation.\n",
    "\n",
    "\n",
    "As arguments, use `x=6, bound_1=0, bound_2=1000, number_of_steps=10_000_000`. We know that $\\Gamma(x) = x!$, so $\\Gamma(6) = 5! = 120$. \n"
   ]
  },
  {
   "cell_type": "code",
   "execution_count": 2,
   "metadata": {
    "colab": {
     "base_uri": "https://localhost:8080/"
    },
    "id": "bvve0CMPErGG",
    "outputId": "0a122053-e578-4bf3-f720-237e1a41fe70"
   },
   "outputs": [
    {
     "name": "stdout",
     "output_type": "stream",
     "text": [
      "finished in 16.18636441230774s\n"
     ]
    }
   ],
   "source": [
    "import time\n",
    "\n",
    "start = time.time()\n",
    "gamma_6 = calculate_gamma(x = 6, bound_1 = 0, bound_2 = 2000, number_of_steps=10000000)\n",
    "end = time.time()\n",
    "print(\"finished in {}s\".format(end - start))"
   ]
  },
  {
   "cell_type": "code",
   "execution_count": 3,
   "metadata": {
    "colab": {
     "base_uri": "https://localhost:8080/"
    },
    "id": "oeDpXzzlErGG",
    "outputId": "ca7c8f5a-2c47-4033-9053-5dc23cbbc79c"
   },
   "outputs": [
    {
     "name": "stdout",
     "output_type": "stream",
     "text": [
      "result: 119.99999999987826, error: 1.2174439234513557e-10\n"
     ]
    }
   ],
   "source": [
    "print(\"result: {}, error: {}\".format(gamma_6, 120 - gamma_6))"
   ]
  },
  {
   "cell_type": "markdown",
   "metadata": {
    "id": "XiFbyL4XErGG"
   },
   "source": [
    "---\n",
    "\n",
    "Write two functions to calculate $\\Gamma(x)$ by using:\n",
    "\n",
    "\n",
    "\n",
    "**1.3.1 (Points 15)**\n",
    "**threading** with N=4 threads; \n",
    "\n",
    "**1.3.2 (Points 15)**\n",
    "**multiprocessing** with N=4 processes. \n",
    "\n",
    "\n",
    "**1.3.3 (Points 10)** \n",
    "Compare the times of the three versions and write a short explanation of what you are observing.\n",
    "\n",
    "How does the answer change when N=8 and why?\n",
    "\n",
    "    "
   ]
  },
  {
   "cell_type": "markdown",
   "metadata": {
    "id": "ot25V8Ho3gKe"
   },
   "source": [
    "### 1.3.1"
   ]
  },
  {
   "cell_type": "code",
   "execution_count": 4,
   "metadata": {
    "id": "AL3VeRAGErGH"
   },
   "outputs": [],
   "source": [
    "import concurrent.futures\n",
    "import time\n",
    "\n",
    "def calculate_gamma_threading(x, bound_1, bound_2, number_of_steps, num_threads):\n",
    "    chunk_size = (bound_2 - bound_1)/num_threads\n",
    "    x_iter = [x] * num_threads\n",
    "    num_steps = [number_of_steps/num_threads] * num_threads\n",
    "    \n",
    "    starts, ends = [], []\n",
    "    for i in range(num_threads):\n",
    "        start = bound_1 + i * chunk_size\n",
    "        end = bound_1 + (i + 1) * chunk_size\n",
    "        if end <= bound_2:\n",
    "            starts.append(start)\n",
    "            ends.append(end)\n",
    "    \n",
    "    time1 = time.time()\n",
    "    \n",
    "    with concurrent.futures.ThreadPoolExecutor(max_workers=num_threads) as executor:\n",
    "        results = executor.map(calculate_gamma, x_iter, starts, ends, num_steps)\n",
    "    \n",
    "    time2 = time.time()\n",
    "    print(\"finished in {}\".format(time2 - time1))\n",
    "    return 'result: {}'.format(sum(results))"
   ]
  },
  {
   "cell_type": "code",
   "execution_count": 5,
   "metadata": {
    "colab": {
     "base_uri": "https://localhost:8080/",
     "height": 52
    },
    "id": "vQEwAEvkErGH",
    "outputId": "404dd765-85f0-449c-fd79-1f3c8748cafd"
   },
   "outputs": [
    {
     "name": "stdout",
     "output_type": "stream",
     "text": [
      "finished in 16.21132731437683\n"
     ]
    },
    {
     "data": {
      "application/vnd.google.colaboratory.intrinsic+json": {
       "type": "string"
      },
      "text/plain": [
       "'result: 119.99999999987826'"
      ]
     },
     "execution_count": 5,
     "metadata": {
      "tags": []
     },
     "output_type": "execute_result"
    }
   ],
   "source": [
    "# N = 4\n",
    "calculate_gamma_threading(x = 6, bound_1 = 0, bound_2 = 2000, number_of_steps=10000000, num_threads = 4)"
   ]
  },
  {
   "cell_type": "code",
   "execution_count": 6,
   "metadata": {
    "colab": {
     "base_uri": "https://localhost:8080/",
     "height": 52
    },
    "id": "afNJE8VFJ-wy",
    "outputId": "e2a137dc-b625-44e5-818b-8ca16661a14b"
   },
   "outputs": [
    {
     "name": "stdout",
     "output_type": "stream",
     "text": [
      "finished in 16.148525714874268\n"
     ]
    },
    {
     "data": {
      "application/vnd.google.colaboratory.intrinsic+json": {
       "type": "string"
      },
      "text/plain": [
       "'result: 119.99999999987826'"
      ]
     },
     "execution_count": 6,
     "metadata": {
      "tags": []
     },
     "output_type": "execute_result"
    }
   ],
   "source": [
    "# N = 8\n",
    "calculate_gamma_threading(x = 6, bound_1 = 0, bound_2 = 2000, number_of_steps=10000000, num_threads = 8)"
   ]
  },
  {
   "cell_type": "markdown",
   "metadata": {
    "id": "vDzCCF983juH"
   },
   "source": [
    "### 1.3.2"
   ]
  },
  {
   "cell_type": "code",
   "execution_count": 8,
   "metadata": {
    "id": "QnmqQ_VbErGJ"
   },
   "outputs": [],
   "source": [
    "from multiprocessing.pool import Pool\n",
    "import time\n",
    "\n",
    "def calculate_gamma_pool(x, bound_1, bound_2, number_of_steps, num_processes):\n",
    "    chunk_size = (bound_2 - bound_1)/num_processes\n",
    "    chunk_steps = number_of_steps/num_processes\n",
    "    \n",
    "    bounds = []\n",
    "    for i in range(num_processes):\n",
    "        start = bound_1 + i * chunk_size\n",
    "        end = bound_1 + (i + 1) * chunk_size\n",
    "        if end <= bound_2:\n",
    "            bounds.append((x, start, end, chunk_steps))\n",
    "    \n",
    "    time1 = time.time()\n",
    "    \n",
    "    with Pool(num_processes) as pool:\n",
    "        result = pool.starmap(calculate_gamma, bounds)\n",
    "        \n",
    "    time2 = time.time()\n",
    "    print(\"finished in {}\".format(time2 - time1))\n",
    "    return 'result: {}'.format(sum(result))"
   ]
  },
  {
   "cell_type": "code",
   "execution_count": 9,
   "metadata": {
    "colab": {
     "base_uri": "https://localhost:8080/",
     "height": 52
    },
    "id": "lfE5dFJLErGJ",
    "outputId": "468f5629-2d10-47bd-b94e-a374388e7fd4"
   },
   "outputs": [
    {
     "name": "stdout",
     "output_type": "stream",
     "text": [
      "finished in 4.351138353347778\n"
     ]
    },
    {
     "data": {
      "application/vnd.google.colaboratory.intrinsic+json": {
       "type": "string"
      },
      "text/plain": [
       "'result: 119.99999999987826'"
      ]
     },
     "execution_count": 9,
     "metadata": {
      "tags": []
     },
     "output_type": "execute_result"
    }
   ],
   "source": [
    "# N = 4\n",
    "calculate_gamma_pool(x = 6, bound_1 = 0, bound_2 = 2000, number_of_steps=10000000, num_processes=4)"
   ]
  },
  {
   "cell_type": "code",
   "execution_count": 10,
   "metadata": {
    "colab": {
     "base_uri": "https://localhost:8080/",
     "height": 52
    },
    "id": "Y-WLMM-dJ7cR",
    "outputId": "52cc2211-9421-4e06-f22c-417421eb29cd"
   },
   "outputs": [
    {
     "name": "stdout",
     "output_type": "stream",
     "text": [
      "finished in 2.250614881515503\n"
     ]
    },
    {
     "data": {
      "application/vnd.google.colaboratory.intrinsic+json": {
       "type": "string"
      },
      "text/plain": [
       "'result: 119.99999999987826'"
      ]
     },
     "execution_count": 10,
     "metadata": {
      "tags": []
     },
     "output_type": "execute_result"
    }
   ],
   "source": [
    "# N = 8\n",
    "calculate_gamma_pool(x = 6, bound_1 = 0, bound_2 = 2000, number_of_steps=10000000, num_processes=8)"
   ]
  },
  {
   "cell_type": "markdown",
   "metadata": {
    "id": "o_qceeQW3o97"
   },
   "source": [
    "### 1.3.3"
   ]
  },
  {
   "cell_type": "markdown",
   "metadata": {
    "id": "p4XVTYLoKCbp"
   },
   "source": [
    "In this task, using multiprocessing is much faster than the other two approaches because the main bottleneck of this task is the CPU bound. Using any number of thread does not really help speeding up the task because it still needs to wait previous thread to finish the computation and then the next thread can start working, which just makes things sequential. While using multiprocessing, we have multiple CPU cores to work on parallel tasks simultaneously, which makes the speed much faster. It becomes even faster when we use more cores. "
   ]
  },
  {
   "cell_type": "markdown",
   "metadata": {
    "id": "TFO2dLEFErGJ"
   },
   "source": [
    "---\n",
    "\n",
    "**Problem 2 (40 points)**\n",
    "\n",
    "__Website uptime__ is the time that a website or web service is available to the users over a given period.\n",
    "\n",
    "The task is to build an application that checks the uptime of websites. \n",
    "\n",
    "- The application should go over a list of website URLs and checks if those websites are up.\n",
    "- Instead of performing a classic HTTP GET request, it performs a HEAD request so that it does not affect traffic significantly.\n",
    "- If the HTTP status is in the danger ranges (400+, 500+), a message is casted. \n",
    "\n",
    "Here are some useful functions:"
   ]
  },
  {
   "cell_type": "code",
   "execution_count": 11,
   "metadata": {
    "id": "lSmo6fNnErGK"
   },
   "outputs": [],
   "source": [
    "#### _website uptimer_ ####\n",
    "\n",
    "import time\n",
    "import logging\n",
    "import requests\n",
    " \n",
    "class WebsiteDownException(Exception):\n",
    "    pass\n",
    " \n",
    "def ping_website(address, timeout=20):\n",
    "    \"\"\"\n",
    "    Check if a website is down. A website is considered down \n",
    "    if either the status_code >= 400 or if the timeout expires\n",
    "     \n",
    "    Throw a WebsiteDownException if any of the website down conditions are met\n",
    "    \"\"\"\n",
    "    try:\n",
    "        response = requests.head(address, timeout=timeout)\n",
    "        if response.status_code >= 400:\n",
    "            logging.warning(\"Website %s returned status_code=%s\" % (address, response.status_code))\n",
    "            raise WebsiteDownException()\n",
    "    except requests.exceptions.RequestException:\n",
    "        logging.warning(\"Timeout expired for website %s\" % address)\n",
    "        raise WebsiteDownException()\n",
    "         \n",
    "def check_website(address):\n",
    "    \"\"\"\n",
    "    Utility function: check if a website is down, if so, notify the user\n",
    "    \"\"\"\n",
    "    try:\n",
    "        ping_website(address)\n",
    "    except WebsiteDownException:\n",
    "        print('The websie ' + address + ' is down')"
   ]
  },
  {
   "cell_type": "markdown",
   "metadata": {
    "id": "L9ZfwCd9ErGK"
   },
   "source": [
    "---\n",
    "\n",
    "You need a website list to try our system out. Create your own list or use the following one. \n",
    "\n",
    "---"
   ]
  },
  {
   "cell_type": "code",
   "execution_count": 12,
   "metadata": {
    "id": "gGzADGcLErGK"
   },
   "outputs": [],
   "source": [
    "WEBSITE_LIST = [\n",
    "    'http://amazon.co.uk',\n",
    "    'http://amazon.com',\n",
    "    'http://facebook.com',\n",
    "    'http://google.com',\n",
    "    'http://google.fr',\n",
    "    'http://google.es',\n",
    "    'http://google.co.uk',\n",
    "    'http://gmail.com',\n",
    "    'http://stackoverflow.com',\n",
    "    'http://github.com',\n",
    "    'http://heroku.com',\n",
    "    'http://really-cool-available-domain.com',\n",
    "    'http://djangoproject.com',\n",
    "    'http://rubyonrails.org',\n",
    "    'http://basecamp.com',\n",
    "    'http://trello.com',\n",
    "    'http://shopify.com',\n",
    "    'http://another-really-interesting-domain.co',\n",
    "    'http://airbnb.com',\n",
    "    'http://instagram.com',\n",
    "    'http://snapchat.com',\n",
    "    'http://youtube.com',\n",
    "    'http://baidu.com',\n",
    "    'http://yahoo.com',\n",
    "    'http://live.com',\n",
    "    'http://linkedin.com',\n",
    "    'http://netflix.com',\n",
    "    'http://wordpress.com',\n",
    "    'http://bing.com',\n",
    "]"
   ]
  },
  {
   "cell_type": "markdown",
   "metadata": {
    "id": "QGyamHtHErGL"
   },
   "source": [
    "---\n",
    "\n",
    "A serial version of the _website uptimer_ can be written as: \n",
    "\n",
    "---\n"
   ]
  },
  {
   "cell_type": "markdown",
   "metadata": {
    "id": "6--WBEVpErGL"
   },
   "source": [
    "You should build two versions of the **website uptimer**, by using:\n",
    "\n",
    "**2.1 (Points 15)**\n",
    "**threading** with N=4 threads; \n",
    "\n",
    "**2.2 (Points 15)**\n",
    "**multiprocessing** with N=4 processes. \n",
    "\n",
    "\n",
    "**2.3 (Points 10)** \n",
    "\n",
    "Compare the times of the three versions and write a short explanation of what you are observing.\n",
    "\n",
    "How does the answer change when N=8 and why?\n"
   ]
  },
  {
   "cell_type": "code",
   "execution_count": 13,
   "metadata": {
    "colab": {
     "base_uri": "https://localhost:8080/"
    },
    "id": "JvhTzcO8ErGL",
    "outputId": "08d122e0-1c85-41ae-f3b6-1d4f3aa47aa0"
   },
   "outputs": [
    {
     "name": "stderr",
     "output_type": "stream",
     "text": [
      "WARNING:root:Timeout expired for website http://really-cool-available-domain.com\n"
     ]
    },
    {
     "name": "stdout",
     "output_type": "stream",
     "text": [
      "The websie http://really-cool-available-domain.com is down\n"
     ]
    },
    {
     "name": "stderr",
     "output_type": "stream",
     "text": [
      "WARNING:root:Timeout expired for website http://another-really-interesting-domain.co\n"
     ]
    },
    {
     "name": "stdout",
     "output_type": "stream",
     "text": [
      "The websie http://another-really-interesting-domain.co is down\n",
      "Time for Serial: 2.4581668376922607secs\n"
     ]
    }
   ],
   "source": [
    "import time\n",
    " \n",
    "start_time = time.time()\n",
    " \n",
    "for address in WEBSITE_LIST:\n",
    "    check_website(address)\n",
    "         \n",
    "end_time = time.time()        \n",
    " \n",
    "print(\"Time for Serial: %ssecs\" % (end_time - start_time))"
   ]
  },
  {
   "cell_type": "markdown",
   "metadata": {
    "id": "kK7JKrej3159"
   },
   "source": [
    "### 2.1"
   ]
  },
  {
   "cell_type": "code",
   "execution_count": 14,
   "metadata": {
    "colab": {
     "base_uri": "https://localhost:8080/"
    },
    "id": "gqwdk7uSGVuC",
    "outputId": "f904f5f1-150d-460c-f452-2c390dc2f032"
   },
   "outputs": [
    {
     "name": "stderr",
     "output_type": "stream",
     "text": [
      "WARNING:root:Timeout expired for website http://really-cool-available-domain.com\n",
      "WARNING:root:Timeout expired for website http://another-really-interesting-domain.co\n"
     ]
    },
    {
     "name": "stdout",
     "output_type": "stream",
     "text": [
      "The websie http://really-cool-available-domain.com is down\n",
      "The websie http://another-really-interesting-domain.co is down\n",
      "0.9698996543884277\n"
     ]
    }
   ],
   "source": [
    "# N = 4\n",
    "start_time = time.time()\n",
    "\n",
    "with concurrent.futures.ThreadPoolExecutor(max_workers = 4) as executor:\n",
    "    executor.map(check_website, WEBSITE_LIST)\n",
    "\n",
    "end_time = time.time()\n",
    "\n",
    "print(end_time - start_time)"
   ]
  },
  {
   "cell_type": "code",
   "execution_count": 15,
   "metadata": {
    "colab": {
     "base_uri": "https://localhost:8080/"
    },
    "id": "Td_zi4g6HUMr",
    "outputId": "9a1f4dc2-e0d4-4f9c-858b-1229a697a569"
   },
   "outputs": [
    {
     "name": "stderr",
     "output_type": "stream",
     "text": [
      "WARNING:root:Timeout expired for website http://really-cool-available-domain.com\n",
      "WARNING:root:Timeout expired for website http://another-really-interesting-domain.co\n"
     ]
    },
    {
     "name": "stdout",
     "output_type": "stream",
     "text": [
      "The websie http://really-cool-available-domain.com is down\n",
      "The websie http://another-really-interesting-domain.co is down\n",
      "0.5381925106048584\n"
     ]
    }
   ],
   "source": [
    "# N = 8\n",
    "start_time = time.time()\n",
    "\n",
    "with concurrent.futures.ThreadPoolExecutor(max_workers = 8) as executor:\n",
    "    executor.map(check_website, WEBSITE_LIST)\n",
    "\n",
    "end_time = time.time()\n",
    "\n",
    "print(end_time - start_time)"
   ]
  },
  {
   "cell_type": "markdown",
   "metadata": {
    "id": "7Fo5Obrs331g"
   },
   "source": [
    "### 2.2"
   ]
  },
  {
   "cell_type": "code",
   "execution_count": 16,
   "metadata": {
    "colab": {
     "base_uri": "https://localhost:8080/"
    },
    "id": "FiwBD3GaG5BC",
    "outputId": "5deb0c0b-e3c4-45b9-fd1a-1391764b2980"
   },
   "outputs": [
    {
     "name": "stderr",
     "output_type": "stream",
     "text": [
      "WARNING:root:Timeout expired for website http://really-cool-available-domain.com\n"
     ]
    },
    {
     "name": "stdout",
     "output_type": "stream",
     "text": [
      "The websie http://really-cool-available-domain.com is down\n"
     ]
    },
    {
     "name": "stderr",
     "output_type": "stream",
     "text": [
      "WARNING:root:Timeout expired for website http://another-really-interesting-domain.co\n"
     ]
    },
    {
     "name": "stdout",
     "output_type": "stream",
     "text": [
      "The websie http://another-really-interesting-domain.co is down\n",
      "1.126875638961792\n"
     ]
    }
   ],
   "source": [
    "# N = 4\n",
    "start_time = time.time()\n",
    "\n",
    "with Pool(4) as pool:\n",
    "    pool.map(check_website, WEBSITE_LIST)\n",
    "\n",
    "end_time = time.time()\n",
    "\n",
    "print(end_time - start_time)"
   ]
  },
  {
   "cell_type": "code",
   "execution_count": 17,
   "metadata": {
    "colab": {
     "base_uri": "https://localhost:8080/"
    },
    "id": "fTgQwp7FHXj-",
    "outputId": "85c5fdb7-9fff-4da2-dff5-ca507e82fbe2"
   },
   "outputs": [
    {
     "name": "stderr",
     "output_type": "stream",
     "text": [
      "WARNING:root:Timeout expired for website http://really-cool-available-domain.com\n"
     ]
    },
    {
     "name": "stdout",
     "output_type": "stream",
     "text": [
      "The websie http://really-cool-available-domain.com is down\n"
     ]
    },
    {
     "name": "stderr",
     "output_type": "stream",
     "text": [
      "WARNING:root:Timeout expired for website http://another-really-interesting-domain.co\n"
     ]
    },
    {
     "name": "stdout",
     "output_type": "stream",
     "text": [
      "The websie http://another-really-interesting-domain.co is down\n",
      "0.6441435813903809\n"
     ]
    }
   ],
   "source": [
    "# N = 8\n",
    "start_time = time.time()\n",
    "\n",
    "with Pool(8) as pool:\n",
    "    pool.map(check_website, WEBSITE_LIST)\n",
    "\n",
    "end_time = time.time()\n",
    "\n",
    "print(end_time - start_time)"
   ]
  },
  {
   "cell_type": "markdown",
   "metadata": {
    "id": "-2CTTi084Q3q"
   },
   "source": [
    "### 2.3"
   ]
  },
  {
   "cell_type": "markdown",
   "metadata": {
    "id": "tullQBUIIHZp"
   },
   "source": [
    "In this task, using threading is faster than using multiprocessing because the main bottleneck in this task is I/O bound. Although multiprocessing can speed up the task to some extent, but in each process, it still need to wait until it gets the response from the website so that it can send the request to the next website, while in threading, once we send the request and wait for response, the next thread is ready to go. Increasing N=4 to N=8 also speed up the task because we have more threads and more processes that can work concurrently."
   ]
  }
 ],
 "metadata": {
  "accelerator": "TPU",
  "colab": {
   "collapsed_sections": [],
   "machine_shape": "hm",
   "name": "spring2021_hw07.ipynb",
   "provenance": [],
   "toc_visible": true
  },
  "kernelspec": {
   "display_name": "Python 3",
   "language": "python",
   "name": "python3"
  },
  "language_info": {
   "codemirror_mode": {
    "name": "ipython",
    "version": 3
   },
   "file_extension": ".py",
   "mimetype": "text/x-python",
   "name": "python",
   "nbconvert_exporter": "python",
   "pygments_lexer": "ipython3",
   "version": "3.8.5"
  }
 },
 "nbformat": 4,
 "nbformat_minor": 1
}
