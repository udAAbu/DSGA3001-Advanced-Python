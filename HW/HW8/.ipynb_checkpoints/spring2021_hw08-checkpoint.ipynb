{
 "cells": [
  {
   "cell_type": "markdown",
   "metadata": {},
   "source": [
    "## Homework 08:  Parallel Programming 01\n",
    "\n",
    "## Due Date: Apr 12, 2021, 04:00pm\n",
    "\n",
    "#### Firstname Lastname: \n",
    "\n",
    "#### E-mail: \n",
    "\n",
    "#### Enter your solutions and submit this notebook"
   ]
  },
  {
   "cell_type": "markdown",
   "metadata": {},
   "source": [
    "---\n",
    "\n",
    "**Problem 1 (50p)**\n",
    "\n",
    "Write an MPI program `sol08pr01.py` that does the following for some arbitrary number of processes $N \\geq 2$. Here the number of processes $N$ is given as `N` while calling the code `sol08pr01.py` as: \n",
    "\n",
    "`mpirun -n N python3 sol08pr01.py`\n",
    "\n",
    "\n",
    "Every process will contain one buffer with one integer variable, each of which is initialized to $0$.\n",
    "\n",
    "For $r=0, 1, \\dots, N - 1$, Process $r$ updates its buffer to the value received by $r-1$ (this should only be done for $r \\geq 1$), then it squares its rank $r$, adds the result $r^2$ to the value of its own buffer, and then sends the sum to Process $r + 1$. Note that for $r=N-1$ the result will be sent to Process $0$, i.e. by convention, Process $N$ is the same as Process $0$. At the end Process $0$ prints the received value. \n",
    "\n",
    "Provide results for: $N = 10$, $N = 15$, $N = 20$, $N = 25$. These are probably more than the available processes on your machine: you can use the option `--oversubscribe` in `mpirun` to let MPI run things anyway.\n",
    "\n",
    "\n",
    "\n",
    "**Note**: You can use either blocking or non-blocking operations.Make sure to provide adequate comments and documentation in the code. \n",
    "\n"
   ]
  },
  {
   "cell_type": "code",
   "execution_count": 19,
   "metadata": {},
   "outputs": [
    {
     "name": "stdout",
     "output_type": "stream",
     "text": [
      "Overwriting sol08pr01.py\n"
     ]
    }
   ],
   "source": [
    "%%writefile sol08pr01.py\n",
    "\n",
    "from mpi4py import MPI\n",
    "import numpy as np\n",
    "\n",
    "comm = MPI.COMM_WORLD\n",
    "size = comm.Get_size()\n",
    "rank = comm.Get_rank()\n",
    "\n",
    "value = np.zeros(1)\n",
    "\n",
    "if rank >= 1:\n",
    "    #for r >= 1, receive the value from r - 1\n",
    "    comm.Recv(value, source = rank - 1)\n",
    "    #update its value\n",
    "    value += rank ** 2\n",
    "    \n",
    "    #send the value to process r + 1, for process N-1, send the value to process 0\n",
    "    if rank != size - 1:\n",
    "        comm.Send(value, dest = rank + 1)\n",
    "    else:\n",
    "        comm.Send(value, dest = 0)\n",
    "else:\n",
    "    #for r = 0, first send its value to r = 1\n",
    "    comm.Send(value, dest = 1)\n",
    "    \n",
    "    #receive the value from process N-1\n",
    "    comm.Recv(value, source = size - 1)\n",
    "    print(\"Process: {}, received value: {}\".format(rank, value[0]))"
   ]
  },
  {
   "cell_type": "code",
   "execution_count": 20,
   "metadata": {},
   "outputs": [
    {
     "name": "stdout",
     "output_type": "stream",
     "text": [
      "Process: 0, received value: 285.0\n"
     ]
    }
   ],
   "source": [
    "#N = 10\n",
    "!mpiexec -n 10 python sol08pr01.py"
   ]
  },
  {
   "cell_type": "code",
   "execution_count": 21,
   "metadata": {},
   "outputs": [
    {
     "name": "stdout",
     "output_type": "stream",
     "text": [
      "Process: 0, received value: 1015.0\n"
     ]
    }
   ],
   "source": [
    "#N = 15\n",
    "!mpiexec -n 15 python sol08pr01.py"
   ]
  },
  {
   "cell_type": "code",
   "execution_count": 22,
   "metadata": {},
   "outputs": [
    {
     "name": "stdout",
     "output_type": "stream",
     "text": [
      "Process: 0, received value: 2470.0\n"
     ]
    }
   ],
   "source": [
    "#N = 20\n",
    "!mpiexec -n 20 python sol08pr01.py"
   ]
  },
  {
   "cell_type": "code",
   "execution_count": 24,
   "metadata": {},
   "outputs": [
    {
     "name": "stdout",
     "output_type": "stream",
     "text": [
      "Process: 0, received value: 4900.0\n"
     ]
    }
   ],
   "source": [
    "#N = 25\n",
    "!mpiexec -n 25 python sol08pr01.py"
   ]
  },
  {
   "cell_type": "markdown",
   "metadata": {},
   "source": [
    "---\n",
    "\n",
    "**Problem 2 (50p)**\n",
    "\n",
    "Write an MPI program that does the following. There are two processes 0 and 1 that have to exchange $T=10$ messages.  \n",
    "\n",
    "\n",
    "Process 0 initially reads two float variables from the standard input, call them $x, y$, and must ensure $x \\neq 0$ and $y \\neq 0$. For example this can be done as:\n",
    "\n",
    "```\n",
    "import sys\n",
    "\n",
    "\n",
    "for line in sys.stdin:\n",
    "    x = float(line)        \n",
    "    if x != 0.0:\n",
    "        break\n",
    "for line in sys.stdin:\n",
    "    y = float(line)        \n",
    "    if y != 0.0:\n",
    "        break\n",
    "```\n",
    "\n",
    "\n",
    "Both Process 0 and Process 1 will carry main results in an element that is part of a process buffer and called $p$. The value in $p$ is initially set to $1$. \n",
    "\n",
    "\n",
    "Now the exchange of messages is as follows.\n",
    "\n",
    "\n",
    "0. Message00: Process 0 multiplies its own value in $p$ by $x$ and sends the whole buffer to Process 1.\n",
    "\n",
    "1. Message01: Process 1 divides its own value in $p$ by $y$ and sends the whole buffer to Process 0.\n",
    "\n",
    "2. Message01: Process 0 multiplies its own value in $p$ by $x$ and sends the whole buffer to Process 1.\n",
    "\n",
    "3. Message02: Process 1 divides its own value in $p$ by $y$ and sends the whole buffer to Process 0.\n",
    "\n",
    "\n",
    "etc.\n",
    "\n",
    "8. Message08: Process 0 multiplies its own value in $p$ by $x$ and sends the whole buffer to Process 1.\n",
    "\n",
    "9. Message09: Process 1 divides its own value in $p$ by $y$ and sends the whole buffer to Process 0.\n",
    "\n",
    "Finally, Process 0 prints the value in $p$ as a final result. \n",
    "\n",
    "\n",
    "Write the code that implements the protocol above. Additionally, provide results for: $(x, y) = (2, 4)$, $(x, y) = (1, 3)$, $(x, y) = (5, 7)$ and $(x, y) = (5, 10)$.\n",
    "\n",
    "\n",
    "**Note**: You can use either blocking or non-blocking operations.Make sure to provide adequate comments and documentation in the code.\n",
    "\n"
   ]
  },
  {
   "cell_type": "code",
   "execution_count": 56,
   "metadata": {},
   "outputs": [
    {
     "name": "stdout",
     "output_type": "stream",
     "text": [
      "Overwriting problem2.py\n"
     ]
    }
   ],
   "source": [
    "%%writefile problem2.py\n",
    "\n",
    "import sys\n",
    "from mpi4py import MPI\n",
    "import numpy as np\n",
    "\n",
    "comm = MPI.COMM_WORLD\n",
    "size = comm.Get_size()\n",
    "rank = comm.Get_rank()\n",
    "\n",
    "p = 1\n",
    "x, y = float(sys.argv[1]), float(sys.argv[2])\n",
    "buffer = np.array([x, y, p])\n",
    "\n",
    "\n",
    "for i in range(5):\n",
    "    if rank == 0:\n",
    "        # multiply p by x\n",
    "        buffer[2] *= buffer[0]\n",
    "        \n",
    "        # send the message to process 1 through channel 0\n",
    "        comm.Send(buffer, dest = 1, tag = 0)\n",
    "        \n",
    "        # receive the message from process 1 through channel 1\n",
    "        comm.Recv(buffer, source = 1, tag = 1)\n",
    "        \n",
    "        if i == 4:\n",
    "            print(f\"final value of p: {buffer[2]}\")\n",
    "    else:\n",
    "        # receive the message from process 0 through channel 0\n",
    "        comm.Recv(buffer, source = 0, tag = 0)\n",
    "        \n",
    "        # divide p by y\n",
    "        buffer[2] /= buffer[1]\n",
    "        \n",
    "        # send the message to process 0 through channel 1\n",
    "        comm.Send(buffer, dest = 0, tag = 1)\n",
    "        "
   ]
  },
  {
   "cell_type": "code",
   "execution_count": 57,
   "metadata": {},
   "outputs": [
    {
     "name": "stdout",
     "output_type": "stream",
     "text": [
      "final value of p: 0.03125\n"
     ]
    }
   ],
   "source": [
    "# (2, 4)\n",
    "!mpiexec -n 2 python problem2.py 2 4"
   ]
  },
  {
   "cell_type": "code",
   "execution_count": 58,
   "metadata": {},
   "outputs": [
    {
     "name": "stdout",
     "output_type": "stream",
     "text": [
      "final value of p: 0.004115226337448559\n"
     ]
    }
   ],
   "source": [
    "# (1, 3)\n",
    "!mpiexec -n 2 python problem2.py 1 3"
   ]
  },
  {
   "cell_type": "code",
   "execution_count": 59,
   "metadata": {},
   "outputs": [
    {
     "name": "stdout",
     "output_type": "stream",
     "text": [
      "final value of p: 0.1859344320818706\n"
     ]
    }
   ],
   "source": [
    "# (5, 7)\n",
    "!mpiexec -n 2 python problem2.py 5 7"
   ]
  },
  {
   "cell_type": "code",
   "execution_count": 60,
   "metadata": {},
   "outputs": [
    {
     "name": "stdout",
     "output_type": "stream",
     "text": [
      "final value of p: 0.03125\n"
     ]
    }
   ],
   "source": [
    "# (5, 10)\n",
    "!mpiexec -n 2 python problem2.py 5 10"
   ]
  },
  {
   "cell_type": "code",
   "execution_count": null,
   "metadata": {},
   "outputs": [],
   "source": []
  }
 ],
 "metadata": {
  "kernelspec": {
   "display_name": "Python 3",
   "language": "python",
   "name": "python3"
  },
  "language_info": {
   "codemirror_mode": {
    "name": "ipython",
    "version": 3
   },
   "file_extension": ".py",
   "mimetype": "text/x-python",
   "name": "python",
   "nbconvert_exporter": "python",
   "pygments_lexer": "ipython3",
   "version": "3.8.5"
  }
 },
 "nbformat": 4,
 "nbformat_minor": 2
}
