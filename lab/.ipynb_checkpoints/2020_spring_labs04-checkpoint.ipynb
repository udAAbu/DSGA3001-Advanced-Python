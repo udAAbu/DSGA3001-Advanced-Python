{
 "cells": [
  {
   "cell_type": "markdown",
   "metadata": {
    "slideshow": {
     "slide_type": "slide"
    }
   },
   "source": [
    "### Lab IV - Performance Tunning"
   ]
  },
  {
   "cell_type": "code",
   "execution_count": 1,
   "metadata": {},
   "outputs": [],
   "source": [
    "import cProfile\n",
    "import re\n",
    "import numpy as np\n",
    "import scipy.signal\n",
    "import matplotlib.pyplot as plt\n",
    "%load_ext line_profiler"
   ]
  },
  {
   "cell_type": "markdown",
   "metadata": {
    "slideshow": {
     "slide_type": "slide"
    }
   },
   "source": [
    "### 1.Taylor series expansion\n",
    "\n",
    "$$e^x = \\sum^\\infty_{n=0} 1 + x + \\frac{x^2}{2!} + \\frac{x^3}{3!} + ...  $$\n",
    "\n",
    "\n",
    "$$\\sin(x) = x - \\frac{x^3}{3!} + \\frac{x^5}{5!} + ... $$"
   ]
  },
  {
   "cell_type": "code",
   "execution_count": null,
   "metadata": {
    "slideshow": {
     "slide_type": "slide"
    }
   },
   "outputs": [],
   "source": [
    "def factorial(n):\n",
    "    if n == 0:\n",
    "        return 1\n",
    "    else:\n",
    "        return n * factorial(n-1)\n",
    "\n",
    "def taylor_exp(n):\n",
    "    res = []\n",
    "    for i in range(n):\n",
    "        res.append(1 / factorial(i))\n",
    "    return res\n"
   ]
  },
  {
   "cell_type": "code",
   "execution_count": null,
   "metadata": {
    "slideshow": {
     "slide_type": "slide"
    }
   },
   "outputs": [],
   "source": [
    "%lprun -f taylor_exp taylor_exp(1000)\n"
   ]
  },
  {
   "cell_type": "code",
   "execution_count": null,
   "metadata": {
    "slideshow": {
     "slide_type": "slide"
    }
   },
   "outputs": [],
   "source": [
    "def factorial_upto(n):\n",
    "    res = [1]\n",
    "    \n",
    "    for i in range(1, n + 1):\n",
    "        res.append(res[-1] * i)\n",
    "    return res\n",
    "\n",
    "def better_taylor_exp(n):\n",
    "    \n",
    "    factorials = factorial_upto(n)\n",
    "    \n",
    "    res = list(map(lambda x: 1/x, factorials))\n",
    "    return res"
   ]
  },
  {
   "cell_type": "code",
   "execution_count": null,
   "metadata": {
    "slideshow": {
     "slide_type": "slide"
    }
   },
   "outputs": [],
   "source": [
    "%lprun -f better_taylor_exp better_taylor_exp(1000)\n"
   ]
  },
  {
   "cell_type": "markdown",
   "metadata": {
    "slideshow": {
     "slide_type": "slide"
    }
   },
   "source": [
    "### 2. Heat Equation\n",
    "Lets further analyze the problem of solving the _heat equation_:\n",
    "$$\n",
    "\\frac{\\partial^2 f}{\\partial x^2}+\\frac{\\partial^2 f}{\\partial y^2}=0\n",
    "$$\n",
    "using central difference in a square $[0,1]\\times[0,1]$ regular grid:\n",
    "$$\n",
    "\\frac{\\partial^2 f}{\\partial x^2}\\approx\\frac{f_{i+1,j}-f_{i,j}+f_{i-1,j} - f_{i,j}}{\\Delta x^2} = \\frac{f_{i+1,j}+f_{i-1,j} - 2f_{i,j}}{\\Delta x^2}\n",
    "$$\n",
    "\n",
    "$$\n",
    "\\frac{\\partial^2 f}{\\partial y^2}\\approx \\frac{f_{i,j+1}-f_{i,j}+f_{i,j-1} - f_{i,j}}{\\Delta y^2} = \\frac{f_{i,j+1}+f_{i,j-1} - 2f_{i,j}}{\\Delta y^2}\n",
    "$$\n",
    "\n",
    "We will assume $\\Delta x = \\Delta y$, so it follows:\n",
    "$$\n",
    "f_{i,j} = \\frac{f_{i+1,j}+f_{i-1,j} + f_{i,j+1} + f_{i,j-1}}{4} \\,.\n",
    "$$\n",
    "\n",
    "We set up initial value at boundary.\n",
    "\n",
    "Two versions of the code presented in class:"
   ]
  },
  {
   "cell_type": "code",
   "execution_count": null,
   "metadata": {
    "slideshow": {
     "slide_type": "slide"
    }
   },
   "outputs": [],
   "source": [
    "from itertools import product\n",
    "\n",
    "def build_grid(n):\n",
    "    '''defines the grid'''\n",
    "    G = np.zeros((n,n))\n",
    "    return(G)\n",
    "\n",
    "def set_boundary_grid(G):\n",
    "    '''set the boundary values'''\n",
    "    n = G.shape[0]\n",
    "    G[:,0] = np.ones((1,n))\n",
    "    G[0,:] = np.ones((1,n)) \n",
    "    G[-1,:] = np.ones((1,n))\n",
    "    G[:,-1] = np.ones((1,n))\n",
    "    \n",
    "def calc_error(G1,G2):\n",
    "    error = np.square(np.subtract(G1, G2)).mean()\n",
    "    return(error)\n",
    "\n",
    "def copy_array(G1,G2):\n",
    "    G2[:] = G1[:]\n",
    "    "
   ]
  },
  {
   "cell_type": "code",
   "execution_count": null,
   "metadata": {
    "slideshow": {
     "slide_type": "slide"
    }
   },
   "outputs": [],
   "source": [
    "# we are passing the function that updates G as a parameter\n",
    "def solve_heat_equation(n,update):\n",
    "    G = build_grid(n)\n",
    "    set_boundary_grid(G)\n",
    "    G_prev = build_grid(n)\n",
    "    copy_array(G, G_prev)\n",
    "    error = float('inf')\n",
    "    while error > 1e-7:\n",
    "        update(G)\n",
    "        error = calc_error(G,G_prev)\n",
    "        copy_array(G, G_prev)    \n",
    "        \n",
    "    return(G)"
   ]
  },
  {
   "cell_type": "code",
   "execution_count": null,
   "metadata": {
    "slideshow": {
     "slide_type": "slide"
    }
   },
   "outputs": [],
   "source": [
    "def itera(G):\n",
    "    n = G.shape[0]\n",
    "    for i in range(1,n-1):\n",
    "        for j in range(1,n-1):\n",
    "            G[i,j]=(G[i+1,j]+G[i-1,j]+G[i,j+1]+G[i,j-1])/4\n",
    "            \n",
    " "
   ]
  },
  {
   "cell_type": "markdown",
   "metadata": {
    "slideshow": {
     "slide_type": "slide"
    }
   },
   "source": [
    "#### Convolution \n",
    "\n",
    "A mathematical operation between two functions f,h that produces a third function.\n",
    "\n",
    "$$y = x * h$$\n",
    "$$y = \\sum^{a}_{s = -a} \\sum^{b}_{t = -b} h(s,t) f(x-s, y-t)  $$"
   ]
  },
  {
   "cell_type": "code",
   "execution_count": null,
   "metadata": {
    "slideshow": {
     "slide_type": "slide"
    }
   },
   "outputs": [],
   "source": [
    "def itera_conv(G):\n",
    "    n = G.shape[0]\n",
    "    f = np.array([[0,1/4,0], [1/4,0,1/4], [0,1/4,0]])\n",
    "    G[1:n-1,1:n-1] = scipy.signal.convolve(G, f, 'valid')\n",
    "    "
   ]
  },
  {
   "cell_type": "code",
   "execution_count": null,
   "metadata": {
    "slideshow": {
     "slide_type": "slide"
    }
   },
   "outputs": [],
   "source": [
    "sol1 = solve_heat_equation(70,itera)\n",
    "sol2 = solve_heat_equation(70,itera_conv)\n"
   ]
  },
  {
   "cell_type": "code",
   "execution_count": null,
   "metadata": {
    "slideshow": {
     "slide_type": "slide"
    }
   },
   "outputs": [],
   "source": [
    "plt.figure(figsize = (10,5))\n",
    "plt.subplot(1,2,1)\n",
    "plt.title('Original')\n",
    "img=plt.imshow(sol1)\n",
    "img.set_cmap('rainbow')\n",
    "plt.axis('off')\n",
    "\n",
    "plt.subplot(1,2,2)\n",
    "plt.title('Convolution')\n",
    "img=plt.imshow(sol2)\n",
    "img.set_cmap('rainbow')\n",
    "plt.axis('off')\n",
    "plt.show()"
   ]
  },
  {
   "cell_type": "code",
   "execution_count": null,
   "metadata": {
    "slideshow": {
     "slide_type": "slide"
    }
   },
   "outputs": [],
   "source": [
    "def itera_slicing(G):\n",
    "    n = G.shape[0]\n",
    "\n",
    "    Gl = G[1:-1,:-2]  #Left neighbors\n",
    "    Gr = G[1:-1,2:]   #Right neighbors\n",
    "    Gt = G[2:,1:-1]   #top\n",
    "    Gb = G[:-2,1:-1]  #bottom\n",
    "    \n",
    "    G[1:n-1,1:n-1] = (Gl + Gr + Gt + Gb)/4\n",
    "    \n",
    "sol3 = solve_heat_equation(70,itera_slicing)"
   ]
  },
  {
   "cell_type": "code",
   "execution_count": null,
   "metadata": {
    "scrolled": true,
    "slideshow": {
     "slide_type": "slide"
    }
   },
   "outputs": [],
   "source": [
    "plt.figure(figsize = (10,5))\n",
    "plt.subplot(1,2,1)\n",
    "plt.title('Original')\n",
    "img=plt.imshow(sol1)\n",
    "img.set_cmap('rainbow')\n",
    "plt.axis('off')\n",
    "\n",
    "plt.subplot(1,2,2)\n",
    "plt.title('Slicing')\n",
    "img=plt.imshow(sol3)\n",
    "img.set_cmap('rainbow')\n",
    "plt.axis('off')\n",
    "plt.show()"
   ]
  },
  {
   "cell_type": "markdown",
   "metadata": {
    "slideshow": {
     "slide_type": "slide"
    }
   },
   "source": [
    "Profile the code above to analyze the computational time of each line of code"
   ]
  },
  {
   "cell_type": "code",
   "execution_count": null,
   "metadata": {
    "slideshow": {
     "slide_type": "slide"
    }
   },
   "outputs": [],
   "source": [
    "# Solution\n",
    "%lprun -f solve_heat_equation solve_heat_equation(70,itera)"
   ]
  },
  {
   "cell_type": "code",
   "execution_count": null,
   "metadata": {
    "slideshow": {
     "slide_type": "slide"
    }
   },
   "outputs": [],
   "source": [
    "%lprun -f solve_heat_equation solve_heat_equation(70,itera_conv)"
   ]
  },
  {
   "cell_type": "code",
   "execution_count": null,
   "metadata": {
    "slideshow": {
     "slide_type": "slide"
    }
   },
   "outputs": [],
   "source": [
    "%lprun -f solve_heat_equation solve_heat_equation(70,itera_slicing)"
   ]
  },
  {
   "cell_type": "markdown",
   "metadata": {
    "slideshow": {
     "slide_type": "slide"
    }
   },
   "source": [
    "Based on your analysis, how can you further improve the computational performance of the code?"
   ]
  },
  {
   "cell_type": "code",
   "execution_count": null,
   "metadata": {
    "slideshow": {
     "slide_type": "slide"
    }
   },
   "outputs": [],
   "source": [
    "# Improvement 1: remove the calls to copy_array\n",
    "\n",
    "def solve_heat_equation2(n,update):\n",
    "    G = build_grid(n)\n",
    "    set_boundary_grid(G)\n",
    "    G_prev = build_grid(n)\n",
    "    copy_array(G, G_prev)\n",
    "    error = 1e10\n",
    "    while error > 1e-7:\n",
    "        update(G)\n",
    "        error = calc_error(G,G_prev)\n",
    "        G_prev[:] = G[:]              # Not calling the copy_array function anymore\n",
    "        \n",
    "    return(G)"
   ]
  },
  {
   "cell_type": "code",
   "execution_count": null,
   "metadata": {
    "slideshow": {
     "slide_type": "slide"
    }
   },
   "outputs": [],
   "source": [
    "%lprun -f solve_heat_equation2 solve_heat_equation2(70,itera_slicing)"
   ]
  },
  {
   "cell_type": "code",
   "execution_count": null,
   "metadata": {
    "slideshow": {
     "slide_type": "slide"
    }
   },
   "outputs": [],
   "source": [
    "# Improvement 2: removing the call to calc_error\n",
    "\n",
    "def solve_heat_equation3(n,update):\n",
    "    G = build_grid(n)\n",
    "    set_boundary_grid(G)\n",
    "    G_prev = build_grid(n)\n",
    "    copy_array(G, G_prev)\n",
    "    error = 1e10\n",
    "    square = np.square\n",
    "    subtract = np.subtract\n",
    "    \n",
    "    while error > 1e-7:\n",
    "        update(G)\n",
    "        error = square(subtract(G, G_prev)).mean()  # Not calling the calc_error function anymore\n",
    "        G_prev[:] = G[:]             \n",
    "        \n",
    "    return(G)"
   ]
  },
  {
   "cell_type": "code",
   "execution_count": null,
   "metadata": {
    "slideshow": {
     "slide_type": "slide"
    }
   },
   "outputs": [],
   "source": [
    "%lprun -f solve_heat_equation3 solve_heat_equation3(70,itera_slicing)"
   ]
  },
  {
   "cell_type": "code",
   "execution_count": null,
   "metadata": {
    "slideshow": {
     "slide_type": "slide"
    }
   },
   "outputs": [],
   "source": [
    "%timeit solve_heat_equation3(70, itera_slicing)\n",
    "%timeit solve_heat_equation2(70, itera_slicing)\n"
   ]
  },
  {
   "cell_type": "code",
   "execution_count": null,
   "metadata": {},
   "outputs": [],
   "source": []
  }
 ],
 "metadata": {
  "celltoolbar": "Slideshow",
  "kernelspec": {
   "display_name": "Python 3",
   "language": "python",
   "name": "python3"
  },
  "language_info": {
   "codemirror_mode": {
    "name": "ipython",
    "version": 3
   },
   "file_extension": ".py",
   "mimetype": "text/x-python",
   "name": "python",
   "nbconvert_exporter": "python",
   "pygments_lexer": "ipython3",
   "version": "3.8.5"
  }
 },
 "nbformat": 4,
 "nbformat_minor": 4
}
