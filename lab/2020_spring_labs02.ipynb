{
 "cells": [
  {
   "cell_type": "markdown",
   "metadata": {
    "slideshow": {
     "slide_type": "slide"
    }
   },
   "source": [
    "## Lab2: Performance Tuning\n"
   ]
  },
  {
   "cell_type": "markdown",
   "metadata": {
    "slideshow": {
     "slide_type": "slide"
    }
   },
   "source": [
    "### Timing python code"
   ]
  },
  {
   "cell_type": "code",
   "execution_count": null,
   "metadata": {},
   "outputs": [],
   "source": [
    "import timeit\n",
    "import numpy as np\n",
    "from math import log10 as lg10\n",
    "import matplotlib.pyplot as plt\n",
    "\n",
    "def f(x):\n",
    "    return x * x\n",
    "\n",
    "%timeit -n 10 f(3)"
   ]
  },
  {
   "cell_type": "code",
   "execution_count": null,
   "metadata": {
    "slideshow": {
     "slide_type": "slide"
    }
   },
   "outputs": [],
   "source": [
    "mycode = ''' \n",
    "def f(x): \n",
    "    return x*x \n",
    "f(x_val)\n",
    "'''\n",
    "\n",
    "x_val = 3\n",
    "total_time = timeit.timeit(mycode, number = 10, globals=globals())\n",
    "print(f'{total_time/10} sec per loop')"
   ]
  },
  {
   "cell_type": "markdown",
   "metadata": {
    "slideshow": {
     "slide_type": "slide"
    }
   },
   "source": [
    "### Data Structure Choice: Membership Testing"
   ]
  },
  {
   "cell_type": "markdown",
   "metadata": {},
   "source": [
    "### List\n",
    "\n",
    "- Searching for an element in list takes O(N)"
   ]
  },
  {
   "cell_type": "code",
   "execution_count": null,
   "metadata": {
    "slideshow": {
     "slide_type": "slide"
    }
   },
   "outputs": [],
   "source": [
    "letters = 'ASDFGHJKLQWERTYUIOPZXCVBNM'\n",
    "\n",
    "letters_list = [x + y + z for x in letters for y in letters for z in letters]\n",
    "\n",
    "print(letters_list[:10])\n",
    "# note that ABC is not the first element but AAA\n",
    "\n",
    "%timeit -n 100 'ABC' in letters_list \n",
    "\n",
    "%timeit -n 100 'PQR' in letters_list"
   ]
  },
  {
   "cell_type": "code",
   "execution_count": null,
   "metadata": {
    "slideshow": {
     "slide_type": "slide"
    }
   },
   "outputs": [],
   "source": [
    "import matplotlib.pyplot as plt\n",
    "\n",
    "mycode = '''\n",
    "def check_membership(elem):\n",
    "    return elem in numbers_list\n",
    "check_membership(i)\n",
    "'''\n",
    "times = []\n",
    "for i in range(0,100000,10):\n",
    "    numbers_list = np.random.randint(0, i, i)\n",
    "    total_time = timeit.timeit(mycode, number = 5, globals=globals())\n",
    "    \n",
    "    times.append(total_time / 5)\n",
    "    "
   ]
  },
  {
   "cell_type": "code",
   "execution_count": null,
   "metadata": {
    "slideshow": {
     "slide_type": "slide"
    }
   },
   "outputs": [],
   "source": [
    "plt.plot(times)\n",
    "plt.xlabel('Size of the list')\n",
    "plt.ylabel('Lookup time')\n",
    "plt.show()"
   ]
  },
  {
   "cell_type": "markdown",
   "metadata": {
    "slideshow": {
     "slide_type": "slide"
    }
   },
   "source": [
    "### Dictionary\n",
    "- Dictionaries are implemented as a Hash table, which hash the key\n",
    "- _Dicts_ and _sets_ are fast when looking up elements. \n",
    "- Insert, search and delete operations are O(1)\n",
    "\n"
   ]
  },
  {
   "cell_type": "code",
   "execution_count": null,
   "metadata": {
    "slideshow": {
     "slide_type": "slide"
    }
   },
   "outputs": [],
   "source": [
    "letters_dict = {x: x for x in letters_list}\n",
    "# Time how long it takes to find ‘abc’ and 'pqr'in letters_dict.\n",
    "\n",
    "print('in dict')\n",
    "%timeit -n 100 'ABC' in letters_dict\n",
    "%timeit -n 100 'PQR' in letters_dict"
   ]
  },
  {
   "cell_type": "code",
   "execution_count": null,
   "metadata": {
    "slideshow": {
     "slide_type": "slide"
    }
   },
   "outputs": [],
   "source": [
    "mycode = '''\n",
    "def check_membership(elem):\n",
    "    return elem in numbers_dict\n",
    "check_membership(i)\n",
    "'''\n",
    "times = []\n",
    "for i in range(0,10000,10):\n",
    "    numbers_list = np.random.randint(0,i,i)\n",
    "    numbers_dict = {k:k for k in numbers_list}\n",
    "    total_time = timeit.timeit(mycode, number = 10, globals=globals())\n",
    "    \n",
    "    times.append(total_time/10)\n",
    "    "
   ]
  },
  {
   "cell_type": "code",
   "execution_count": null,
   "metadata": {
    "slideshow": {
     "slide_type": "slide"
    }
   },
   "outputs": [],
   "source": [
    "plt.plot(times)\n",
    "plt.xlabel('Size of the dictionary')\n",
    "plt.ylabel('Lookup time')"
   ]
  },
  {
   "cell_type": "markdown",
   "metadata": {
    "slideshow": {
     "slide_type": "slide"
    }
   },
   "source": [
    "### Function Choice: String Concatenation"
   ]
  },
  {
   "cell_type": "markdown",
   "metadata": {},
   "source": [
    "- Python strings are immutable.\n",
    "- str1 + str2 creates a new string.\n",
    "- This copying can lead to significant slowdown"
   ]
  },
  {
   "cell_type": "code",
   "execution_count": null,
   "metadata": {
    "slideshow": {
     "slide_type": "slide"
    }
   },
   "outputs": [],
   "source": [
    "def method1():\n",
    "    out_str = ''\n",
    "    global loop_count\n",
    "    for num in range(loop_count):\n",
    "        out_str += 'num'\n",
    "    return out_str\n",
    "\n",
    "def method2():\n",
    "    str_list = []\n",
    "    global loop_count\n",
    "    for num in range(loop_count):\n",
    "        str_list.append('num')\n",
    "    return ''.join(str_list)\n",
    "\n",
    "def method3():\n",
    "    global loop_count\n",
    "    return ''.join(['num' for i in range(loop_count)])\n"
   ]
  },
  {
   "cell_type": "code",
   "execution_count": null,
   "metadata": {
    "slideshow": {
     "slide_type": "slide"
    }
   },
   "outputs": [],
   "source": [
    "loop_count = 100000\n",
    "\n",
    "%timeit -n 10 method1()\n",
    "%timeit -n 10 method2()\n",
    "%timeit -n 10 method3()"
   ]
  },
  {
   "cell_type": "markdown",
   "metadata": {
    "slideshow": {
     "slide_type": "slide"
    }
   },
   "source": [
    "### Optimizing loops\n",
    "\n",
    "- Avoid for loops, use map or numpy operations\n",
    "- Numpy is faster due to vectorized implementations\n",
    "\n",
    "Multiply two 1000x1000 matrices"
   ]
  },
  {
   "cell_type": "code",
   "execution_count": null,
   "metadata": {
    "slideshow": {
     "slide_type": "slide"
    }
   },
   "outputs": [],
   "source": [
    "N = 100\n",
    "arr1 = np.random.random((N,N))\n",
    "arr2 = np.random.random((N,N))"
   ]
  },
  {
   "cell_type": "markdown",
   "metadata": {
    "slideshow": {
     "slide_type": "slide"
    }
   },
   "source": [
    "### How fast is  For loop ?"
   ]
  },
  {
   "cell_type": "code",
   "execution_count": null,
   "metadata": {
    "slideshow": {
     "slide_type": "slide"
    }
   },
   "outputs": [],
   "source": [
    "%%timeit -n 1\n",
    "\n",
    "def multiply(x,y):\n",
    "\n",
    "    m1,n1 = x.shape\n",
    "    m2,n2 = y.shape\n",
    "    \n",
    "    assert(n1 == m2)\n",
    "    z = np.zeros((m1,n2))\n",
    "\n",
    "    for i in range(m1): \n",
    "        for j in range(n2): \n",
    "            for k in range(m2): \n",
    "                z[i][j] += x[i][k] * y[k][j]\n",
    "                \n",
    "    return z\n",
    "\n",
    "multiply(arr1, arr2)"
   ]
  },
  {
   "cell_type": "markdown",
   "metadata": {
    "slideshow": {
     "slide_type": "slide"
    }
   },
   "source": [
    "### How fast is numpy?"
   ]
  },
  {
   "cell_type": "code",
   "execution_count": null,
   "metadata": {
    "slideshow": {
     "slide_type": "slide"
    }
   },
   "outputs": [],
   "source": [
    "%%timeit -n 1\n",
    "\n",
    "def mod_multiply(x,y):\n",
    "    \"\"\"\n",
    "    Multiply two arrays using numpy.\n",
    "    \"\"\"\n",
    "    return np.matmul(x,y)\n",
    "\n",
    "mod_multiply(arr1, arr2)"
   ]
  },
  {
   "cell_type": "markdown",
   "metadata": {
    "slideshow": {
     "slide_type": "slide"
    }
   },
   "source": [
    "### Decorators\n",
    "\n",
    "In Python, functions are the first class objects, which means that:\n",
    "\n",
    "- Functions are objects; they can be referenced to, passed to a variable and returned from other functions as well.\n",
    "\n",
    "- Functions are taken as the argument into another function and then called inside the wrapper function.\n"
   ]
  },
  {
   "cell_type": "code",
   "execution_count": null,
   "metadata": {
    "slideshow": {
     "slide_type": "slide"
    }
   },
   "outputs": [],
   "source": [
    "# defining a decorator, pass in \"func\", return \"wrapper\"\n",
    "\n",
    "def my_decorator(func):\n",
    "    \n",
    "    def wrapper():\n",
    "        print(\"Something is happening before the function is called.\")\n",
    "        func()\n",
    "        print(\"Something is happening after the function is called.\")\n",
    "    return wrapper\n",
    "\n",
    "def say_whee():\n",
    "    print(\"Whee!\")\n",
    "\n",
    "say_whee = my_decorator(say_whee)\n",
    "say_whee()"
   ]
  },
  {
   "cell_type": "code",
   "execution_count": null,
   "metadata": {
    "slideshow": {
     "slide_type": "slide"
    }
   },
   "outputs": [],
   "source": [
    "@my_decorator\n",
    "def say_whee():\n",
    "    print(\"Whee!\")\n",
    "say_whee()"
   ]
  },
  {
   "cell_type": "markdown",
   "metadata": {
    "slideshow": {
     "slide_type": "slide"
    }
   },
   "source": [
    "### Caching with decorators\n",
    "\n",
    "- Decorators can be used to cache intermediate values\n",
    "- Can be used to avoid repeated calculations (dynamic programming)"
   ]
  },
  {
   "cell_type": "code",
   "execution_count": null,
   "metadata": {
    "slideshow": {
     "slide_type": "slide"
    }
   },
   "outputs": [],
   "source": [
    "def fib(i):\n",
    "    if i < 2: return 1\n",
    "    return fib(i-1) + fib(i-2)\n",
    "\n",
    "def cache_fib(f): \n",
    "    memory = {} \n",
    "  \n",
    "    # This inner function has access to memory \n",
    "    # and 'f' \n",
    "    def inner(num): \n",
    "        if num not in memory:          \n",
    "            memory[num] = f(num) \n",
    "        return memory[num] \n",
    "  \n",
    "    return inner \n",
    "\n",
    "@cache_fib\n",
    "def better_fib(i):\n",
    "    if i < 2: return 1\n",
    "    return better_fib(i-1) + better_fib(i-2)\n"
   ]
  },
  {
   "cell_type": "code",
   "execution_count": null,
   "metadata": {
    "slideshow": {
     "slide_type": "slide"
    }
   },
   "outputs": [],
   "source": [
    "%timeit -n 1 fib(30)\n"
   ]
  },
  {
   "cell_type": "code",
   "execution_count": null,
   "metadata": {},
   "outputs": [],
   "source": [
    "%timeit -n 1 better_fib(30)"
   ]
  },
  {
   "cell_type": "code",
   "execution_count": null,
   "metadata": {},
   "outputs": [],
   "source": [
    "from functools import lru_cache\n",
    "\n",
    "@lru_cache(maxsize=128)\n",
    "def better_fib(i):\n",
    "    if i < 2: return 1\n",
    "    return better_fib(i-1) + better_fib(i-2)\n",
    "\n",
    "%timeit -n 1 better_fib(30)"
   ]
  }
 ],
 "metadata": {
  "celltoolbar": "Slideshow",
  "kernelspec": {
   "display_name": "Python 3",
   "language": "python",
   "name": "python3"
  },
  "language_info": {
   "codemirror_mode": {
    "name": "ipython",
    "version": 3
   },
   "file_extension": ".py",
   "mimetype": "text/x-python",
   "name": "python",
   "nbconvert_exporter": "python",
   "pygments_lexer": "ipython3",
   "version": "3.8.3"
  }
 },
 "nbformat": 4,
 "nbformat_minor": 4
}
