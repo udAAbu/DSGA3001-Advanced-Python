{
 "cells": [
  {
   "cell_type": "markdown",
   "metadata": {
    "slideshow": {
     "slide_type": "slide"
    }
   },
   "source": [
    "## Lab 4: Cython"
   ]
  },
  {
   "cell_type": "markdown",
   "metadata": {
    "slideshow": {
     "slide_type": "slide"
    }
   },
   "source": [
    "### Pure Python code for fibonacci"
   ]
  },
  {
   "cell_type": "code",
   "execution_count": 1,
   "metadata": {
    "slideshow": {
     "slide_type": "fragment"
    }
   },
   "outputs": [],
   "source": [
    "def fib_py(n):\n",
    "    a,b = 0,1\n",
    "    for i in range(n):\n",
    "        a,b = a+b,a\n",
    "    return a"
   ]
  },
  {
   "cell_type": "markdown",
   "metadata": {
    "slideshow": {
     "slide_type": "slide"
    }
   },
   "source": [
    "### Cython"
   ]
  },
  {
   "cell_type": "code",
   "execution_count": 2,
   "metadata": {
    "slideshow": {
     "slide_type": "fragment"
    }
   },
   "outputs": [],
   "source": [
    "%load_ext cython"
   ]
  },
  {
   "cell_type": "code",
   "execution_count": 3,
   "metadata": {
    "slideshow": {
     "slide_type": "fragment"
    }
   },
   "outputs": [],
   "source": [
    "%%cython\n",
    "def fib_cy(int n):\n",
    "    cdef int a,b,i\n",
    "    a,b = 0,1\n",
    "    for i in range(n):\n",
    "        a,b = a+b,a\n",
    "    return a"
   ]
  },
  {
   "cell_type": "markdown",
   "metadata": {
    "slideshow": {
     "slide_type": "slide"
    }
   },
   "source": [
    "## C/ C++\n",
    "```C\n",
    "int fib(int n)\n",
    "{\n",
    "\tint tmp, i,a=0,b=1;\n",
    "\tfor (i=0; i<n; i++){\n",
    "\t\ttmp = a;\n",
    "\t\ta += b;\n",
    "\t\tb = tmp;\n",
    "\t}\n",
    "\treturn a;\n",
    "}\n",
    "```\n"
   ]
  },
  {
   "cell_type": "code",
   "execution_count": 4,
   "metadata": {
    "slideshow": {
     "slide_type": "slide"
    }
   },
   "outputs": [
    {
     "name": "stdout",
     "output_type": "stream",
     "text": [
      "330 µs ± 9.57 µs per loop (mean ± std. dev. of 7 runs, 100 loops each)\n"
     ]
    }
   ],
   "source": [
    "%timeit -n 100 fib_py(3000)"
   ]
  },
  {
   "cell_type": "code",
   "execution_count": 5,
   "metadata": {
    "slideshow": {
     "slide_type": "fragment"
    }
   },
   "outputs": [
    {
     "name": "stdout",
     "output_type": "stream",
     "text": [
      "1.01 µs ± 60 ns per loop (mean ± std. dev. of 7 runs, 10000 loops each)\n"
     ]
    }
   ],
   "source": [
    "%timeit -n 10000 fib_cy(3000)"
   ]
  },
  {
   "cell_type": "code",
   "execution_count": 7,
   "metadata": {
    "slideshow": {
     "slide_type": "fragment"
    }
   },
   "outputs": [
    {
     "name": "stdout",
     "output_type": "stream",
     "text": [
      "/bin/bash: ./myfib: cannot execute binary file\r\n"
     ]
    }
   ],
   "source": [
    "!./myfib 3000 10000"
   ]
  },
  {
   "cell_type": "markdown",
   "metadata": {
    "slideshow": {
     "slide_type": "slide"
    }
   },
   "source": [
    "### Why is Python slow?"
   ]
  },
  {
   "cell_type": "code",
   "execution_count": null,
   "metadata": {
    "slideshow": {
     "slide_type": "slide"
    }
   },
   "outputs": [],
   "source": [
    "def foo(a, b):\n",
    "    return a + b"
   ]
  },
  {
   "cell_type": "code",
   "execution_count": null,
   "metadata": {
    "slideshow": {
     "slide_type": "fragment"
    }
   },
   "outputs": [],
   "source": [
    "from dis import dis\n",
    "dis(foo)\n"
   ]
  },
  {
   "cell_type": "markdown",
   "metadata": {
    "slideshow": {
     "slide_type": "slide"
    }
   },
   "source": [
    "### What's `BINARY_ADD`?\n",
    "\n",
    "```c\n",
    "/* Python/ceval.c */\n",
    "TARGET(BINARY_ADD) {\n",
    "    PyObject *right = POP();\n",
    "    PyObject *left = TOP();\n",
    "    PyObject *sum;\n",
    "    /* NOTE(haypo): Please don't try to micro-optimize int+int on\n",
    "       CPython using bytecode, it is simply worthless.\n",
    "       See http://bugs.python.org/issue21955 and\n",
    "       http://bugs.python.org/issue10044 for the discussion. In short,\n",
    "       no patch shown any impact on a realistic benchmark, only a minor\n",
    "       speedup on microbenchmarks. */\n",
    "    if (PyUnicode_CheckExact(left) &&\n",
    "            PyUnicode_CheckExact(right)) {\n",
    "        sum = unicode_concatenate(left, right, f, next_instr);\n",
    "        /* unicode_concatenate consumed the ref to left */\n",
    "    }\n",
    "    else {\n",
    "        sum = PyNumber_Add(left, right); // <<<<<<<<<<<<<<<<<<<<<<<<<<<<<<<<<<<<<<<<<<<\n",
    "        Py_DECREF(left);\n",
    "    }\n",
    "    Py_DECREF(right);\n",
    "    SET_TOP(sum);\n",
    "    if (sum == NULL)\n",
    "        goto error;\n",
    "    DISPATCH();\n",
    "}\n",
    "```"
   ]
  },
  {
   "cell_type": "markdown",
   "metadata": {
    "slideshow": {
     "slide_type": "slide"
    }
   },
   "source": [
    "### What's `PyNumber_Add(left, right)`?\n",
    "\n",
    "```c\n",
    "/* Objects/abstract.c */\n",
    "PyObject *\n",
    "PyNumber_Add(PyObject *v, PyObject *w)\n",
    "{\n",
    "    PyObject *result = binary_op1(v, w, NB_SLOT(nb_add)); // <<<<<<<<<<<<<<<<<<<<<<<<<<<<<<<<<<<<\n",
    "    if (result == Py_NotImplemented) {\n",
    "        PySequenceMethods *m = v->ob_type->tp_as_sequence;\n",
    "        Py_DECREF(result);\n",
    "        if (m && m->sq_concat) {\n",
    "            return (*m->sq_concat)(v, w);\n",
    "        }\n",
    "        result = binop_type_error(v, w, \"+\");\n",
    "    }\n",
    "    return result;\n",
    "}\n",
    "```"
   ]
  },
  {
   "cell_type": "markdown",
   "metadata": {
    "slideshow": {
     "slide_type": "slide"
    }
   },
   "source": [
    "### What's `NB_BINOP()`?\n",
    "\n",
    "```c\n",
    "#define NB_BINOP(nb_methods, slot) \\\n",
    "        (*(binaryfunc*)(& ((char*)nb_methods)[slot]))\n",
    "```"
   ]
  },
  {
   "cell_type": "markdown",
   "metadata": {},
   "source": [
    "### What's the addition function for two integers?\n",
    "\n",
    "```c\n",
    "/* Objects/longobject.c */\n",
    "static PyObject *\n",
    "long_add(PyLongObject *a, PyLongObject *b)\n",
    "{\n",
    "    PyLongObject *z;\n",
    "\n",
    "    CHECK_BINOP(a, b);\n",
    "\n",
    "    if (Py_ABS(Py_SIZE(a)) <= 1 && Py_ABS(Py_SIZE(b)) <= 1) {\n",
    "        return PyLong_FromLong(MEDIUM_VALUE(a) + MEDIUM_VALUE(b)); // <<<<<<<<<<<<<<<<<<<<<<<<<<<<<<\n",
    "    }\n",
    "    if (Py_SIZE(a) < 0) {\n",
    "        if (Py_SIZE(b) < 0) {\n",
    "            z = x_add(a, b);\n",
    "            if (z != NULL) {\n",
    "                /* x_add received at least one multiple-digit int,\n",
    "                   and thus z must be a multiple-digit int.\n",
    "                   That also means z is not an element of\n",
    "                   small_ints, so negating it in-place is safe. */\n",
    "                assert(Py_REFCNT(z) == 1);\n",
    "                Py_SIZE(z) = -(Py_SIZE(z));\n",
    "            }\n",
    "        }\n",
    "        else\n",
    "            z = x_sub(b, a);\n",
    "    }\n",
    "    else {\n",
    "        if (Py_SIZE(b) < 0)\n",
    "            z = x_sub(a, b);\n",
    "        else\n",
    "            z = x_add(a, b);\n",
    "    }\n",
    "    return (PyObject *)z;\n",
    "}\n",
    "```"
   ]
  },
  {
   "cell_type": "markdown",
   "metadata": {
    "slideshow": {
     "slide_type": "slide"
    }
   },
   "source": [
    "### What's `MEDIUM_VALUE()`?\n",
    "\n",
    "```c\n",
    "/* Objects/longobject.c */\n",
    "#define MEDIUM_VALUE(x) (assert(-1 <= Py_SIZE(x) && Py_SIZE(x) <= 1),  \\\n",
    "     Py_SIZE(x) < 0 ? -(sdigit)(x)->ob_digit[0] :  \\\n",
    "         (Py_SIZE(x) == 0 ? (sdigit)0 :  \\\n",
    "          (sdigit)(x)->ob_digit[0]))\n",
    "```"
   ]
  },
  {
   "cell_type": "markdown",
   "metadata": {
    "slideshow": {
     "slide_type": "slide"
    }
   },
   "source": [
    "### Why so much code for such a simple operation?\n",
    "\n",
    "* Polymorphism -- code can handle `foo('a', 'b')` or any types that support `+`.\n",
    "* Works for user-defined types, too, with an `__add__` or `__radd__` magic method.\n",
    "* For adding ints, does overflow checking and conversions, etc.\n"
   ]
  },
  {
   "cell_type": "markdown",
   "metadata": {
    "slideshow": {
     "slide_type": "slide"
    }
   },
   "source": [
    "### What is cython?\n",
    "\n",
    "- Cython is a python like language that \n",
    "    - Improves python's performance\n",
    "    - Wraps external libraries (C, C++)\n",
    "    \n",
    "\n",
    "- cython command translates code to C which is compiled into a python extension module."
   ]
  },
  {
   "cell_type": "markdown",
   "metadata": {
    "slideshow": {
     "slide_type": "slide"
    }
   },
   "source": [
    "### Why is it better?\n",
    "\n",
    "- Dynamic typing in Python vs static typing in Cython.\n",
    "\n",
    "\n",
    "- Compiler optimization.\n",
    "\n",
    "\n",
    "- Performance gains are most significant in CPU-bound programs, notably in tight Python loops. By contrast, I/O bound programs are not expected to benefit much from a Cython implementation.\n"
   ]
  },
  {
   "cell_type": "code",
   "execution_count": null,
   "metadata": {
    "slideshow": {
     "slide_type": "slide"
    }
   },
   "outputs": [],
   "source": [
    "class Point_2d:\n",
    "    def __init__(self,x,y):\n",
    "        self.x = x\n",
    "        self.y = y\n",
    "        \n",
    "    def __add__(self,other):\n",
    "        \n",
    "        newx = self.x + other.x\n",
    "        newy = self.y + other.y\n",
    "        return Point_2d(newx, newy)\n",
    "    \n",
    "    def __repr__(self):\n",
    "        return (f'(x,y) : ({self.x},{self.y})')"
   ]
  },
  {
   "cell_type": "code",
   "execution_count": null,
   "metadata": {
    "slideshow": {
     "slide_type": "fragment"
    }
   },
   "outputs": [],
   "source": [
    "a = Point_2d(1,2)\n",
    "b = Point_2d(3,4)"
   ]
  },
  {
   "cell_type": "code",
   "execution_count": null,
   "metadata": {
    "slideshow": {
     "slide_type": "fragment"
    }
   },
   "outputs": [],
   "source": [
    "c = a+b\n",
    "print(c.x,c.y)\n",
    "print(c)"
   ]
  }
 ],
 "metadata": {
  "celltoolbar": "Slideshow",
  "kernelspec": {
   "display_name": "Python 3",
   "language": "python",
   "name": "python3"
  },
  "language_info": {
   "codemirror_mode": {
    "name": "ipython",
    "version": 3
   },
   "file_extension": ".py",
   "mimetype": "text/x-python",
   "name": "python",
   "nbconvert_exporter": "python",
   "pygments_lexer": "ipython3",
   "version": "3.8.3"
  }
 },
 "nbformat": 4,
 "nbformat_minor": 4
}
