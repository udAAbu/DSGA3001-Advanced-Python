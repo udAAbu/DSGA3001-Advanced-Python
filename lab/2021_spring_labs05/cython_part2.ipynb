{
 "cells": [
  {
   "cell_type": "code",
   "execution_count": 1,
   "metadata": {
    "scrolled": true,
    "slideshow": {
     "slide_type": "slide"
    }
   },
   "outputs": [],
   "source": [
    "%load_ext Cython\n",
    "import numpy as np\n",
    "from scipy.stats import entropy"
   ]
  },
  {
   "cell_type": "markdown",
   "metadata": {
    "slideshow": {
     "slide_type": "slide"
    }
   },
   "source": [
    "## Matrix multiplication"
   ]
  },
  {
   "cell_type": "markdown",
   "metadata": {
    "slideshow": {
     "slide_type": "slide"
    }
   },
   "source": [
    "### Pure Python implementation"
   ]
  },
  {
   "cell_type": "code",
   "execution_count": 8,
   "metadata": {},
   "outputs": [],
   "source": [
    "def mul_py(x,y):\n",
    "\n",
    "    m1,n1 = x.shape\n",
    "    m2,n2 = y.shape\n",
    "    \n",
    "    z = np.zeros((m1,n2))\n",
    "\n",
    "    for i in range(m1): \n",
    "        for j in range(n2): \n",
    "            val = 0\n",
    "            for k in range(m2): \n",
    "                val += x[i][k] * y[k][j]\n",
    "            z[i][j] = val\n",
    "                \n",
    "    return z\n"
   ]
  },
  {
   "cell_type": "markdown",
   "metadata": {
    "slideshow": {
     "slide_type": "slide"
    }
   },
   "source": [
    "### Cythonized version"
   ]
  },
  {
   "cell_type": "code",
   "execution_count": 9,
   "metadata": {
    "slideshow": {
     "slide_type": "slide"
    }
   },
   "outputs": [],
   "source": [
    "%%cython\n",
    "\n",
    "import numpy as np\n",
    "cimport numpy as np\n",
    "\n",
    "\n",
    "def mul_cy(np.ndarray x, np.ndarray y):\n",
    "    \n",
    "    cdef int m1 = x.shape[0]\n",
    "    cdef int n1 = x.shape[1]\n",
    "    cdef int m2 = y.shape[0]\n",
    "    cdef int n2 = y.shape[1]\n",
    "    cdef np.ndarray z = np.zeros([m1, n2], dtype=float)\n",
    "    \n",
    "    cdef int i \n",
    "    cdef int j\n",
    "    cdef int k\n",
    "    \n",
    "    cdef double value\n",
    "\n",
    "    for i in range(m1): \n",
    "        for j in range(n2): \n",
    "            value = 0\n",
    "            for k in range(m2): \n",
    "                value += x[i][k] * y[k][j]\n",
    "            \n",
    "            z[i][j] = value\n",
    "            \n",
    "    return z\n"
   ]
  },
  {
   "cell_type": "code",
   "execution_count": 10,
   "metadata": {
    "slideshow": {
     "slide_type": "slide"
    }
   },
   "outputs": [],
   "source": [
    "N = 100\n",
    "arr1 = np.random.random((N,N))\n",
    "arr2 = np.random.random((N,N))"
   ]
  },
  {
   "cell_type": "code",
   "execution_count": 11,
   "metadata": {
    "slideshow": {
     "slide_type": "fragment"
    }
   },
   "outputs": [
    {
     "name": "stdout",
     "output_type": "stream",
     "text": [
      "744 ms ± 26.6 ms per loop (mean ± std. dev. of 7 runs, 1 loop each)\n",
      "474 ms ± 14 ms per loop (mean ± std. dev. of 7 runs, 1 loop each)\n"
     ]
    }
   ],
   "source": [
    "%timeit -n 1  mul_py(arr1,arr2)\n",
    "%timeit -n 1  mul_cy(arr1,arr2)"
   ]
  },
  {
   "cell_type": "markdown",
   "metadata": {
    "slideshow": {
     "slide_type": "slide"
    }
   },
   "source": [
    "## NumPy buffer  declaration\n",
    "\n",
    "The `cnp.ndarray[double]` declares a NumPy array _buffer_ object.  Cython knows how to interact with this array-like object efficiently.  The `double` in square brackets is the (scalar) dtype of the array elements."
   ]
  },
  {
   "cell_type": "code",
   "execution_count": 6,
   "metadata": {
    "slideshow": {
     "slide_type": "slide"
    }
   },
   "outputs": [],
   "source": [
    "%%cython\n",
    "\n",
    "import numpy as np\n",
    "cimport numpy as np\n",
    "\n",
    "def mul_v2(np.ndarray[np.float64_t, ndim=2] x, np.ndarray[np.float64_t, ndim=2] y):\n",
    "    \n",
    "    cdef int m1 = x.shape[0]\n",
    "    cdef int n1 = x.shape[1]\n",
    "    cdef int m2 = y.shape[0]\n",
    "    cdef int n2 = y.shape[1]\n",
    "    cdef np.ndarray[np.float64_t, ndim=2] z = np.zeros([m1, n2], dtype=float)\n",
    "    \n",
    "    cdef int i \n",
    "    cdef int j\n",
    "    cdef int k\n",
    "    \n",
    "    cdef double value\n",
    "\n",
    "    for i in range(m1): \n",
    "        for j in range(n2):\n",
    "            value = 0\n",
    "            for k in range(m2): \n",
    "                value += x[i][k] * y[k][j]\n",
    "            z[i][j] = value\n",
    "                \n",
    "    return z\n"
   ]
  },
  {
   "cell_type": "code",
   "execution_count": 3,
   "metadata": {},
   "outputs": [],
   "source": [
    "%load_ext cython"
   ]
  },
  {
   "cell_type": "code",
   "execution_count": 4,
   "metadata": {},
   "outputs": [],
   "source": [
    "%%cython\n",
    "\n",
    "import numpy as np\n",
    "cimport numpy as np\n",
    "\n",
    "def mul_v2(np.ndarray[double, ndim=2] x, np.ndarray[double, ndim=2] y):\n",
    "    \n",
    "    cdef int m1 = x.shape[0]\n",
    "    cdef int n1 = x.shape[1]\n",
    "    cdef int m2 = y.shape[0]\n",
    "    cdef int n2 = y.shape[1]\n",
    "    cdef np.ndarray[double, ndim=2] z = np.zeros([m1, n2], dtype=float)\n",
    "    \n",
    "    cdef int i \n",
    "    cdef int j\n",
    "    cdef int k\n",
    "    \n",
    "    cdef double value\n",
    "\n",
    "    for i in range(m1): \n",
    "        for j in range(n2):\n",
    "            value = 0\n",
    "            for k in range(m2): \n",
    "                value += x[i][k] * y[k][j]\n",
    "            z[i][j] = value\n",
    "                \n",
    "    return z"
   ]
  },
  {
   "cell_type": "code",
   "execution_count": 7,
   "metadata": {
    "slideshow": {
     "slide_type": "slide"
    }
   },
   "outputs": [
    {
     "name": "stdout",
     "output_type": "stream",
     "text": [
      "469 ms ± 14.2 ms per loop (mean ± std. dev. of 7 runs, 1 loop each)\n"
     ]
    }
   ],
   "source": [
    "%timeit -n 1 mul_v2(arr1,arr2)"
   ]
  },
  {
   "cell_type": "markdown",
   "metadata": {
    "slideshow": {
     "slide_type": "slide"
    }
   },
   "source": [
    "### Typed memoryview \n",
    "\n",
    "- Typed memoryview allow efficient access to memory buffers, without any python overhead\n",
    "\n"
   ]
  },
  {
   "cell_type": "markdown",
   "metadata": {
    "slideshow": {
     "slide_type": "slide"
    }
   },
   "source": [
    "![name](img/mem_view.png)\n",
    "\n",
    "[Image source](https://github.com/kwmsmith/scipy-2015-cython-tutorial/blob/master/cython-scipy-2015-kurt-smith.pdf)"
   ]
  },
  {
   "cell_type": "code",
   "execution_count": 8,
   "metadata": {
    "slideshow": {
     "slide_type": "slide"
    }
   },
   "outputs": [
    {
     "name": "stdout",
     "output_type": "stream",
     "text": [
      "NumPy sum of the NumPy array before assignments: 351\n",
      "NumPy sum of NumPy array after assignments: 81\n"
     ]
    }
   ],
   "source": [
    "%%cython\n",
    "import numpy as np\n",
    "\n",
    "narr = np.arange(27, dtype=np.dtype(\"i\")).reshape((3, 3, 3))\n",
    "cdef int [:, :, :] narr_view = narr\n",
    "\n",
    "\n",
    "print(\"NumPy sum of the NumPy array before assignments: %s\" % narr.sum())\n",
    "\n",
    "# NumPy-style syntax for assigning a single value to all elements.\n",
    "narr_view[:, :, :] = 3\n",
    "\n",
    "print(f\"NumPy sum of NumPy array after assignments: %s\" % narr.sum())"
   ]
  },
  {
   "cell_type": "code",
   "execution_count": 9,
   "metadata": {
    "slideshow": {
     "slide_type": "slide"
    }
   },
   "outputs": [],
   "source": [
    "%%cython\n",
    "\n",
    "def sum3d(int[:, :, :] arr):\n",
    "    cdef size_t i, j, k, I, J, K\n",
    "    cdef int total = 0\n",
    "    I = arr.shape[0]\n",
    "    J = arr.shape[1]\n",
    "    K = arr.shape[2]\n",
    "    for i in range(I):\n",
    "        for j in range(J):\n",
    "            for k in range(K):\n",
    "                total += arr[i, j, k]\n",
    "    return total\n"
   ]
  },
  {
   "cell_type": "code",
   "execution_count": 10,
   "metadata": {
    "slideshow": {
     "slide_type": "slide"
    }
   },
   "outputs": [
    {
     "name": "stdout",
     "output_type": "stream",
     "text": [
      "3.35 µs ± 197 ns per loop (mean ± std. dev. of 7 runs, 10000 loops each)\n"
     ]
    }
   ],
   "source": [
    "%timeit -n 10000 narr.sum()"
   ]
  },
  {
   "cell_type": "code",
   "execution_count": 11,
   "metadata": {
    "slideshow": {
     "slide_type": "fragment"
    }
   },
   "outputs": [
    {
     "name": "stdout",
     "output_type": "stream",
     "text": [
      "837 ns ± 47.5 ns per loop (mean ± std. dev. of 7 runs, 10000 loops each)\n"
     ]
    }
   ],
   "source": [
    "%timeit -n 10000 sum3d(narr)"
   ]
  },
  {
   "cell_type": "markdown",
   "metadata": {
    "slideshow": {
     "slide_type": "slide"
    }
   },
   "source": [
    "The declaration\n",
    "\n",
    "```python\n",
    "def mul_mv(double[:,:] x, double[:,:] y)\n",
    "   ...\n",
    "```\n",
    "\n",
    "Declares `x` and `y` to be two dimensional contiguous typed memoryview "
   ]
  },
  {
   "cell_type": "code",
   "execution_count": 12,
   "metadata": {
    "slideshow": {
     "slide_type": "slide"
    }
   },
   "outputs": [],
   "source": [
    "%%cython\n",
    "\n",
    "import numpy as np\n",
    "cimport numpy as np\n",
    "\n",
    "DTYPE = np.float64\n",
    "ctypedef np.float_t DTYPE_t\n",
    "\n",
    "def mul_mv(double[:,:] x, double[:,:] y):\n",
    "    \n",
    "    cdef int m1 = x.shape[0]\n",
    "    cdef int n1 = x.shape[1]\n",
    "    cdef int m2 = y.shape[0]\n",
    "    cdef int n2 = y.shape[1]\n",
    "    \n",
    "    cdef double[:,:] z = np.zeros([m1, n2], dtype=float)\n",
    "    \n",
    "    cdef int i \n",
    "    cdef int j\n",
    "    cdef int k\n",
    "    \n",
    "    cdef double value\n",
    "\n",
    "    for i in range(m1): \n",
    "        for j in range(n2):\n",
    "            value = 0\n",
    "            for k in range(m2): \n",
    "                value += x[i,k] * y[k,j]\n",
    "            z[i,j] = value\n",
    "                \n",
    "    return z\n"
   ]
  },
  {
   "cell_type": "code",
   "execution_count": 13,
   "metadata": {
    "slideshow": {
     "slide_type": "slide"
    }
   },
   "outputs": [
    {
     "name": "stdout",
     "output_type": "stream",
     "text": [
      "1.06 ms ± 17.4 µs per loop (mean ± std. dev. of 7 runs, 100 loops each)\n"
     ]
    }
   ],
   "source": [
    "%timeit -n 100 mul_mv(arr1,arr2)"
   ]
  },
  {
   "cell_type": "markdown",
   "metadata": {
    "slideshow": {
     "slide_type": "slide"
    }
   },
   "source": [
    "### How fast is numpy?"
   ]
  },
  {
   "cell_type": "code",
   "execution_count": 14,
   "metadata": {
    "slideshow": {
     "slide_type": "slide"
    }
   },
   "outputs": [],
   "source": [
    "def mul_np(x,y):\n",
    "    \"\"\"\n",
    "    Multiply two arrays using numpy.\n",
    "    \"\"\"\n",
    "    return np.matmul(x,y)"
   ]
  },
  {
   "cell_type": "code",
   "execution_count": 15,
   "metadata": {
    "slideshow": {
     "slide_type": "slide"
    }
   },
   "outputs": [
    {
     "name": "stdout",
     "output_type": "stream",
     "text": [
      "1.05 ms ± 10.3 µs per loop (mean ± std. dev. of 7 runs, 100 loops each)\n",
      "30.2 µs ± 15.6 µs per loop (mean ± std. dev. of 7 runs, 100 loops each)\n"
     ]
    }
   ],
   "source": [
    "%timeit -n 100 mul_mv(arr1,arr2)\n",
    "%timeit -n 100 mul_np(arr1,arr2)"
   ]
  },
  {
   "cell_type": "markdown",
   "metadata": {
    "slideshow": {
     "slide_type": "slide"
    }
   },
   "source": [
    "### How fast is C++?"
   ]
  },
  {
   "cell_type": "code",
   "execution_count": 16,
   "metadata": {
    "slideshow": {
     "slide_type": "fragment"
    }
   },
   "outputs": [
    {
     "name": "stdout",
     "output_type": "stream",
     "text": [
      "checksum is 30376775.000000\r\n",
      "N: 100, <T_avg>: 8.731600e-04 sec \r\n"
     ]
    }
   ],
   "source": [
    "!./mymatmul 100 100"
   ]
  },
  {
   "cell_type": "code",
   "execution_count": null,
   "metadata": {},
   "outputs": [],
   "source": []
  }
 ],
 "metadata": {
  "celltoolbar": "Slideshow",
  "kernelspec": {
   "display_name": "Python 3",
   "language": "python",
   "name": "python3"
  },
  "language_info": {
   "codemirror_mode": {
    "name": "ipython",
    "version": 3
   },
   "file_extension": ".py",
   "mimetype": "text/x-python",
   "name": "python",
   "nbconvert_exporter": "python",
   "pygments_lexer": "ipython3",
   "version": "3.8.5"
  }
 },
 "nbformat": 4,
 "nbformat_minor": 4
}
