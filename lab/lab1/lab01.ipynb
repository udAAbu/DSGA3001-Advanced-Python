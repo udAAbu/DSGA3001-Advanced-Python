{
 "cells": [
  {
   "cell_type": "markdown",
   "metadata": {
    "slideshow": {
     "slide_type": "slide"
    }
   },
   "source": [
    "## NYU CDS (Center for Data Science)\n",
    "\n",
    "# DS-GA 3001: Advanced Python for Data Science\n",
    "\n",
    "## Lab 01\n",
    "### 2/2/2021"
   ]
  },
  {
   "cell_type": "markdown",
   "metadata": {
    "extensions": {
     "jupyter_dashboards": {
      "version": 1,
      "views": {
       "grid_default": {
        "col": 0,
        "height": 5,
        "hidden": false,
        "row": 0,
        "width": 12
       },
       "report_default": {
        "hidden": false
       }
      }
     }
    },
    "slideshow": {
     "slide_type": "slide"
    }
   },
   "source": [
    "## Details\n",
    "\n",
    "### Section 2\n",
    "\n",
    "Karanbir Singh Chahal <ksc487@nyu.edu> (in-person), Yunxiao Shi <ys3404@nyu.edu> (remote)\n",
    "\n",
    "**Timing**: Tuesdays from 7:10pm-8:00pm EST\n",
    "\n",
    "### Section 3\n",
    "\n",
    "Agnes Sharan Sahaya Raj Helan <asr647@nyu.edu> (remote)\n",
    "\n",
    "**Timing**: Tuesdays from 8:00pm-8:50pm EST\n",
    "\n",
    "All lab material can be found in NYU Classes under Resources"
   ]
  },
  {
   "cell_type": "markdown",
   "metadata": {
    "slideshow": {
     "slide_type": "slide"
    }
   },
   "source": [
    "## Required installation\n",
    "\n",
    "Things you should've install:\n",
    "* Shell (bash/zsh, typically included in OS, see [here](https://www.windowscentral.com/how-install-bash-shell-command-line-windows-10) for Windows)\n",
    "* Python with [Anaconda](https://docs.anaconda.com/anaconda/install/) (or [Miniconda](https://docs.conda.io/projects/conda/en/latest/user-guide/install/)) distribution\n",
    "* IPython, Jupyter Notebook, numpy, pandas\n",
    "    `conda install ipython jupyter numpy pandas`\n",
    "    \n",
    "### Alternative \n",
    "\n",
    "1. Unzip lab1.zip\n",
    "2. Go to [Google Colab](https://colab.research.google.com/) and upload lab01.ipynb\n",
    "3. Upload the remaining files to the Files section in the sidebar "
   ]
  },
  {
   "cell_type": "markdown",
   "metadata": {
    "extensions": {
     "jupyter_dashboards": {
      "version": 1,
      "views": {
       "grid_default": {
        "col": 0,
        "height": 4,
        "hidden": false,
        "row": 5,
        "width": 12
       },
       "report_default": {
        "hidden": false
       }
      }
     }
    },
    "slideshow": {
     "slide_type": "slide"
    }
   },
   "source": [
    "## 1. Shell Script: Producing Reuseable Commands "
   ]
  },
  {
   "cell_type": "markdown",
   "metadata": {
    "slideshow": {
     "slide_type": "slide"
    }
   },
   "source": [
    "- `flightdelays.csv` - data set containing the arrival and departure details of all commercial flights in the US from 2007 \n",
    "- Check `flightdelays_with_header.csv` for headers\n",
    "    1. Column 16 - Departure delay\n",
    "    2. Column 18 - Destination airport"
   ]
  },
  {
   "cell_type": "markdown",
   "metadata": {
    "slideshow": {
     "slide_type": "slide"
    }
   },
   "source": [
    "### e.g 0. parse a csv file (process_data.sh)\n",
    "```text\n",
    "#!/usr/bin/env bash \n",
    "# Tells OS that the script is in bash\n",
    "\n",
    "echo \"Data Processing\"\n",
    "# To store the output of a command as a variable in bash:\n",
    "# var=$(command)\n",
    "\n",
    "echo -e \"The name of the file is:\" $1 \"\\n\"\n",
    "\n",
    "lines=$(wc -l < $1)\n",
    "echo -e \"The file has\" $lines \"lines\\n\"\n",
    "\n",
    "colnames=$(head -n 1 < $1)\n",
    "echo \"Column names are: \"\n",
    "echo $colnames\n",
    "```"
   ]
  },
  {
   "cell_type": "code",
   "execution_count": 1,
   "metadata": {
    "slideshow": {
     "slide_type": "slide"
    }
   },
   "outputs": [
    {
     "name": "stdout",
     "output_type": "stream",
     "text": [
      "Data Processing\n",
      "The name of the file is: flightdelays_with_header.csv \n",
      "\n",
      "The file has 494 lines\n",
      "\n",
      "Column names are: \n",
      "Year,Month,DayofMonth,DayOfWeek,DepTime,CRSDepTime,ArrTime,CRSArrTime,UniqueCarrier,FlightNum,TailNum,ActualElapsedTime,CRSElapsedTime,AirTime,ArrDelay,DepDelay,Origin,Dest,Distance,TaxiIn,TaxiOut,Cancelled,CancellationCode,Diverted,CarrierDelay,WeatherDelay,NASDelay,SecurityDelay,LateAircraftDelay\n"
     ]
    }
   ],
   "source": [
    "#To run:\n",
    "!bash process_data.sh flightdelays_with_header.csv "
   ]
  },
  {
   "cell_type": "markdown",
   "metadata": {
    "slideshow": {
     "slide_type": "slide"
    }
   },
   "source": [
    "### e.g 1. Calculate minimum, maximum delay in departure (delay.sh)\n",
    "\n",
    "```text\n",
    "#!/usr/bin/env bash \n",
    "\n",
    "echo -n \"Min delay: \"\n",
    "cut -d ',' -f 16 $1|sort -n|head -1\n",
    "\n",
    "echo -n \"Max delay: \"\n",
    "cut -d ',' -f 16 $1|sort -n|tail -1\n",
    "\n",
    "```"
   ]
  },
  {
   "cell_type": "code",
   "execution_count": 3,
   "metadata": {},
   "outputs": [
    {
     "name": "stdout",
     "output_type": "stream",
     "text": [
      "Min delay: -14\n",
      "Max delay: 601\n"
     ]
    }
   ],
   "source": [
    "#To run:\n",
    "!bash delay.sh flightdelays.csv"
   ]
  },
  {
   "cell_type": "markdown",
   "metadata": {
    "extensions": {
     "jupyter_dashboards": {
      "version": 1,
      "views": {
       "grid_default": {
        "col": 0,
        "height": 11,
        "hidden": false,
        "row": 9,
        "width": 12
       },
       "report_default": {
        "hidden": false
       }
      }
     }
    },
    "slideshow": {
     "slide_type": "slide"
    }
   },
   "source": [
    "### e.g 2. Top 3 destination airports (by the number of arriving planes), unique airports (demoscript.sh)\n",
    "```text\n",
    "#!/usr/bin/env bash\n",
    "\n",
    "echo \"The top 3 airports:\"\n",
    "cut -d ',' -f 18 $1|sort |uniq -c |sort -n |tail -3\n",
    "# uniq -c \n",
    "# Precede each output line with the count of the number \n",
    "# of times the line occurred in the input,\n",
    "# followed by a single space\n",
    "\n",
    "echo \"The number of unique airports:\"\n",
    "cut -d ',' -f 18 $1|sort |uniq |wc -l\n",
    "```"
   ]
  },
  {
   "cell_type": "code",
   "execution_count": 3,
   "metadata": {
    "extensions": {
     "jupyter_dashboards": {
      "version": 1,
      "views": {
       "grid_default": {
        "col": 0,
        "height": 5,
        "hidden": false,
        "row": 20,
        "width": 12
       },
       "report_default": {
        "hidden": false
       }
      }
     }
    },
    "slideshow": {
     "slide_type": "slide"
    }
   },
   "outputs": [
    {
     "name": "stdout",
     "output_type": "stream",
     "text": [
      "The top 3 airports:\r\n",
      "  19 PHX\r\n",
      "  24 ORD\r\n",
      "  37 ATL\r\n",
      "The number of unique airports:\r\n",
      "     122\r\n"
     ]
    }
   ],
   "source": [
    "#To run:\n",
    "!bash demoscript.sh flightdelays.csv"
   ]
  },
  {
   "cell_type": "markdown",
   "metadata": {
    "slideshow": {
     "slide_type": "slide"
    }
   },
   "source": [
    "### e.g 3. executing a python program with argments\n",
    "```text\n",
    "#!/bin/bash\n",
    "python greeting_arg.py -n $1 -g $2\n",
    "```"
   ]
  },
  {
   "cell_type": "code",
   "execution_count": 5,
   "metadata": {
    "slideshow": {
     "slide_type": "-"
    }
   },
   "outputs": [
    {
     "name": "stdout",
     "output_type": "stream",
     "text": [
      "Welcome, Alice!\r\n"
     ]
    }
   ],
   "source": [
    "#To run:\n",
    "!bash python_shell.sh Alice Welcome"
   ]
  },
  {
   "cell_type": "markdown",
   "metadata": {
    "extensions": {
     "jupyter_dashboards": {
      "version": 1,
      "views": {
       "grid_default": {
        "col": 0,
        "height": 9,
        "hidden": false,
        "row": 37,
        "width": 12
       },
       "report_default": {
        "hidden": false
       }
      }
     }
    },
    "slideshow": {
     "slide_type": "slide"
    }
   },
   "source": [
    "### e.g 4. executing program on a set of file (do-stats.sh)\n",
    "```text\n",
    "#!/usr/bin/env bash\n",
    "# $@ in refers to all of a shell script's command-line arguments. $1 , $2 , etc.,\n",
    "# Place variables in quotes if the values might have spaces in them\n",
    "\n",
    "for datafile in \"$@\" \n",
    "do\n",
    "    echo $datafile\n",
    "    bash goostats $datafile stats-$datafile\n",
    "done\n",
    "```"
   ]
  },
  {
   "cell_type": "code",
   "execution_count": 4,
   "metadata": {
    "extensions": {
     "jupyter_dashboards": {
      "version": 1,
      "views": {
       "grid_default": {
        "col": 0,
        "height": 5,
        "hidden": false,
        "row": 46,
        "width": 12
       },
       "report_default": {
        "hidden": false
       }
      }
     }
    },
    "slideshow": {
     "slide_type": "slide"
    }
   },
   "outputs": [
    {
     "name": "stdout",
     "output_type": "stream",
     "text": [
      "NENE01729A.txt\n",
      "NENE01729B.txt\n",
      "NENE01736A.txt\n",
      "NENE01751A.txt\n",
      "NENE01751B.txt\n",
      "NENE01812A.txt\n",
      "NENE01843A.txt\n"
     ]
    }
   ],
   "source": [
    "#To run:\n",
    "!bash do-stats.sh NENE*[AB].txt"
   ]
  },
  {
   "cell_type": "markdown",
   "metadata": {
    "extensions": {
     "jupyter_dashboards": {
      "version": 1,
      "views": {
       "grid_default": {
        "col": 0,
        "height": 4,
        "hidden": false,
        "row": 60,
        "width": 12
       },
       "report_default": {
        "hidden": false
       }
      }
     }
    },
    "slideshow": {
     "slide_type": "slide"
    }
   },
   "source": [
    "## 2. Useful Shell Commands in Scrubbing Data"
   ]
  },
  {
   "cell_type": "markdown",
   "metadata": {
    "extensions": {
     "jupyter_dashboards": {
      "version": 1,
      "views": {
       "grid_default": {
        "col": 0,
        "height": 4,
        "hidden": false,
        "row": 64,
        "width": 12
       },
       "report_default": {
        "hidden": false
       }
      }
     }
    },
    "slideshow": {
     "slide_type": "slide"
    }
   },
   "source": [
    "### Get part of the file: head, sed, tail\n"
   ]
  },
  {
   "cell_type": "code",
   "execution_count": 5,
   "metadata": {},
   "outputs": [
    {
     "name": "stdout",
     "output_type": "stream",
     "text": [
      "Line 1\n",
      "Line 2\n",
      "Line 3\n",
      "Line 4\n",
      "Line 5\n",
      "Line 6\n",
      "Line 7\n",
      "Line 8\n",
      "Line 9\n",
      "Line 10\n"
     ]
    }
   ],
   "source": [
    "!seq -f \"Line %g\" 10"
   ]
  },
  {
   "cell_type": "code",
   "execution_count": 11,
   "metadata": {
    "extensions": {
     "jupyter_dashboards": {
      "version": 1,
      "views": {
       "grid_default": {
        "col": 0,
        "height": 14,
        "hidden": false,
        "row": 68,
        "width": 12
       },
       "report_default": {
        "hidden": false
       }
      }
     }
    },
    "slideshow": {
     "slide_type": "fragment"
    }
   },
   "outputs": [
    {
     "name": "stdout",
     "output_type": "stream",
     "text": [
      "Line 1\r\n",
      "Line 2\r\n",
      "Line 3\r\n",
      "Line 4\r\n",
      "Line 5\r\n",
      "Line 6\r\n",
      "Line 7\r\n",
      "Line 8\r\n",
      "Line 9\r\n",
      "Line 10\r\n"
     ]
    }
   ],
   "source": [
    "!seq -f \"Line %g\" 10 | tee lines\n",
    "# tee: copies standard input to standard output"
   ]
  },
  {
   "cell_type": "code",
   "execution_count": 12,
   "metadata": {
    "slideshow": {
     "slide_type": "slide"
    }
   },
   "outputs": [
    {
     "name": "stdout",
     "output_type": "stream",
     "text": [
      "Line 1\r\n",
      "Line 2\r\n",
      "Line 3\r\n"
     ]
    }
   ],
   "source": [
    "!head -n 3 lines "
   ]
  },
  {
   "cell_type": "code",
   "execution_count": 14,
   "metadata": {
    "slideshow": {
     "slide_type": "fragment"
    }
   },
   "outputs": [
    {
     "name": "stdout",
     "output_type": "stream",
     "text": [
      "Line 1\r\n",
      "Line 2\r\n",
      "Line 3\r\n"
     ]
    }
   ],
   "source": [
    "!sed '4,10d' lines \n",
    "# sed 'm,nd' file"
   ]
  },
  {
   "cell_type": "code",
   "execution_count": 15,
   "metadata": {
    "slideshow": {
     "slide_type": "fragment"
    }
   },
   "outputs": [
    {
     "name": "stdout",
     "output_type": "stream",
     "text": [
      "Line 8\r\n",
      "Line 9\r\n",
      "Line 10\r\n"
     ]
    }
   ],
   "source": [
    "!tail -n 3 lines"
   ]
  },
  {
   "cell_type": "markdown",
   "metadata": {
    "extensions": {
     "jupyter_dashboards": {
      "version": 1,
      "views": {
       "grid_default": {
        "col": 0,
        "height": 4,
        "hidden": false,
        "row": 82,
        "width": 12
       },
       "report_default": {
        "hidden": false
       }
      }
     }
    },
    "slideshow": {
     "slide_type": "slide"
    }
   },
   "source": [
    "### Get part of file using pattern matching (grep)"
   ]
  },
  {
   "cell_type": "code",
   "execution_count": 16,
   "metadata": {
    "extensions": {
     "jupyter_dashboards": {
      "version": 1,
      "views": {
       "grid_default": {
        "col": 0,
        "height": 11,
        "hidden": false,
        "row": 86,
        "width": 12
       },
       "report_default": {
        "hidden": false
       }
      }
     }
    },
    "scrolled": true,
    "slideshow": {
     "slide_type": "slide"
    }
   },
   "outputs": [
    {
     "name": "stdout",
     "output_type": "stream",
     "text": [
      "CHAPTER I Down the Rabbit-Hole\n",
      "CHAPTER II The Pool of Tears\n",
      "CHAPTER III A Caucus-Race and a Long Tale\n",
      "CHAPTER IV. The Rabbit Sends in a Little Bill\n",
      "CHAPTER V Advice from a Caterpillar\n",
      "CHAPTER VI Pig and Pepper\n",
      "CHAPTER VII A Mad Tea-Party\n",
      "CHAPTER VIII The Queen's Croquet-Ground\n",
      "CHAPTER IX The Mock Turtle's Story\n",
      "CHAPTER X The Lobster Quadrille\n",
      "CHAPTER XI Who Stole the Tarts?\n",
      "CHAPTER XII Alice's Evidence\n",
      "\n",
      "CHAPTER II The Pool of Tears\n",
      "CHAPTER IV. The Rabbit Sends in a Little Bill\n",
      "CHAPTER VIII The Queen's Croquet-Ground\n",
      "CHAPTER IX The Mock Turtle's Story\n",
      "CHAPTER X The Lobster Quadrille\n"
     ]
    }
   ],
   "source": [
    "!grep -i chapter alice.txt # case insensitive\n",
    "\n",
    "!echo\n",
    "!grep -E '^CHAPTER .* The' alice.txt \n",
    "# regular expression"
   ]
  },
  {
   "cell_type": "markdown",
   "metadata": {
    "extensions": {
     "jupyter_dashboards": {
      "version": 1,
      "views": {
       "grid_default": {
        "col": 0,
        "height": 4,
        "hidden": false,
        "row": 97,
        "width": 12
       },
       "report_default": {
        "hidden": false
       }
      }
     }
    },
    "slideshow": {
     "slide_type": "slide"
    }
   },
   "source": [
    "### Replacing and Deleting Values: tr"
   ]
  },
  {
   "cell_type": "code",
   "execution_count": 13,
   "metadata": {
    "extensions": {
     "jupyter_dashboards": {
      "version": 1,
      "views": {
       "grid_default": {
        "col": 0,
        "height": 4,
        "hidden": false,
        "row": 105,
        "width": 12
       },
       "report_default": {
        "hidden": false
       }
      }
     }
    },
    "slideshow": {
     "slide_type": "slide"
    }
   },
   "outputs": [
    {
     "name": "stdout",
     "output_type": "stream",
     "text": [
      "'helloworld!'\n",
      "'hello_world!'_\n",
      "'hello_world?'_\n",
      "'HELLO WORLD!' \n"
     ]
    }
   ],
   "source": [
    "!echo 'hello world!' | tr -d \" \"\n",
    "\n",
    "!echo 'hello world!' | tr \" \" '_'\n",
    "\n",
    "!echo 'hello world!' | tr ' !' '_?'\n",
    "\n",
    "!echo 'hello world!' | tr '[a-z]' '[A-Z]'"
   ]
  },
  {
   "cell_type": "markdown",
   "metadata": {
    "extensions": {
     "jupyter_dashboards": {
      "version": 1,
      "views": {
       "grid_default": {
        "col": 0,
        "height": 4,
        "hidden": false,
        "row": 109,
        "width": 12
       },
       "report_default": {
        "hidden": false
       }
      }
     }
    },
    "slideshow": {
     "slide_type": "slide"
    }
   },
   "source": [
    "## 3. Numpy and Pandas Review "
   ]
  },
  {
   "cell_type": "code",
   "execution_count": 14,
   "metadata": {
    "extensions": {
     "jupyter_dashboards": {
      "version": 1,
      "views": {
       "grid_default": {
        "hidden": true
       },
       "report_default": {
        "hidden": true
       }
      }
     }
    },
    "slideshow": {
     "slide_type": "slide"
    }
   },
   "outputs": [],
   "source": [
    "import numpy as np\n",
    "import pandas as pd"
   ]
  },
  {
   "cell_type": "code",
   "execution_count": 16,
   "metadata": {
    "extensions": {
     "jupyter_dashboards": {
      "version": 1,
      "views": {
       "grid_default": {
        "col": 0,
        "height": 5,
        "hidden": false,
        "row": 113,
        "width": 12
       },
       "report_default": {
        "hidden": false
       }
      }
     }
    },
    "slideshow": {
     "slide_type": "slide"
    }
   },
   "outputs": [
    {
     "name": "stdout",
     "output_type": "stream",
     "text": [
      "Shape of the array: (2, 3)\n",
      "Total number of elements: 6\n",
      "Dtype: int32\n",
      "Size in bytes: 4\n",
      "Buffer: <memory at 0x0000029C13DD2BA0>\n"
     ]
    }
   ],
   "source": [
    "a = np.array([[1,2,3],[4,5,6]])\n",
    "#a tuple of integers indicating the shape of the array \n",
    "# in each dimension\n",
    "print('Shape of the array:', a.shape) \n",
    "#the total number of elements of the array\n",
    "print('Total number of elements:', a.size) \n",
    "# an object describing the type of the elements in the array\n",
    "print('Dtype:',a.dtype) \n",
    "print('Size in bytes:',a.itemsize) \n",
    "#the size in bytes of each element of the array\n",
    "print('Buffer:',a.data) \n",
    "#buffer pointing to the start of array"
   ]
  },
  {
   "cell_type": "code",
   "execution_count": 19,
   "metadata": {},
   "outputs": [
    {
     "name": "stdout",
     "output_type": "stream",
     "text": [
      "(3, 1, 3)\n",
      "9\n"
     ]
    }
   ],
   "source": [
    "## Example of 3-dimensional array in numpy\n",
    "b = np.array([[[1,2,3]],[[4,5,6]],[[7,8,9]]])\n",
    "print(b.shape)\n",
    "print(b.size)\n",
    "## Note that the shape of the array has 3 elements instead of 2"
   ]
  },
  {
   "cell_type": "code",
   "execution_count": 21,
   "metadata": {
    "extensions": {
     "jupyter_dashboards": {
      "version": 1,
      "views": {
       "grid_default": {
        "col": 0,
        "height": 10,
        "hidden": false,
        "row": 118,
        "width": 12
       },
       "report_default": {
        "hidden": false
       }
      }
     }
    },
    "slideshow": {
     "slide_type": "slide"
    }
   },
   "outputs": [
    {
     "name": "stdout",
     "output_type": "stream",
     "text": [
      "[[1. 1. 1.]\n",
      " [1. 1. 1.]\n",
      " [1. 1. 1.]]\n",
      "[[0. 0. 0.]\n",
      " [0. 0. 0.]\n",
      " [0. 0. 0.]]\n",
      "[[7 7 7]\n",
      " [7 7 7]\n",
      " [7 7 7]]\n",
      "[[0.95094168 0.27169011 0.57100091]\n",
      " [0.7045408  0.98139342 0.52845482]\n",
      " [0.59204091 0.33076546 0.34123077]]\n"
     ]
    }
   ],
   "source": [
    "print(np.ones((3, 3))) # Create an array of all zeros\n",
    "print(np.zeros((3, 3))) # Create an array of all ones\n",
    "print(np.full((3,3), 7)) #Create a constant array\n",
    "print(np.random.rand(3, 3)) # Create an array filled with random values"
   ]
  },
  {
   "cell_type": "code",
   "execution_count": 22,
   "metadata": {
    "extensions": {
     "jupyter_dashboards": {
      "version": 1,
      "views": {
       "grid_default": {
        "col": 0,
        "height": 4,
        "hidden": false,
        "row": 128,
        "width": 12
       },
       "report_default": {
        "hidden": false
       }
      }
     }
    },
    "slideshow": {
     "slide_type": "slide"
    }
   },
   "outputs": [
    {
     "name": "stdout",
     "output_type": "stream",
     "text": [
      "[[5 6]] \n",
      "\n",
      "2\n"
     ]
    }
   ],
   "source": [
    "#Array indexing:\n",
    "a = np.array([[1, 2, 3], [4, 5, 6]])\n",
    "print(a[1:2, 1:],'\\n')\n",
    "print(a[0, 1])"
   ]
  },
  {
   "cell_type": "code",
   "execution_count": 26,
   "metadata": {
    "extensions": {
     "jupyter_dashboards": {
      "version": 1,
      "views": {
       "grid_default": {
        "col": 0,
        "height": 4,
        "hidden": false,
        "row": 132,
        "width": 12
       },
       "report_default": {
        "hidden": false
       }
      }
     }
    },
    "slideshow": {
     "slide_type": "slide"
    }
   },
   "outputs": [
    {
     "name": "stdout",
     "output_type": "stream",
     "text": [
      "[[0 1]\n",
      " [2 3]]\n",
      "[[0 2]\n",
      " [1 3]]\n"
     ]
    }
   ],
   "source": [
    "x = np.arange(4).reshape(2, 2)\n",
    "print(x)\n",
    "print(np.transpose(x)) #transposes matrix"
   ]
  },
  {
   "cell_type": "code",
   "execution_count": 23,
   "metadata": {
    "extensions": {
     "jupyter_dashboards": {
      "version": 1,
      "views": {
       "grid_default": {
        "col": 0,
        "height": 4,
        "hidden": false,
        "row": 136,
        "width": 12
       },
       "report_default": {
        "hidden": false
       }
      }
     }
    },
    "slideshow": {
     "slide_type": "slide"
    }
   },
   "outputs": [
    {
     "name": "stdout",
     "output_type": "stream",
     "text": [
      "b: [ 0  5  2  3  4  5  6  7  8  9 10 11]\n",
      "b: [ 0 -2  2  3  4  5  6  7  8  9 10 11]\n",
      "c: [ 0  5  2  3  4  5  6  7  8  9 10 11]\n",
      "<memory at 0x0000029C1790BAC0>\n"
     ]
    }
   ],
   "source": [
    "#Assignment operation\n",
    "a = np.arange(12)\n",
    "b = a\n",
    "a[1] =5\n",
    "print('b:',b)\n",
    "#Creates a copy of the array\n",
    "c = np.copy(b)\n",
    "b[1] = -2\n",
    "print('b:',b)\n",
    "print('c:',c)\n",
    "print(c.data)"
   ]
  },
  {
   "cell_type": "code",
   "execution_count": 27,
   "metadata": {
    "extensions": {
     "jupyter_dashboards": {
      "version": 1,
      "views": {
       "grid_default": {
        "col": 0,
        "height": 5,
        "hidden": false,
        "row": 140,
        "width": 12
       },
       "report_default": {
        "hidden": false
       }
      }
     }
    },
    "slideshow": {
     "slide_type": "slide"
    }
   },
   "outputs": [
    {
     "name": "stdout",
     "output_type": "stream",
     "text": [
      "a    5\n",
      "b    9\n",
      "c    9\n",
      "d    1\n",
      "e    6\n",
      "dtype: int32\n"
     ]
    }
   ],
   "source": [
    "index = ['a','b','c','d','e']\n",
    "series = pd.Series(np.random.randint(0,10,5), index=index) \n",
    "# One-dimensional ndarray with axis labels \n",
    "# (including time series)\n",
    "print(series)"
   ]
  },
  {
   "cell_type": "code",
   "execution_count": 30,
   "metadata": {
    "extensions": {
     "jupyter_dashboards": {
      "version": 1,
      "views": {
       "grid_default": {
        "col": 0,
        "height": 6,
        "hidden": false,
        "row": 145,
        "width": 12
       },
       "report_default": {
        "hidden": false
       }
      }
     }
    },
    "slideshow": {
     "slide_type": "slide"
    }
   },
   "outputs": [
    {
     "name": "stdout",
     "output_type": "stream",
     "text": [
      "a    5\n",
      "dtype: int32 \n",
      "\n",
      "a    5\n",
      "c    9\n",
      "dtype: int32 \n",
      "\n",
      "b    9\n",
      "c    9\n",
      "d    1\n",
      "e    6\n",
      "dtype: int32\n"
     ]
    }
   ],
   "source": [
    "print(series[['a']], '\\n')\n",
    "print(series[['a', 'c']],'\\n') #how to access\n",
    "#Slicing\n",
    "print(series['b':'e'])"
   ]
  },
  {
   "cell_type": "code",
   "execution_count": 31,
   "metadata": {},
   "outputs": [
    {
     "name": "stdout",
     "output_type": "stream",
     "text": [
      "   Name  Age\n",
      "0   tom   10\n",
      "1  nick   15\n",
      "2  juli   14\n"
     ]
    }
   ],
   "source": [
    "data = [['tom', 10], ['nick', 15], ['juli', 14]] \n",
    "df = pd.DataFrame(data, columns = ['Name', 'Age'])\n",
    "print(df)"
   ]
  },
  {
   "cell_type": "code",
   "execution_count": 37,
   "metadata": {},
   "outputs": [
    {
     "name": "stdout",
     "output_type": "stream",
     "text": [
      "   Year  Month  DayofMonth  DayOfWeek  DepTime  CRSDepTime  ArrTime  \\\n",
      "0  2007     11           2          5     1534        1540   1654.0   \n",
      "1  2007      9          11          2     1822        1823   2258.0   \n",
      "2  2007      9          24          1      711         715    830.0   \n",
      "3  2007     11           5          1     2243        2250    549.0   \n",
      "4  2007      7           8          7     1656        1700   1832.0   \n",
      "\n",
      "   CRSArrTime UniqueCarrier  FlightNum  ... TaxiIn  TaxiOut  Cancelled  \\\n",
      "0        1710            XE       7770  ...     12       13          0   \n",
      "1        2257            US        596  ...      7       22          0   \n",
      "2         844            US       1243  ...      3       10          0   \n",
      "3         556            NW        222  ...      6       19          0   \n",
      "4        1840            XE       2607  ...      7       16          0   \n",
      "\n",
      "   CancellationCode  Diverted  CarrierDelay WeatherDelay NASDelay  \\\n",
      "0               NaN         0             0            0        0   \n",
      "1               NaN         0             0            0        0   \n",
      "2               NaN         0             0            0        0   \n",
      "3               NaN         0             0            0        0   \n",
      "4               NaN         0             0            0        0   \n",
      "\n",
      "   SecurityDelay  LateAircraftDelay  \n",
      "0              0                  0  \n",
      "1              0                  0  \n",
      "2              0                  0  \n",
      "3              0                  0  \n",
      "4              0                  0  \n",
      "\n",
      "[5 rows x 29 columns]\n",
      "(493, 29)\n",
      "[2007 11 2 5 1534 1540 1654.0 1710 'XE' 7770 'N12569' 80.0 90 55.0 -16.0\n",
      " -6 'OAK' 'LAX' 337 12 13 0 nan 0 0 0 0 0 0]\n"
     ]
    }
   ],
   "source": [
    "df = pd.read_csv('flightdelays_with_header.csv')\n",
    "print(df.head())\n",
    "#arr = np.array(df)\n",
    "arr = df.to_numpy()\n",
    "print(arr.shape)\n",
    "print(arr[0])"
   ]
  },
  {
   "cell_type": "code",
   "execution_count": 29,
   "metadata": {},
   "outputs": [
    {
     "name": "stdout",
     "output_type": "stream",
     "text": [
      "0.5175251960754395\r\n",
      "0.0049343109130859375\r\n"
     ]
    }
   ],
   "source": [
    "!python test.py"
   ]
  },
  {
   "cell_type": "markdown",
   "metadata": {
    "extensions": {
     "jupyter_dashboards": {
      "version": 1,
      "views": {
       "grid_default": {
        "col": 0,
        "height": 8,
        "hidden": false,
        "row": 162,
        "width": 12
       },
       "report_default": {
        "hidden": false
       }
      }
     }
    },
    "slideshow": {
     "slide_type": "slide"
    }
   },
   "source": [
    "### References:\n",
    "[Introduction to shell script](https://data36.com/command-line-data-science-introduction-to-bash/)\n",
    "\n",
    "[Shebang for shell](https://scriptingosx.com/2017/10/on-the-shebang/)\n",
    "\n",
    "[More about scrubbing data o shell](https://www.datascienceatthecommandline.com/chapter-5-scrubbing-data.html)\n",
    "\n",
    "[Bash for pipelines](https://towardsdatascience.com/using-bash-for-data-pipelines-cf05af6ded6f)\n",
    "\n",
    "[More about scripts](https://www.macs.hw.ac.uk/~hwloidl/Courses/LinuxIntro/x961.html)\n",
    "[regular expression](https://en.wikipedia.org/wiki/Regular_expression)\n",
    "\n",
    "[Numpy tutorial](https://docs.scipy.org/doc/numpy/user/quickstart.html)"
   ]
  }
 ],
 "metadata": {
  "celltoolbar": "Slideshow",
  "extensions": {
   "jupyter_dashboards": {
    "activeView": "grid_default",
    "version": 1,
    "views": {
     "grid_default": {
      "cellMargin": 10,
      "defaultCellHeight": 20,
      "maxColumns": 12,
      "name": "grid",
      "type": "grid"
     },
     "report_default": {
      "name": "report",
      "type": "report"
     }
    }
   }
  },
  "kernelspec": {
   "display_name": "Python 3",
   "language": "python",
   "name": "python3"
  },
  "language_info": {
   "codemirror_mode": {
    "name": "ipython",
    "version": 3
   },
   "file_extension": ".py",
   "mimetype": "text/x-python",
   "name": "python",
   "nbconvert_exporter": "python",
   "pygments_lexer": "ipython3",
   "version": "3.8.5"
  }
 },
 "nbformat": 4,
 "nbformat_minor": 2
}
