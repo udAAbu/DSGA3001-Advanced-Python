{
 "cells": [
  {
   "cell_type": "markdown",
   "metadata": {
    "slideshow": {
     "slide_type": "slide"
    }
   },
   "source": [
    "# DS-GA 3001\n",
    "\n",
    "# Lecture 3 - The itertools Module\n",
    "## Feb. 18, 2021\n",
    "see: https://nyu-cds.github.io/python-itertools/ (working link [here](http://alberto.bietti.me/python-itertools/))"
   ]
  },
  {
   "cell_type": "markdown",
   "metadata": {
    "slideshow": {
     "slide_type": "slide"
    }
   },
   "source": [
    "# Before we start\n",
    "\n",
    "* TA office hours: do current slots work?\n",
    "* Questions about previous topics?\n",
    "* Questions about homework?\n",
    "* Any other feedback?"
   ]
  },
  {
   "cell_type": "markdown",
   "metadata": {
    "slideshow": {
     "slide_type": "slide"
    }
   },
   "source": [
    "# This class\n",
    "\n",
    "- The concept of iterators\n",
    "- Infinite Iterators\n",
    "- Finite Iterators\n",
    "- Combinatoric Generators"
   ]
  },
  {
   "cell_type": "markdown",
   "metadata": {
    "slideshow": {
     "slide_type": "slide"
    }
   },
   "source": [
    "## Arrays/lists vs iterators\n",
    "\n",
    "- When creating an array (as well as a list or tuple), we first have to allocate a block of system memory\n",
    "to store these elments.  \n",
    "\n",
    "- When we only need to iterate through a list, there might be no need to store it\n",
    "\n"
   ]
  },
  {
   "cell_type": "markdown",
   "metadata": {
    "slideshow": {
     "slide_type": "slide"
    }
   },
   "source": [
    "---\n",
    "\n",
    "The __itertools__ module implements a number of iterator building blocks that provide fast, memory efficient tools.\n",
    "\n",
    "\n",
    "An iterator/generator behaves like a list of values, with some **important differences**:\n",
    "\n",
    "- The values are generated on demand (sequence is stored in memory)\n",
    "- The values can only be accessed in sequence (not like an array)\n",
    "- The values can only be accessed once\n",
    "\n",
    "\n",
    "\n",
    "An iterator is an object that provides two methods:\n",
    "\n",
    "- __iter__ which returns the iterator itself\n",
    "- __next__ which returns the next value from the iterator\n",
    "\n"
   ]
  },
  {
   "cell_type": "code",
   "execution_count": 3,
   "metadata": {},
   "outputs": [
    {
     "data": {
      "text/plain": [
       "'a'"
      ]
     },
     "execution_count": 3,
     "metadata": {},
     "output_type": "execute_result"
    }
   ],
   "source": [
    "it = iter('advanced_python')\n",
    "next(it)"
   ]
  },
  {
   "cell_type": "code",
   "execution_count": null,
   "metadata": {
    "slideshow": {
     "slide_type": "slide"
    }
   },
   "outputs": [],
   "source": [
    "it = iter('advanced_python')\n",
    "\n",
    "# first 8 elements\n",
    "print(it.__next__())\n",
    "print(it.__next__())\n",
    "print(it.__next__())\n",
    "print(it.__next__())\n",
    "print(it.__next__())\n",
    "print(it.__next__())\n",
    "print(next(it))\n",
    "\n",
    "# the rest\n",
    "lst = [e for e in it]\n",
    "print(\"\\nlst: %s\" % lst)\n",
    "\n",
    "# at this point the iterator is completed\n",
    "print(it.__next__())"
   ]
  },
  {
   "cell_type": "code",
   "execution_count": null,
   "metadata": {
    "slideshow": {
     "slide_type": "slide"
    }
   },
   "outputs": [],
   "source": [
    "it = iter('advanced_python')\n",
    "print(list(it))\n",
    "    \n",
    "# At this point the iterator is finished\n",
    "print(list(it))"
   ]
  },
  {
   "cell_type": "code",
   "execution_count": null,
   "metadata": {
    "slideshow": {
     "slide_type": "slide"
    }
   },
   "outputs": [],
   "source": [
    "#enumerate() method adds a counter to an iterable \n",
    "it = iter('advanced_python')\n",
    "\n",
    "for i, elem in enumerate(it): \n",
    "    print(i, elem)"
   ]
  },
  {
   "cell_type": "code",
   "execution_count": null,
   "metadata": {
    "slideshow": {
     "slide_type": "slide"
    }
   },
   "outputs": [],
   "source": [
    "# Additionally look at: \n",
    "for i in range(10): \n",
    "    print(i)\n",
    "    # some_work(i)"
   ]
  },
  {
   "cell_type": "markdown",
   "metadata": {
    "slideshow": {
     "slide_type": ""
    }
   },
   "source": [
    "---\n",
    "\n",
    "### range() vs xrange()\n",
    "\n",
    "#### In Python2: \n",
    "\n",
    "- range(): returns a list  \n",
    "- xrange(): returns a generator object\n",
    "    \n",
    "#### In Python3: \n",
    "- there is no xrange, and range returns a generator "
   ]
  },
  {
   "cell_type": "code",
   "execution_count": null,
   "metadata": {
    "slideshow": {
     "slide_type": "slide"
    }
   },
   "outputs": [],
   "source": [
    "# returns a list\n",
    "\n",
    "def demo_range(start, stop, step=1):\n",
    "    numbers = []\n",
    "    while start < stop:\n",
    "        numbers.append(start)\n",
    "        start += step\n",
    "    return numbers"
   ]
  },
  {
   "cell_type": "markdown",
   "metadata": {
    "slideshow": {
     "slide_type": "slide"
    }
   },
   "source": [
    "---\n",
    "\n",
    "- Note that the range implementation must create/allocate the list of all numbers within the range.\n",
    "\n",
    "- We use memory for \"all numbers\".\n"
   ]
  },
  {
   "cell_type": "code",
   "execution_count": null,
   "metadata": {
    "slideshow": {
     "slide_type": "slide"
    }
   },
   "outputs": [],
   "source": [
    "# returns a generator\n",
    "\n",
    "def demo_xrange(start, stop, step=1):\n",
    "    while start < stop:\n",
    "        yield start\n",
    "        start += step\n",
    "        \n",
    "# We do not precreate the list of all numbers within the range.\n",
    "# We do not use memory for \"all numbers\"."
   ]
  },
  {
   "cell_type": "markdown",
   "metadata": {
    "slideshow": {
     "slide_type": "slide"
    }
   },
   "source": [
    "\n",
    "----\n",
    "\n",
    "- The generator is able to 'return' many values. \n",
    "\n",
    "- Every time the code gets to the yield, the function emits its value\n",
    "\n",
    "- when another value is requested the function resumes running (maintaining its previous state) and emits the new value."
   ]
  },
  {
   "cell_type": "code",
   "execution_count": null,
   "metadata": {
    "slideshow": {
     "slide_type": "slide"
    }
   },
   "outputs": [],
   "source": [
    "# how many numbers in list_of_numbers are divisible by 3?\n",
    "\n",
    "list_of_numbers = demo_range(0, 1000)\n",
    "divisible_by_three = len([n for n in list_of_numbers if n % 3 == 0])\n",
    "\n",
    "print(\"divisible_by_three:\", divisible_by_three)"
   ]
  },
  {
   "cell_type": "markdown",
   "metadata": {
    "slideshow": {
     "slide_type": "slide"
    }
   },
   "source": [
    "## List vs generator comprehensions\n",
    "\n",
    "List:\n",
    "\n",
    "```[ <value> for <item> in <sequence> if <condition> ]```\n",
    "\n",
    "Generator:\n",
    "\n",
    "```( <value> for <item> in <sequence> if <condition> )```"
   ]
  },
  {
   "cell_type": "code",
   "execution_count": null,
   "metadata": {},
   "outputs": [],
   "source": [
    "generator = (1 for n in list_of_numbers if n % 3 == 0)\n",
    "print(\"generator:\", generator)\n",
    "divisible_by_three = sum(generator)\n",
    "print(divisible_by_three)\n",
    "\n",
    "#Here, we have a generator that emits a value of 1 whenever it encounters a number divisible by 3, \n",
    "# and nothing otherwise."
   ]
  },
  {
   "cell_type": "code",
   "execution_count": null,
   "metadata": {},
   "outputs": [],
   "source": [
    "# at this point, generator is completed\n",
    "\n",
    "for e in generator:\n",
    "    print(e)\n",
    "\n",
    "sum(generator)"
   ]
  },
  {
   "cell_type": "markdown",
   "metadata": {},
   "source": [
    "## Infinite Iterators\n",
    "__itertools__ package comes with three iterators that can iterate infinitely.\n",
    "- useful for generating numbers or cycling over iterables of unknown length\n",
    "- infinite iterators need to be stopped"
   ]
  },
  {
   "cell_type": "markdown",
   "metadata": {},
   "source": [
    "#### itertools.count(start,step)  \n",
    "https://docs.python.org/3/library/itertools.html#itertools.count"
   ]
  },
  {
   "cell_type": "code",
   "execution_count": null,
   "metadata": {},
   "outputs": [],
   "source": [
    "from itertools import count\n",
    "\n",
    "for i in count(10, 3):\n",
    "    print(i)\n",
    "    if i >= 30: break\n",
    "        "
   ]
  },
  {
   "cell_type": "markdown",
   "metadata": {},
   "source": [
    "#### itertools.islice(seq, [start,] stop [, step])   \n",
    "\n",
    "https://docs.python.org/3/library/itertools.html#itertools.islice\n",
    "\n",
    "Make an iterator that returns selected elements from the iterable.  \n"
   ]
  },
  {
   "cell_type": "code",
   "execution_count": null,
   "metadata": {},
   "outputs": [],
   "source": [
    "from itertools import islice\n",
    "\n",
    "print(list(islice(count(10, 3), 5)))     # first 5 elements \n",
    "print(list(islice(count(10, 3), 10)))    # first 10 elements \n",
    "print(list(islice(count(10, 3), 5, 10))) # second 5 elements: from 5th to 9th element included"
   ]
  },
  {
   "cell_type": "code",
   "execution_count": null,
   "metadata": {},
   "outputs": [],
   "source": [
    "# itertools.islice(seq, [start,] stop [,step])\n",
    "\n",
    "print(list(islice(count(10, 3), 10)))       # first 10 elements \n",
    "print(list(islice(count(10, 3), 3, 10, 2))) # from 3rd to 9th element (including those), every second element "
   ]
  },
  {
   "cell_type": "markdown",
   "metadata": {},
   "source": [
    "**None**: \"If stop is None, then iteration continues until the iterator is exhausted, if at all; otherwise, it stops at the specified position.\""
   ]
  },
  {
   "cell_type": "code",
   "execution_count": null,
   "metadata": {},
   "outputs": [],
   "source": [
    "print(list(islice('ABCDEFG', 2, None)))\n",
    "print(list(islice('ABCDEFG', 100))) # and len('ABCDEFG') = 7"
   ]
  },
  {
   "cell_type": "markdown",
   "metadata": {},
   "source": [
    "#### itertools.cycle(seq)\n",
    "\n",
    "https://docs.python.org/2/library/itertools.html#itertools.cycle"
   ]
  },
  {
   "cell_type": "code",
   "execution_count": null,
   "metadata": {},
   "outputs": [],
   "source": [
    "from itertools import cycle\n",
    "\n",
    "print(list(islice(cycle('abc'), 12)))"
   ]
  },
  {
   "cell_type": "code",
   "execution_count": null,
   "metadata": {},
   "outputs": [],
   "source": [
    "# iterators can be used in different ways\n",
    "lst = ['advanced','python','for','data','science']\n",
    "print(list(islice(cycle(lst), 10)))"
   ]
  },
  {
   "cell_type": "markdown",
   "metadata": {},
   "source": [
    "#### itertools.repeat(elem [,times])\n",
    "\n",
    "https://docs.python.org/2/library/itertools.html#itertools.repeat"
   ]
  },
  {
   "cell_type": "code",
   "execution_count": null,
   "metadata": {},
   "outputs": [],
   "source": [
    "from itertools import repeat\n",
    "\n",
    "# repeat an object: e.g. string\n",
    "\n",
    "print(list(repeat('abcde', 5)))"
   ]
  },
  {
   "cell_type": "code",
   "execution_count": null,
   "metadata": {},
   "outputs": [],
   "source": [
    "# repeat an object: e.g. list\n",
    "print(list(repeat(['CDS', 'Courant', 'NYU'], 5)))\n"
   ]
  },
  {
   "cell_type": "markdown",
   "metadata": {},
   "source": [
    "## Finite Iterators\n",
    "itertools also has a number of iterators that terminate."
   ]
  },
  {
   "cell_type": "markdown",
   "metadata": {},
   "source": [
    "#### itertools.accumulate(seq [, func])"
   ]
  },
  {
   "cell_type": "code",
   "execution_count": null,
   "metadata": {},
   "outputs": [],
   "source": [
    "from itertools import accumulate\n",
    "\n",
    "print(list(accumulate(range(1, 11)))) # 1, 1 + 2, 1 + 2 + 3, 1 + 2 + 3 + 4,..."
   ]
  },
  {
   "cell_type": "code",
   "execution_count": null,
   "metadata": {},
   "outputs": [],
   "source": [
    "import operator\n",
    "\n",
    "print(list(accumulate(range(1, 11), operator.mul))) # 1, 1 * 2, 1 * 2 * 3, 1 * 2 * 3 * 4"
   ]
  },
  {
   "cell_type": "code",
   "execution_count": null,
   "metadata": {},
   "outputs": [],
   "source": [
    "# it can also handle non-numeric lists such as strings\n",
    "\n",
    "print(list(accumulate('cds_nyu')))\n",
    "\n",
    "print(list(accumulate(repeat('python ', 3))))"
   ]
  },
  {
   "cell_type": "markdown",
   "metadata": {},
   "source": [
    "More examples here: https://docs.python.org/3/library/itertools.html#itertools.accumulate"
   ]
  },
  {
   "cell_type": "markdown",
   "metadata": {},
   "source": [
    "#### itertools.chain(*iterables)  "
   ]
  },
  {
   "cell_type": "code",
   "execution_count": null,
   "metadata": {},
   "outputs": [],
   "source": [
    "my_list = ['foo', 'bar']\n",
    "cmd = ['ls', '/some/dir']\n",
    "numbers = list(range(5))\n",
    "my_list.extend(cmd)\n",
    "my_list.extend(numbers)\n",
    "\n",
    "print(my_list)"
   ]
  },
  {
   "cell_type": "markdown",
   "metadata": {},
   "source": [
    "The chain iterator takes a series of iterables and flattens them down into one long iterable."
   ]
  },
  {
   "cell_type": "code",
   "execution_count": null,
   "metadata": {},
   "outputs": [],
   "source": [
    "from itertools import chain\n",
    "\n",
    "my_list = list(chain(['foo', 'bar'], cmd, numbers))\n",
    "\n",
    "print(my_list)"
   ]
  },
  {
   "cell_type": "markdown",
   "metadata": {},
   "source": [
    "#### itertools.compress(seq, selectors)\n",
    "Useful for filtering an iterable using a second boolean iterable (i.e. an indicator)\n",
    "\n",
    "https://docs.python.org/2/library/itertools.html#itertools.compress\n"
   ]
  },
  {
   "cell_type": "code",
   "execution_count": null,
   "metadata": {},
   "outputs": [],
   "source": [
    "from itertools import compress\n",
    "\n",
    "letters = 'ABCDEFGHIJKJM'\n",
    "bools = [True, True, False, True, False, True, True, True, False, True]\n",
    "print(len(letters), len(bools))\n",
    "\n",
    "# notice the sizes do not need to match\n",
    "print(list(compress(letters, bools)))"
   ]
  },
  {
   "cell_type": "code",
   "execution_count": null,
   "metadata": {},
   "outputs": [],
   "source": [
    "def either_aeiou(e):\n",
    "#     return (e == 'A') or (e == 'E') or (e == 'I') or (e == 'O') or (e == 'U')\n",
    "    return e in 'AEIOU'\n",
    "\n",
    "print(list(compress(letters, [either_aeiou(e) for e in letters])))"
   ]
  },
  {
   "cell_type": "markdown",
   "metadata": {},
   "source": [
    "---\n",
    "\n",
    "### itertools.dropwhile(predicate, seq)  \n",
    "\n",
    "- Drop the elements while the predicate is True; afterwards, returns every element.\n",
    "\n",
    "### itertools.takewhile(predicate, seq)  \n",
    "\n",
    "- Take the elements while the predicate is True"
   ]
  },
  {
   "cell_type": "code",
   "execution_count": null,
   "metadata": {},
   "outputs": [],
   "source": [
    "from itertools import dropwhile, takewhile\n",
    "\n",
    "print(list(dropwhile(lambda x: x > 5, [6, 7, 8, 9, 10, 1, 2, 3, 20])))\n",
    "\n",
    "print(list(takewhile(lambda x: x > 5, [6, 7, 8, 9, 10, 1, 2, 3, 20])))"
   ]
  },
  {
   "cell_type": "code",
   "execution_count": null,
   "metadata": {},
   "outputs": [],
   "source": [
    "lst = ['parrot', 'pelican', 'lion', 'cat', 'panther', 'dolphin', 'dog']\n",
    "\n",
    "print(\"lst_take_while:\", list(takewhile(lambda word: word[0] == 'p', lst)))\n",
    "\n",
    "print(\"lst_drop_while:\", list(dropwhile(lambda word: word[0] == 'p', lst)))\n"
   ]
  },
  {
   "cell_type": "markdown",
   "metadata": {},
   "source": [
    "#### itertools.filterfalse(predicate, seq) \n",
    "\n",
    "https://docs.python.org/2/library/itertools.html#itertools.ifilterfalse\n",
    "\n",
    "Filter elements to keep only those for which the predicate is False (opposite behavior of `filter`)."
   ]
  },
  {
   "cell_type": "code",
   "execution_count": null,
   "metadata": {},
   "outputs": [],
   "source": [
    "from itertools import filterfalse\n",
    "\n",
    "# filter *all* elements for which the predicate is false\n",
    "\n",
    "print(list(filterfalse(lambda x: x < 5, [6, 7, 8, 9, 10, 1, 2, 3, 20])))"
   ]
  },
  {
   "cell_type": "code",
   "execution_count": null,
   "metadata": {},
   "outputs": [],
   "source": [
    "# contrast with the standard function filter\n",
    "list(filter(lambda x: x < 5, [6, 7, 8, 9, 10, 1, 2, 3, 20]))"
   ]
  },
  {
   "cell_type": "markdown",
   "metadata": {},
   "source": [
    "#### itertools.groupby(seq, key=None)  \n",
    "https://docs.python.org/2/library/itertools.html#itertools.groupby  \n",
    "Make an iterator that returns consecutive keys and groups from the iterable.  \n",
    "`key` is a function computing a key value for each element."
   ]
  },
  {
   "cell_type": "code",
   "execution_count": null,
   "metadata": {},
   "outputs": [],
   "source": [
    "from itertools import groupby\n",
    " \n",
    "numbers = range(20)\n",
    "# to group consecutive numbers from range(20) by the same **quotient** when divided by 5; \n",
    "# i.e. for x in range(20) group by x // 5\n",
    "\n",
    "for (key, group) in groupby(numbers, lambda x: x // 5):\n",
    "    print(key, list(group))"
   ]
  },
  {
   "cell_type": "code",
   "execution_count": null,
   "metadata": {},
   "outputs": [],
   "source": [
    "# group the list of elements by the same **remainder** \n",
    "for (key, group) in groupby(numbers, lambda x: x % 5):\n",
    "    print(key, list(group))"
   ]
  },
  {
   "cell_type": "code",
   "execution_count": null,
   "metadata": {},
   "outputs": [],
   "source": [
    "# combining the groups with same key\n",
    "import collections\n",
    "groups = collections.defaultdict(list)\n",
    "\n",
    "for (key, group) in groupby(numbers, lambda x: x % 5):\n",
    "    groups[key] += group\n",
    "\n",
    "for key, group in groups.items():\n",
    "    print(key, group)"
   ]
  },
  {
   "cell_type": "code",
   "execution_count": null,
   "metadata": {},
   "outputs": [],
   "source": [
    "keyfn = lambda x: x % 5\n",
    "\n",
    "for (key, group) in groupby(sorted(numbers, key=keyfn), keyfn):\n",
    "    print(key, list(group))"
   ]
  },
  {
   "cell_type": "markdown",
   "metadata": {},
   "source": [
    "#### itertools.starmap(function, seq)\n",
    "https://docs.python.org/3/library/itertools.html#itertools.starmap\n",
    "\n",
    "Iterator that computes the function using arguments obtained from the iterable. "
   ]
  },
  {
   "cell_type": "code",
   "execution_count": null,
   "metadata": {},
   "outputs": [],
   "source": [
    "from itertools import starmap\n",
    "\n",
    "# here is the iterable: [(1,2), (3,4), (5,6)]\n",
    "\n",
    "for item in starmap(lambda u, v: u + v, [(1, 2), (3, 4), (5, 6)]):\n",
    "    print(item)"
   ]
  },
  {
   "cell_type": "code",
   "execution_count": null,
   "metadata": {},
   "outputs": [],
   "source": [
    "def add(u, v, w):\n",
    "    return u + v + w\n",
    "\n",
    "for item in starmap(add, [(1, 2, 3), (3, 4, 5), (5, 6, 7)]):\n",
    "    print(item)"
   ]
  },
  {
   "cell_type": "markdown",
   "metadata": {},
   "source": [
    "#### itertools.tee(seq, n=2)\n",
    "Creates n iterators from the given sequence"
   ]
  },
  {
   "cell_type": "code",
   "execution_count": null,
   "metadata": {},
   "outputs": [],
   "source": [
    "from itertools import tee\n",
    "data = 'ABCDE'\n",
    "iters = tee(data, 5)\n",
    "\n",
    "for i in range(5):\n",
    "    print(f'iterator:{i}')\n",
    "    for item in iters[i]:\n",
    "        print(item, end=\"\")\n",
    "    print(\"\\n\")"
   ]
  },
  {
   "cell_type": "markdown",
   "metadata": {},
   "source": [
    "#### itertools.zip_longest(*seq, fillvalue=None)  \n",
    "https://docs.python.org/2/library/itertools.html#itertools.izip_longest  \n",
    "An iterator that aggregates elements from each of the iterables.  "
   ]
  },
  {
   "cell_type": "code",
   "execution_count": null,
   "metadata": {},
   "outputs": [],
   "source": [
    "# The standard zip stops after the shortest list is finished\n",
    "list(zip('AB', 'xyzw', range(5)))"
   ]
  },
  {
   "cell_type": "code",
   "execution_count": null,
   "metadata": {},
   "outputs": [],
   "source": [
    "from itertools import zip_longest\n",
    "\n",
    "print(list(zip_longest('AB', 'xyzw', fillvalue='_')))"
   ]
  },
  {
   "cell_type": "code",
   "execution_count": null,
   "metadata": {},
   "outputs": [],
   "source": [
    "print(list(zip_longest('AB', 'xyzw', range(5), fillvalue='_')))"
   ]
  },
  {
   "cell_type": "code",
   "execution_count": null,
   "metadata": {},
   "outputs": [],
   "source": [
    "# useful to create dictionaries\n",
    "\n",
    "vals = ['pqr', 'uvw', 'xyz']\n",
    "\n",
    "dc = dict(zip_longest('1234567', vals, fillvalue='blank_value'))\n",
    "print(\"dict:\", dc)"
   ]
  },
  {
   "cell_type": "code",
   "execution_count": null,
   "metadata": {},
   "outputs": [],
   "source": [
    "list(map(str, range(1, 8)))"
   ]
  },
  {
   "cell_type": "markdown",
   "metadata": {},
   "source": [
    "## Combinatoric Generators\n",
    "Iterators that can be used for creating combinations and permutations of data"
   ]
  },
  {
   "cell_type": "markdown",
   "metadata": {},
   "source": [
    "#### itertools.combinations(seq, r) \n",
    "#### itertools.combinations_with_replacement(seq, r)\n",
    "#### itertools.permutations(iterable, r=None)"
   ]
  },
  {
   "cell_type": "markdown",
   "metadata": {},
   "source": [
    "---\n",
    "\n",
    "E.g. There is an urn with four balls: yellow, green, red, and blue.  \n",
    "\n",
    "Q: In how many ways can one pick two (three) balls without replacement?  \n",
    "\n",
    "Q: In how many ways can one pick two (three) balls with replacement?"
   ]
  },
  {
   "cell_type": "code",
   "execution_count": null,
   "metadata": {},
   "outputs": [],
   "source": [
    "from itertools import combinations\n",
    "\n",
    "for item in combinations('RBGY', 2):\n",
    "    print(''.join(item), end=\"; \")"
   ]
  },
  {
   "cell_type": "code",
   "execution_count": null,
   "metadata": {},
   "outputs": [],
   "source": [
    "from itertools import combinations_with_replacement\n",
    "\n",
    "for item in combinations_with_replacement('RBGY', 2):\n",
    "    print(''.join(item), end=\"; \")"
   ]
  },
  {
   "cell_type": "code",
   "execution_count": null,
   "metadata": {},
   "outputs": [],
   "source": [
    "from itertools import permutations\n",
    "\n",
    "for item in permutations('RBGY', 2):\n",
    "    print(''.join(item), end=\"; \")"
   ]
  },
  {
   "cell_type": "markdown",
   "metadata": {},
   "source": [
    "#### itertools.product(*seq, repeat=1)\n",
    "Produces the **cartesian product** of sequences"
   ]
  },
  {
   "cell_type": "code",
   "execution_count": null,
   "metadata": {},
   "outputs": [],
   "source": [
    "from itertools import product\n",
    "\n",
    "arrays = [('A', 'B'), ('a', 'b', 'c')]\n",
    "cart_prod = list(product(*arrays))\n",
    "print(cart_prod)\n",
    "\n",
    "# size (cardinality) is 2 * 3  = 6\n"
   ]
  },
  {
   "cell_type": "code",
   "execution_count": null,
   "metadata": {},
   "outputs": [],
   "source": [
    "# Calling a function with all possible choices of parameters\n",
    "\n",
    "choices = [(-1,1), (-3,3), (-5,5)]\n",
    "cp = list(product(*choices))\n",
    "print(cp)\n",
    "\n",
    "def f(a, b, c):\n",
    "    print('(', a, b, c, ')')\n",
    "    \n",
    "for args in cp:\n",
    "    f(*args)"
   ]
  },
  {
   "cell_type": "code",
   "execution_count": null,
   "metadata": {},
   "outputs": [],
   "source": [
    "choices = {\n",
    "    'a': [-1, 1],\n",
    "    'b': [-3, 3],\n",
    "    'c': [-5, 5],\n",
    "}\n",
    "\n",
    "def f(**kwargs):\n",
    "    print(kwargs)\n",
    "\n",
    "all_dicts = list(dict(zip(choices.keys(), vals)) for vals in product(*choices.values()))\n",
    "for d in all_dicts:\n",
    "    f(**d)"
   ]
  },
  {
   "cell_type": "code",
   "execution_count": null,
   "metadata": {},
   "outputs": [],
   "source": [
    "import numpy as np\n",
    "\n",
    "M = np.zeros((2, 2))\n",
    "cids = product((0, 1), (0,1))\n",
    "\n",
    "print(\"cids:\", cids)\n",
    "\n",
    "for i, e  in enumerate(cids):\n",
    "    M[e] = i * 100\n",
    "    print(\"i = %s, e = %s\" %(i, e))\n",
    "\n",
    "print(\"\\nM=\\n\", M)"
   ]
  },
  {
   "cell_type": "code",
   "execution_count": null,
   "metadata": {},
   "outputs": [],
   "source": [
    "import numpy as np\n",
    "\n",
    "M = np.zeros((3, 3, 3))\n",
    "cids = product((0,1,2), (0,1,2), (0,1,2))\n",
    "\n",
    "\n",
    "print(\"cids: \", cids)\n",
    "\n",
    "for i, e  in enumerate(cids):\n",
    "    M[e] = i * 100\n",
    "    print(f\"i = {i:>2}, e = {e}\")\n",
    "\n",
    "print(\"\\nM=\\n\", M)"
   ]
  },
  {
   "cell_type": "code",
   "execution_count": null,
   "metadata": {},
   "outputs": [],
   "source": [
    "# One-liner to do the same thing with numpy"
   ]
  }
 ],
 "metadata": {
  "celltoolbar": "Slideshow",
  "kernelspec": {
   "display_name": "Python 3",
   "language": "python",
   "name": "python3"
  },
  "language_info": {
   "codemirror_mode": {
    "name": "ipython",
    "version": 3
   },
   "file_extension": ".py",
   "mimetype": "text/x-python",
   "name": "python",
   "nbconvert_exporter": "python",
   "pygments_lexer": "ipython3",
   "version": "3.8.5"
  }
 },
 "nbformat": 4,
 "nbformat_minor": 2
}
