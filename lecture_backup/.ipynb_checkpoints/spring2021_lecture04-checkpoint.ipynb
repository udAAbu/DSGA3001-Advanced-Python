{
 "cells": [
  {
   "cell_type": "markdown",
   "metadata": {},
   "source": [
    "# Lecture 04  \n",
    "### Python Performance Tuning   \n",
    "### February 22, 2021\n"
   ]
  },
  {
   "cell_type": "markdown",
   "metadata": {},
   "source": [
    "### Diagnosing and solving performance issues with profiling\n",
    "\n",
    "https://nyu-cds.github.io/python-performance-tuning/\n",
    "\n",
    "Install line_profiler: `conda install line_profiler`"
   ]
  },
  {
   "cell_type": "markdown",
   "metadata": {},
   "source": [
    "### What is profiling?\n",
    "\n",
    "* A *profile* is a set of statistics describing how often and for how long various parts of a program run\n",
    "* Useful for identifying performance bottlenecks that could be optimized\n",
    "* Profiling can induce a performance overhead (but relatively small in Python)"
   ]
  },
  {
   "cell_type": "markdown",
   "metadata": {},
   "source": [
    "## Profiling in Python\n",
    "\n",
    "**cProfile**: measures number of function calls and their execution time (in the function itself, including sub-calls or not)\n",
    "\n",
    "**line_profiler**: measures number of executions and time for individual lines/statements (useful when individual statements could be slow, e.g., with Numpy)"
   ]
  },
  {
   "cell_type": "markdown",
   "metadata": {},
   "source": [
    "### Monte Carlo Simultations for $\\pi$ \n",
    "\n",
    "Suppose we want to approximate $\\pi$ by using the following Monte Carlo simulations based on the geometric probability:\n",
    "\n",
    "--- \n",
    "\n",
    "Plot the $1/4$-of the unit circle: $(x, \\sqrt{1 - x^2})$ over the segment $[0, 1]$."
   ]
  },
  {
   "cell_type": "code",
   "execution_count": null,
   "metadata": {},
   "outputs": [],
   "source": [
    "import matplotlib.pyplot as plt\n",
    "import numpy as np\n",
    "\n",
    "# plot a quarter of the unit circle\n",
    "x = np.linspace(0, 1.0, 100)\n",
    "plt.plot(x, (1 - x ** 2) ** 0.5)\n",
    "\n",
    "plt.xlim(0, 1)\n",
    "plt.ylim(0, 1)\n",
    "plt.show()"
   ]
  },
  {
   "cell_type": "code",
   "execution_count": null,
   "metadata": {},
   "outputs": [],
   "source": [
    "#plot random points\n",
    "\n",
    "number_of_points = 300\n",
    "plt.plot(np.random.random(number_of_points), np.random.random(number_of_points), 'ro')\n",
    "\n",
    "# plot a quarter of the unit circle\n",
    "x = np.linspace(0, 1.0, 100)\n",
    "plt.plot(x, np.sqrt(1 - x ** 2))\n",
    "\n",
    "plt.xlim(0, 1)\n",
    "plt.ylim(0, 1)\n",
    "plt.show()"
   ]
  },
  {
   "cell_type": "markdown",
   "metadata": {},
   "source": [
    "### Prob(a ranodm point belongs to the 1/4-unit-circle) = Area(1/4-unit-circle)/Area(unit-square) = Pi/4"
   ]
  },
  {
   "cell_type": "code",
   "execution_count": null,
   "metadata": {},
   "outputs": [],
   "source": [
    "import random\n",
    "    \n",
    "def inside_quarter_circle(x, y):\n",
    "    \"\"\"indicator that (x,y) belongs to the quarter of the circle\"\"\"\n",
    "    return int(x ** 2 + y ** 2 <= 1.0)\n",
    "\n",
    "def approx_pi_mc(number_of_points):\n",
    "    \"\"\"monte-carlo PI\"\"\"\n",
    "    \n",
    "    counter = 0\n",
    "    \n",
    "    for i in range(number_of_points):\n",
    "        x = random.random()\n",
    "        y = random.random()\n",
    "        counter += inside_quarter_circle(x, y)\n",
    "        \n",
    "    pi_approx = 4 * counter / number_of_points \n",
    "    print(\"pi_approx:\", pi_approx)\n",
    "    return pi_approx"
   ]
  },
  {
   "cell_type": "code",
   "execution_count": null,
   "metadata": {},
   "outputs": [],
   "source": [
    "%timeit -n 1 -r 1 approx_pi_mc(1_000_000)"
   ]
  },
  {
   "cell_type": "code",
   "execution_count": null,
   "metadata": {
    "scrolled": true
   },
   "outputs": [],
   "source": [
    "# cProfile and profile provide deterministic profiling\n",
    "import cProfile\n",
    "cProfile.run('approx_pi_mc(1_000_000)')"
   ]
  },
  {
   "cell_type": "code",
   "execution_count": null,
   "metadata": {},
   "outputs": [],
   "source": [
    "# run a code with the profiler\n",
    "%prun approx_pi_mc(1_000_000)"
   ]
  },
  {
   "cell_type": "markdown",
   "metadata": {},
   "source": [
    "The first line of the profile contains the number of CPU seconds it took to run the code. You should see that the code was a little slower with %prun. This was because it ran inside the cProfile module.\n",
    "\n",
    "Looking at the tottime column, we can see that approximately $2/3$ of the time is spent in __approx\\_pi__ and the remainder is spent in __inside\\_quarter\\_circle__."
   ]
  },
  {
   "cell_type": "markdown",
   "metadata": {},
   "source": [
    "Sometimes the cause of the hotspot is a single line in a function, which may not be obvious from reading the source code or analyzing the output of cProfile.\n",
    "\n",
    "The __line_profiler__ times the execution of each individual line inside a function. The __line_profiler__ can be used by loading in Jupyer as:"
   ]
  },
  {
   "cell_type": "code",
   "execution_count": null,
   "metadata": {},
   "outputs": [],
   "source": [
    "%load_ext line_profiler"
   ]
  },
  {
   "cell_type": "code",
   "execution_count": null,
   "metadata": {},
   "outputs": [],
   "source": [
    "# run code with the line-by-line profiler\n",
    "%lprun -f approx_pi_mc approx_pi_mc(1_000_000)\n",
    "\n",
    "# -f : tells which function to profile"
   ]
  },
  {
   "cell_type": "code",
   "execution_count": null,
   "metadata": {},
   "outputs": [],
   "source": [
    "def approx_pi_mc_faster(total_number):\n",
    "    \n",
    "    # generate a vector of random points\n",
    "    random_vect = np.random.rand(total_number, 2)\n",
    "    \n",
    "    # check if points belong to the circle\n",
    "    bool_inside = random_vect[:, 0] ** 2 + random_vect[:, 1] ** 2 <= 1\n",
    "    \n",
    "    # count those\n",
    "    # counter = sum(bool_inside)\n",
    "    counter = np.sum(bool_inside, dtype=np.int32)\n",
    "    \n",
    "    pi_approx = 4 * counter / total_number \n",
    "    print(\"pi_approx:\", pi_approx)\n",
    "    return pi_approx"
   ]
  },
  {
   "cell_type": "code",
   "execution_count": null,
   "metadata": {},
   "outputs": [],
   "source": [
    "%prun approx_pi_mc_faster(1_000_000)\n",
    "\n",
    "# %lprun -f approx_pi_mc_faster approx_pi_mc_faster(1_000_000)\n"
   ]
  },
  {
   "cell_type": "markdown",
   "metadata": {},
   "source": [
    "## Performance Tuning -- Line Profiling  \n",
    "\n",
    "#### Example: Heat Equation\n",
    "\n",
    "#### How does the heat transfer?   \n",
    "\n",
    "#### Finite Element Methods\n"
   ]
  },
  {
   "cell_type": "markdown",
   "metadata": {},
   "source": [
    "Consider a function (concretely temperature) $f = f(x, y, t)$ which depends on $(x,y) \\in [0,1] \\times [0,1]$ and time $t \\geq 0$. \n",
    "\n",
    "Temperature satisfies the __heat equation__ (https://en.wikipedia.org/wiki/Heat_equation):\n",
    "$$\n",
    "\\frac{\\partial f}{\\partial t} = \\alpha^2 \\left(\\frac{\\partial^2 f}{ \\partial x^2} + \\frac{\\partial^2 f}{ \\partial y^2} \\right) \\,.\n",
    "$$\n",
    "\n",
    "The rate at which the temperature changes $\\frac{\\partial f}{\\partial t}$ is proportional to the \n",
    "Laplacian of the temperature function $\\left(\\frac{\\partial^2 f}{ \\partial x^2} + \\frac{\\partial^2 f}{ \\partial y^2} \\right)$.\n",
    "\n",
    "In steady state $\\partial f/\\partial t = 0$, so (the __Poisson equation__):\n",
    "$$\n",
    "\\frac{\\partial^2 f}{\\partial x^2}+\\frac{\\partial^2 f}{\\partial y^2}=0.\n",
    "$$\n",
    "\n",
    "By using central difference in a square $[0,1]\\times[0,1]$ regular grid:\n",
    "$$\n",
    "\\frac{\\partial^2 f}{\\partial x^2}\\approx\\frac{f_{i+1,j}-2f_{i,j}+f_{i-1,j}}{\\Delta x^2}\\,,\n",
    "$$\n",
    "\n",
    "$$\n",
    "\\frac{\\partial^2 f}{\\partial y^2}\\approx\\frac{f_{i,j+1}-2f_{i,j}+f_{i,j-1}}{\\Delta y^2}\\,.\n",
    "$$\n",
    "\n",
    "We will assume $\\Delta x = \\Delta y$, so it follows:\n",
    "$$\n",
    "f_{i,j} = \\frac{f_{i+1,j}+f_{i-1,j} + f_{i,j+1} + f_{i,j-1}}{4} \\,.\n",
    "$$\n",
    "\n",
    "We will also assume that $f$ is known on the boundary of the square domain.\n",
    "\n",
    "\n",
    "\n",
    "\n",
    "\n",
    "\n"
   ]
  },
  {
   "cell_type": "code",
   "execution_count": null,
   "metadata": {},
   "outputs": [],
   "source": [
    "from itertools import product\n",
    "import numpy as np\n",
    "\n",
    "def build_grid(n):\n",
    "    '''defines the grid'''\n",
    "    G = np.zeros((n, n))\n",
    "    return G\n",
    "\n",
    "def set_boundary_grid(G):\n",
    "    '''set the boundary values'''\n",
    "    n = G.shape[0]\n",
    "    G[:, 0]  = np.ones((1, n))\n",
    "    G[0, :]  = np.ones((1, n)) \n",
    "    G[-1, :] = np.ones((1, n))\n",
    "    G[:, -1] = np.ones((1, n))\n",
    "    "
   ]
  },
  {
   "cell_type": "code",
   "execution_count": null,
   "metadata": {},
   "outputs": [],
   "source": [
    "import matplotlib.pyplot as plt\n",
    "\n",
    "def plot_grid(G):\n",
    "    img = plt.imshow(G)\n",
    "    img.set_cmap('rainbow')\n",
    "    plt.axis('off')\n",
    "    plt.show()\n",
    "    "
   ]
  },
  {
   "cell_type": "code",
   "execution_count": null,
   "metadata": {},
   "outputs": [],
   "source": [
    "size_of_grid = 100\n",
    "\n",
    "G = build_grid(n=size_of_grid)\n",
    "set_boundary_grid(G)\n",
    "plot_grid(G)    "
   ]
  },
  {
   "cell_type": "code",
   "execution_count": null,
   "metadata": {},
   "outputs": [],
   "source": [
    "# using two-loops\n",
    "def iteration_loops(G):\n",
    "    n = G.shape[0]\n",
    "    for i in range(1, n-1):\n",
    "        for j in range(1, n-1):\n",
    "            # calculate the average\n",
    "            G[i, j] = (G[i + 1, j] + G[i - 1, j] + G[i, j + 1] + G[i, j - 1]) / 4    \n",
    "\n",
    "\n",
    "# using iterators to traverse the grid\n",
    "def iteration_gen(G):\n",
    "    n = G.shape[0]\n",
    "    indices = product(range(1, n-1), repeat=2)\n",
    "    for e in indices:\n",
    "        G[e]=(G[e[0] + 1, e[1]] + G[e[0] - 1, e[1]] + G[e[0], e[1] + 1] + G[e[0], e[1] - 1])/4\n",
    "    "
   ]
  },
  {
   "cell_type": "code",
   "execution_count": null,
   "metadata": {},
   "outputs": [],
   "source": [
    "# auxiliary functions:\n",
    "\n",
    "# calculate error between G1 and G2\n",
    "def calc_error(G1, G2):\n",
    "    error = 0\n",
    "    n = G1.shape[0]\n",
    "    for i in range(n):\n",
    "        for j in range(n):\n",
    "            error += (G1[i, j] - G2[i, j]) ** 2    \n",
    "    # normalize the error\n",
    "    return error / n**2\n",
    "\n",
    "\n",
    "# using numpy built-in functions to compute the error\n",
    "def calc_error_np(G1, G2):\n",
    "    error = np.square(np.subtract(G1, G2)).mean()\n",
    "    return error\n",
    "\n",
    "\n",
    "# deep copy of G1 to G2\n",
    "def copy_array(G1, G2):\n",
    "    G2[:, :] = G1[:, :]\n"
   ]
  },
  {
   "cell_type": "code",
   "execution_count": null,
   "metadata": {},
   "outputs": [],
   "source": [
    "def solve_heat_equation1(n):\n",
    "    G = build_grid(n)\n",
    "    set_boundary_grid(G)\n",
    "    \n",
    "    G_prev = build_grid(n)\n",
    "    copy_array(G, G_prev)\n",
    "\n",
    "    error = np.float(\"inf\")\n",
    "    while error > 1e-7:\n",
    "        iteration_loops(G)\n",
    "        error = calc_error(G, G_prev)\n",
    "        copy_array(G, G_prev)         \n",
    "    return G"
   ]
  },
  {
   "cell_type": "code",
   "execution_count": null,
   "metadata": {},
   "outputs": [],
   "source": [
    "%lprun -f solve_heat_equation1 G1 = solve_heat_equation1(size_of_grid)"
   ]
  },
  {
   "cell_type": "code",
   "execution_count": null,
   "metadata": {},
   "outputs": [],
   "source": [
    "plot_grid(G1)"
   ]
  },
  {
   "cell_type": "code",
   "execution_count": null,
   "metadata": {},
   "outputs": [],
   "source": [
    "def solve_heat_equation2(n):\n",
    "    '''changing to calc_error_np function'''\n",
    "    G = build_grid(n)\n",
    "    set_boundary_grid(G)\n",
    "    \n",
    "    G_prev = build_grid(n)\n",
    "    copy_array(G, G_prev)\n",
    "    \n",
    "    error = np.float(\"inf\")\n",
    "    while error > 1e-7:\n",
    "        iteration_loops(G)\n",
    "        error = calc_error_np(G,G_prev) \n",
    "        copy_array(G,G_prev)    \n",
    "        \n",
    "    return G"
   ]
  },
  {
   "cell_type": "code",
   "execution_count": null,
   "metadata": {},
   "outputs": [],
   "source": [
    "%lprun -f solve_heat_equation2 G2 = solve_heat_equation2(size_of_grid)"
   ]
  },
  {
   "cell_type": "code",
   "execution_count": null,
   "metadata": {},
   "outputs": [],
   "source": [
    "plot_grid(G2)"
   ]
  },
  {
   "cell_type": "code",
   "execution_count": null,
   "metadata": {},
   "outputs": [],
   "source": [
    "def solve_heat_equation3(n):\n",
    "    '''changing to iteration_gen function'''\n",
    "    G = build_grid(n)\n",
    "    set_boundary_grid(G)\n",
    "    \n",
    "    G_prev = build_grid(n)\n",
    "    copy_array(G, G_prev)\n",
    "    \n",
    "    error = np.float(\"inf\")\n",
    "    while error > 1e-7:\n",
    "        iteration_gen(G)\n",
    "        error = calc_error(G,G_prev) \n",
    "        copy_array(G, G_prev)    \n",
    "        \n",
    "    return(G)"
   ]
  },
  {
   "cell_type": "code",
   "execution_count": null,
   "metadata": {},
   "outputs": [],
   "source": [
    "%lprun -f solve_heat_equation3 G3 = solve_heat_equation3(size_of_grid)"
   ]
  },
  {
   "cell_type": "code",
   "execution_count": null,
   "metadata": {},
   "outputs": [],
   "source": [
    "plot_grid(G3)"
   ]
  },
  {
   "cell_type": "code",
   "execution_count": null,
   "metadata": {},
   "outputs": [],
   "source": [
    "def solve_heat_equation4(n):\n",
    "    '''changing to both calc_error_np and iteration_gen functions'''\n",
    "    G = build_grid(n)\n",
    "    set_boundary_grid(G)\n",
    "    \n",
    "    G_prev = build_grid(n)\n",
    "    copy_array(G, G_prev)\n",
    "    \n",
    "    error = np.float(\"inf\")\n",
    "    while error > 1e-7:\n",
    "        iteration_gen(G)\n",
    "        error = calc_error_np(G, G_prev) \n",
    "        copy_array(G, G_prev)          \n",
    "    return G"
   ]
  },
  {
   "cell_type": "code",
   "execution_count": null,
   "metadata": {},
   "outputs": [],
   "source": [
    "%lprun -f solve_heat_equation4 G4 = solve_heat_equation4(size_of_grid)"
   ]
  },
  {
   "cell_type": "code",
   "execution_count": null,
   "metadata": {},
   "outputs": [],
   "source": [
    "plot_grid(G4)"
   ]
  },
  {
   "cell_type": "code",
   "execution_count": null,
   "metadata": {},
   "outputs": [],
   "source": [
    "# different update (synchronous instead of asynchronous) but using only numpy\n",
    "def iteration_np(G):\n",
    "    n = G.shape[0]\n",
    "    G[1:n-1,1:n-1] = (G[:n-2,1:n-1] + G[2:,1:n-1] + G[1:n-1,:n-2] + G[1:n-1,2:]) / 4"
   ]
  },
  {
   "cell_type": "code",
   "execution_count": null,
   "metadata": {},
   "outputs": [],
   "source": [
    "def solve_heat_equation5(n):\n",
    "    '''all using numpy'''\n",
    "    G = build_grid(n)\n",
    "    set_boundary_grid(G)\n",
    "    \n",
    "    G_prev = build_grid(n)\n",
    "    copy_array(G, G_prev)\n",
    "    \n",
    "    error = np.inf\n",
    "    while error > 1e-7:\n",
    "        iteration_np(G)\n",
    "        error = calc_error_np(G, G_prev)\n",
    "        copy_array(G, G_prev)\n",
    "    return G"
   ]
  },
  {
   "cell_type": "code",
   "execution_count": null,
   "metadata": {},
   "outputs": [],
   "source": [
    "%lprun -f solve_heat_equation5 G5 = solve_heat_equation5(size_of_grid)"
   ]
  },
  {
   "cell_type": "code",
   "execution_count": null,
   "metadata": {},
   "outputs": [],
   "source": [
    "plot_grid(G5)"
   ]
  }
 ],
 "metadata": {
  "kernelspec": {
   "display_name": "Python 3",
   "language": "python",
   "name": "python3"
  },
  "language_info": {
   "codemirror_mode": {
    "name": "ipython",
    "version": 3
   },
   "file_extension": ".py",
   "mimetype": "text/x-python",
   "name": "python",
   "nbconvert_exporter": "python",
   "pygments_lexer": "ipython3",
   "version": "3.8.5"
  }
 },
 "nbformat": 4,
 "nbformat_minor": 4
}
