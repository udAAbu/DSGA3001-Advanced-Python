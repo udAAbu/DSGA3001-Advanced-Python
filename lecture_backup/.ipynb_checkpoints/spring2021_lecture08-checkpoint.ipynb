{
 "cells": [
  {
   "cell_type": "markdown",
   "metadata": {},
   "source": [
    "## Lecture 08\n",
    "## Optimization in Python \n",
    "### March 22, 2021"
   ]
  },
  {
   "cell_type": "code",
   "execution_count": 1,
   "metadata": {},
   "outputs": [
    {
     "name": "stderr",
     "output_type": "stream",
     "text": [
      "ERROR: Could not find a version that satisfies the requirement jaxlib\n",
      "ERROR: No matching distribution found for jaxlib\n"
     ]
    },
    {
     "name": "stdout",
     "output_type": "stream",
     "text": [
      "Requirement already satisfied: cvxpy in c:\\users\\znan5\\anaconda3\\lib\\site-packages (1.1.11)\n",
      "Requirement already satisfied: scs>=1.1.6 in c:\\users\\znan5\\anaconda3\\lib\\site-packages (from cvxpy) (2.1.2)\n",
      "Requirement already satisfied: osqp>=0.4.1 in c:\\users\\znan5\\anaconda3\\lib\\site-packages (from cvxpy) (0.6.2)\n",
      "Requirement already satisfied: numpy>=1.15 in c:\\users\\znan5\\anaconda3\\lib\\site-packages (from cvxpy) (1.20.1)\n",
      "Requirement already satisfied: ecos>=2 in c:\\users\\znan5\\anaconda3\\lib\\site-packages (from cvxpy) (2.0.7.post1)\n",
      "Requirement already satisfied: scipy>=1.1.0 in c:\\users\\znan5\\anaconda3\\lib\\site-packages (from cvxpy) (1.6.1)\n",
      "Requirement already satisfied: qdldl in c:\\users\\znan5\\anaconda3\\lib\\site-packages (from osqp>=0.4.1->cvxpy) (0.1.5)\n"
     ]
    }
   ],
   "source": [
    "!pip install jaxlib\n",
    "!pip install cvxpy"
   ]
  },
  {
   "cell_type": "code",
   "execution_count": 2,
   "metadata": {},
   "outputs": [],
   "source": [
    "import matplotlib.pyplot as plt\n",
    "import numpy as np\n",
    "\n",
    "from scipy import optimize"
   ]
  },
  {
   "cell_type": "markdown",
   "metadata": {},
   "source": [
    "### Optimization"
   ]
  },
  {
   "cell_type": "markdown",
   "metadata": {
    "slideshow": {
     "slide_type": "slide"
    }
   },
   "source": [
    "- In general, optimization is the process of finding the optimal element\n",
    "from a set of feasible candidates.\n",
    "\n",
    "\n",
    "- A universally important mathematical tool, it has been developed and adopted for use in many fields of science and engineering.\n",
    "\n",
    "\n",
    "- Terminology: for example, the mathematical function that is optimized may be called a cost function, loss function, energy function, or objective function, to mention a few. Here we use the generic term *objective function*.\n",
    "\n",
    "$$\\min_{x \\in C} f(x)$$\n",
    "\n",
    "\n",
    "- Optimization is closely related to solving equations: indeed, finding the optimum of a function is often related to finding a point with zero gradient (a *stationary point*). \n",
    "\n",
    "$$x \\in \\arg\\min_{x \\in \\mathbb R^d} f(x) \\quad \\implies \\quad \\nabla f(x) = 0$$\n",
    "\n",
    "- The converse, however, is not necessarily true (it is true for *convex* functions). Nevertheless, it is common to solve optimization problems by searching for stationary points (zeros of the gradient). In some cases, one can check optimality of and test the resulting candidates for optimality, though this is not possible in general.\n",
    "\n",
    "\n",
    "- We discuss modules: **SciPy** for nonlinear optimization problems, and **cvxpy** for convex optimization problems (here an example of a linear programming problem). Nonlinear optimization often benefits from the ability to compute gradients or hessians of the objective function, and we will discuss *automatic differentiation* with **JAX**.\n"
   ]
  },
  {
   "cell_type": "markdown",
   "metadata": {
    "slideshow": {
     "slide_type": "slide"
    }
   },
   "source": [
    "Optimization problem: \n",
    "---\n",
    "\n",
    "Consider an objective (function) $f(x): \\mathbf{R}^n \\to \\mathbf{R}$ \n",
    "and constraints (functions) $g_i(x), h_j(x) : \\mathbf{R}^n \\to \\mathbf{R}$. Consider:\n",
    "\n",
    "$$\\min f(x)$$\n",
    "$$s.t.$$\n",
    "$$g_i(x) = 0 \\quad i=1,\\dots, m$$\n",
    "$$h_j(x) \\leq 0 \\quad i=1,\\dots, p$$.\n",
    "\n",
    "\n",
    "\n"
   ]
  },
  {
   "cell_type": "markdown",
   "metadata": {
    "slideshow": {
     "slide_type": "slide"
    }
   },
   "source": [
    "This form is general, since a maximization problem can be cast as a minimization problem:\n",
    "$$\\max f(x) \\equiv \\min -f(x).$$"
   ]
  },
  {
   "cell_type": "markdown",
   "metadata": {
    "slideshow": {
     "slide_type": "slide"
    }
   },
   "source": [
    "---\n",
    "\n",
    "- A general mathematical optimization on this form is difficult to solve, and there are no efficient methods for solving completely generic optimization\n",
    "problems. \n",
    "\n",
    "- There are efficient methods for many important special cases, and it is\n",
    "therefore important to know as much as possible about the objective functions and the constraints in order to be able to solve a problem.\n",
    "\n",
    "---"
   ]
  },
  {
   "cell_type": "markdown",
   "metadata": {
    "slideshow": {
     "slide_type": "slide"
    }
   },
   "source": [
    "- The problem is **univariate** or one dimensional if $x$ is a scalar, and multivariate or multidimensional if $x$ is a vector. \n",
    "\n",
    "\n",
    "- For high-dimensional objective functions with larger $n$ (where $x \\in \\mathbf{R}^n$), the optimization problem is harder and more computationally demanding to solve. \n",
    "\n",
    "\n",
    "- If the objective function $f$ and the constraints $g_i, h_j$ all are linear (e.g. $f(x) = c^T x$), the problem is a linear optimization problem, or **linear programming** problem. \n",
    "\n",
    "\n",
    "- If either the objective function or the constraints are nonlinear, it is a nonlinear optimization problem, or **nonlinear programming** problem. \n",
    "\n",
    "\n",
    "- Finally, handling equality and inequality constraints require different approaches."
   ]
  },
  {
   "cell_type": "markdown",
   "metadata": {
    "slideshow": {
     "slide_type": "slide"
    }
   },
   "source": [
    "- Of course, general nonlinear problems can be much harder to solve than linear problems, because they have a\n",
    "wider variety of possible behaviors. \n",
    "\n",
    "\n",
    "- A general nonlinear problem can have both local and global minima,\n",
    "which turns out to make it very difficult to find the global minima\n",
    "\n",
    "\n",
    "\n",
    "- Iterative solvers may often converge to\n",
    "local minima rather that the global minima, or may even fail to converge altogether if there are both local\n",
    "and global minima. \n",
    "\n",
    "\n"
   ]
  },
  {
   "cell_type": "markdown",
   "metadata": {},
   "source": [
    "### Optimization of continuous and smooth functions"
   ]
  },
  {
   "cell_type": "markdown",
   "metadata": {
    "slideshow": {
     "slide_type": "slide"
    }
   },
   "source": [
    "- Optimization of continuous and smooth functions are closely related to nonlinear equation solving,\n",
    "because extremal values of a function $f (x)$ correspond to points where its **derivative**, or **gradient** , is zero, i.e. $$f'(x) = 0$$ or $$\\nabla f(x) = 0,$$ respectively.\n",
    "\n",
    "\n",
    "\n",
    "- Here $\\nabla f(x) = \\left(\\partial f(x) / \\partial x_0, \\dots, \\partial f(x) / \\partial x_{n - 1}\\right)^T$.\n",
    "\n",
    "\n",
    "\n",
    "- Finding candidates for the optimal value is equivalent to solving (in general nonlinear) equations. \n",
    "\n",
    "\n",
    "- A solution, (a **stationary point**), does not necessarily correspond to a minimum of $f(x)$.\n",
    "\n",
    "\n",
    "\n",
    "- It can also be maximum or a saddle point! https://en.wikipedia.org/wiki/Saddle_point\n",
    "\n",
    "\n",
    "- Candidates should therefore be tested for optimality; for unconstrained objective functions, we test the higher-order derivatives $f^{(k)}(x)$, or the Hessian matrix \n",
    "\n",
    "$$\\Big\\{ \\frac{\\partial^2 f(x)}{\\partial x_i \\partial x_j} \\Big\\}_{i,j}$$\n"
   ]
  },
  {
   "cell_type": "markdown",
   "metadata": {
    "slideshow": {
     "slide_type": "slide"
    }
   },
   "source": [
    "- However, an important subclass of nonlinear problems that can be solved efficiently are (strictly) **convex problems**, which are directly related to the absence of strictly local minima and the existence of a **unique global minimum**."
   ]
  },
  {
   "cell_type": "markdown",
   "metadata": {},
   "source": [
    "**Some examples**"
   ]
  },
  {
   "cell_type": "code",
   "execution_count": null,
   "metadata": {},
   "outputs": [],
   "source": [
    "import math \n",
    "\n",
    "f1 = lambda x : x ** 2 - 3\n",
    "f2 = lambda x : x ** 3 + x ** 2 - 12 * x - 1\n",
    "f3 = lambda x : 10 * (abs(x) - 1) * (abs(x) > 1)\n",
    "\n",
    "x = np.linspace(- 5, 5, 1000)\n",
    "\n",
    "plt.figure(figsize=(12,3))\n",
    "\n",
    "plt.subplot(1,3,1)\n",
    "plt.plot(x, f1(x))\n",
    "\n",
    "plt.subplot(1,3,2)\n",
    "plt.plot(x, f2(x))\n",
    "\n",
    "plt.subplot(1,3,3)\n",
    "plt.plot(x, f3(x))\n"
   ]
  },
  {
   "cell_type": "markdown",
   "metadata": {
    "slideshow": {
     "slide_type": "slide"
    }
   },
   "source": [
    "- Newton’s method for root finding is an example of a quadratic approximation method that can be applied to find roots (zeros) of a function: https://en.wikipedia.org/wiki/Newton%27s_method\n",
    "\n",
    "$$x_{t+1} = x_t - f(x_t) / f'(x_t)$$\n",
    "\n",
    "\n",
    "- By applying the method to the derivative rather than the function itself, we obtain an optimization algorithm: https://en.wikipedia.org/wiki/Newton%27s_method_in_optimization\n",
    "\n",
    "$$x_{t+1} = x_t - f'(x_t) / f''(x_t)$$\n",
    "\n",
    "\n",
    "- The method can converge quickly if started close to an optimal point, but may not converge at all \n",
    "if started too far from the optimal value!"
   ]
  },
  {
   "cell_type": "markdown",
   "metadata": {},
   "source": [
    "---\n",
    "\n",
    "This formula also requires evaluating both the derivative and the second-order derivative in each iteration."
   ]
  },
  {
   "cell_type": "markdown",
   "metadata": {},
   "source": [
    "**Example**\n",
    "---\n",
    "Minimize the area of a cylinder with unit volume.\n"
   ]
  },
  {
   "cell_type": "markdown",
   "metadata": {},
   "source": [
    "$$f ( [ r , h ] ) := 2 \\pi r^2 + 2 \\pi rh$$\n",
    "subject to the equality constraint\n",
    "$$g ( [ r , h ] ) := r^2 \\pi h - 1 = 0$$\n"
   ]
  },
  {
   "cell_type": "markdown",
   "metadata": {},
   "source": [
    "### Symbolic solution using Sympy\n",
    "\n",
    "[https://www.sympy.org/en/index.html](https://www.sympy.org/en/index.html)\n"
   ]
  },
  {
   "cell_type": "code",
   "execution_count": null,
   "metadata": {},
   "outputs": [],
   "source": [
    "import sympy\n",
    "r, h = sympy.symbols(\"r, h\")\n",
    "Area = 2 * sympy.pi * r ** 2 + 2 * sympy.pi * r * h\n",
    "Volume = sympy.pi * r ** 2 * h\n",
    "h_r = sympy.solve(Volume - 1)[0] # h_r = h(r) a function of r\n",
    "Area_r = Area.subs(h_r)\n",
    "\n",
    "# solve in r\n",
    "rsol = sympy.solve(Area_r.diff(r))[0]"
   ]
  },
  {
   "cell_type": "code",
   "execution_count": null,
   "metadata": {},
   "outputs": [],
   "source": [
    "rsol"
   ]
  },
  {
   "cell_type": "code",
   "execution_count": null,
   "metadata": {},
   "outputs": [],
   "source": [
    "_.evalf()"
   ]
  },
  {
   "cell_type": "markdown",
   "metadata": {},
   "source": [
    "Verify that the second derivative is positive, and so that rsol corresponds to a minimum:"
   ]
  },
  {
   "cell_type": "code",
   "execution_count": null,
   "metadata": {},
   "outputs": [],
   "source": [
    "Area_r.diff(r, 2).subs(r, rsol)"
   ]
  },
  {
   "cell_type": "code",
   "execution_count": null,
   "metadata": {},
   "outputs": [],
   "source": [
    "Area_r.subs(r, rsol)"
   ]
  },
  {
   "cell_type": "code",
   "execution_count": null,
   "metadata": {},
   "outputs": [],
   "source": [
    "_.evalf()"
   ]
  },
  {
   "cell_type": "markdown",
   "metadata": {
    "slideshow": {
     "slide_type": "slide"
    }
   },
   "source": [
    "### Numerical optimization with `scipy.optimize`\n",
    "\n",
    "- Typically (for more practical problems) one needs to apply numerical techniques. \n",
    "\n",
    "- To solve the problem by using SciPy’s numerical optimization functions.\n",
    "\n",
    "- First define a Python function that implements the objective function. \n",
    "\n",
    "- To solve the optimization problem, use e.g. **optimize.brent**. \n",
    "https://docs.scipy.org/doc/scipy/reference/generated/scipy.optimize.brent.html"
   ]
  },
  {
   "cell_type": "code",
   "execution_count": null,
   "metadata": {},
   "outputs": [],
   "source": [
    "# numerical solving\n",
    "# by using that the optimal h(r) = 1/(pi * r ** 2)\n",
    "\n",
    "def f(r):\n",
    "    return 2 * np.pi * r**2 + 2 / r"
   ]
  },
  {
   "cell_type": "markdown",
   "metadata": {},
   "source": [
    "- When possible, it is a good idea to visualize the objective function before attempting a numerical optimization\n",
    "\n",
    "- It can help identifying a suitable initial interval for the numerical optimization routine."
   ]
  },
  {
   "cell_type": "code",
   "execution_count": null,
   "metadata": {},
   "outputs": [],
   "source": [
    "r = np.linspace(0.1, 2, 100)\n",
    "plt.plot(r, f(r))"
   ]
  },
  {
   "cell_type": "code",
   "execution_count": null,
   "metadata": {},
   "outputs": [],
   "source": [
    "# numerical solving\n",
    "# by using that the optimal h(r) = 1/(pi * r ** 2)\n",
    "def f(r):\n",
    "    return 2 * np.pi * r**2 + 2 / r\n",
    "\n",
    "r_min = optimize.brent(f, brack=(0.1, 3))\n",
    "\n",
    "print(\"rmin:\", r_min)\n",
    "print(\"f(rmin):\", f(r_min))"
   ]
  },
  {
   "cell_type": "markdown",
   "metadata": {},
   "source": [
    "---\n",
    "\n",
    "We can also use: **optimize.minimize_scalar**\n",
    "    \n",
    "[https://docs.scipy.org/doc/scipy/reference/generated/scipy.optimize.minimize_scalar.html](https://docs.scipy.org/doc/scipy/reference/generated/scipy.optimize.minimize_scalar.html)"
   ]
  },
  {
   "cell_type": "code",
   "execution_count": null,
   "metadata": {},
   "outputs": [],
   "source": [
    "optimize.minimize_scalar(f, bracket=(0.1, 5))"
   ]
  },
  {
   "cell_type": "code",
   "execution_count": null,
   "metadata": {},
   "outputs": [],
   "source": [
    "optimize.minimize_scalar(f, bounds=(0.1, 5), method=\"bounded\")"
   ]
  },
  {
   "cell_type": "markdown",
   "metadata": {},
   "source": [
    "### Unconstrained Multivariate Optimization\n"
   ]
  },
  {
   "cell_type": "markdown",
   "metadata": {},
   "source": [
    "Issues in higher dimensions:\n",
    "* solving nonlinear equations analytically is usually infeasible\n",
    "* brute-force on a grid becomes \"cursed\"\n",
    "* local search involves choosing a good direction; different directions may exhibit very different behavior (*poor conditioning*)\n",
    "* gradients are important, hessians are useful (Newton's method) but may be intractable"
   ]
  },
  {
   "cell_type": "markdown",
   "metadata": {},
   "source": [
    "### Steepest Descent\n",
    "---\n",
    "\n",
    "The negative gradient locally minimizes a first order Taylor expansion of $f$: $f(x_k + v) \\approx f(x_k) + v^T \\nabla f(x_k)$.\n",
    "\n",
    "As minimization strategy, it is therefore sensible to move along this direction with a step-size $\\alpha_k$. \n",
    "\n",
    "This method is known as the steepest descent method, and it gives the iteration formula:\n",
    "\n",
    "$$x_{k + 1} := x_k − \\alpha_k \\nabla f(x_k)$$\n",
    "\n",
    "Issue: can be slow when different directions have different scales (bad conditioning)"
   ]
  },
  {
   "attachments": {
    "Screen%20Shot%202021-03-22%20at%2012.19.49%20AM.png": {
     "image/png": "[encoded data removed]"
    }
   },
   "cell_type": "markdown",
   "metadata": {},
   "source": [
    "![Screen%20Shot%202021-03-22%20at%2012.19.49%20AM.png](attachment:Screen%20Shot%202021-03-22%20at%2012.19.49%20AM.png)"
   ]
  },
  {
   "cell_type": "markdown",
   "metadata": {},
   "source": [
    "### Newton’s method\n",
    "----\n",
    "\n",
    "Newton’s method for multivariate optimization is a modification of the steepest descent method that\n",
    "can improve convergence, by taking into account the local curvature of the objective in all directions.\n",
    "\n",
    "The sequence of points $x_k$ for $k \\geq 0$ is:\n",
    "\n",
    "$$x_{k + 1} := x_k − H^{-1} (x_k) \\nabla f(x_k)$$\n",
    "\n",
    "where the Hessian matrix is given by:\n",
    "\n",
    "$$H(u) = \\left\\{ \\frac{\\partial^2 f(u)}{\\partial u_i \\partial u_j} \\right\\}_{i,j=1}^n$$\n",
    "\n",
    "and $u = (u_1, u_2, \\dots, u_n)$.\n",
    "\n",
    "Minimizes a second-order Taylor expansion: $f(x_k + v) \\approx f(x_k) + v^T \\nabla f(x_k) + \\frac{1}{2} v^T H(x_k) v$\n"
   ]
  },
  {
   "attachments": {
    "Screen%20Shot%202021-03-22%20at%2012.20.12%20AM.png": {
     "image/png": "[encoded data removed]"
    }
   },
   "cell_type": "markdown",
   "metadata": {},
   "source": [
    "![Screen%20Shot%202021-03-22%20at%2012.20.12%20AM.png](attachment:Screen%20Shot%202021-03-22%20at%2012.20.12%20AM.png)"
   ]
  },
  {
   "cell_type": "markdown",
   "metadata": {},
   "source": [
    "### Newton’s method - implementation \n",
    "---\n",
    "\n",
    "In SciPy, Newton’s method is implemented in the function **optimize.fmin_ncg**. This function takes the\n",
    "following arguments: a Python function for the objective function, a starting point, a Python function for\n",
    "evaluating the gradient, and (optionally) a Python function for evaluating the Hessian."
   ]
  },
  {
   "cell_type": "markdown",
   "metadata": {},
   "source": [
    "---\n",
    "**Example**\n",
    "\n",
    "Consider the following problem: $$\\min_x f ( x )$$ where\n",
    "the objective function is $$f ( x ) = ( x_0 - 1 )^4 + 5 ( x_1 - 1 )^2 - 2 x_0 x_1.$$ \n",
    "\n",
    "\n"
   ]
  },
  {
   "cell_type": "code",
   "execution_count": null,
   "metadata": {},
   "outputs": [],
   "source": [
    "def f_(x0, x1):\n",
    "    return (x0 - 1) ** 4 + 5 * (x1 - 1) ** 2 - 2 * x0 * x1\n",
    "\n",
    "# a contour plot\n",
    "x1 = x2 = np.linspace(-2, 4, 100)\n",
    "X1, X2 = np.meshgrid(x1, x2)\n",
    "\n",
    "# contours\n",
    "c = plt.contour(X1, X2, f_(X1, X2), 50)"
   ]
  },
  {
   "cell_type": "markdown",
   "metadata": {},
   "source": [
    "\n",
    "- To apply Newton’s method, we need to calculate\n",
    "the gradient and the Hessian. \n",
    "\n",
    "- For this particular case, this can easily be done by hand. \n",
    "\n"
   ]
  },
  {
   "cell_type": "code",
   "execution_count": null,
   "metadata": {},
   "outputs": [],
   "source": [
    "def f(x):\n",
    "    return (x[0] - 1) ** 4 + 5 * (x[1] - 1) ** 2 - 2 * x[0] * x[1]\n",
    "\n",
    "def fprime(x):\n",
    "    return np.array([4 * (x[0] - 1) ** 3 - 2 * x[1], 10 * (x[1] - 1) - 2 * x[0]])\n",
    "\n",
    "def fhess(x):\n",
    "    return np.array([[12. * (x[0] - 1) ** 2, -2.],\n",
    "                     [-2., 10.]])"
   ]
  },
  {
   "cell_type": "markdown",
   "metadata": {
    "slideshow": {
     "slide_type": "slide"
    }
   },
   "source": [
    "## Automatic differentiation with JAX\n",
    "https://github.com/google/jax\n",
    "\n",
    "* JAX provides a simple a flexible framework for computing gradients/hessians of Numpy functions\n",
    "* For a Python function `f` that computes $f(x)$, `grad(f)` is a Python function that computes $\\nabla f(x)$\n",
    "* The function is obtained by *tracing* all operations and using *foward-* or *reverse-mode automatic differentiation* (for this to work, elementary operations need to use `jax.numpy` instead of `numpy`)\n",
    "* JAX also provides JIT compilation (`jax.jit`), vectorization (`jax.vmap/pmap`), and GPU/TPU support"
   ]
  },
  {
   "cell_type": "code",
   "execution_count": null,
   "metadata": {},
   "outputs": [],
   "source": [
    "import jax.numpy as jnp\n",
    "from jax import jit, grad, hessian\n",
    "\n",
    "ff = jit(f)\n",
    "ffprime = jit(grad(f))\n",
    "ffhess = jit(hessian(f))"
   ]
  },
  {
   "cell_type": "code",
   "execution_count": null,
   "metadata": {},
   "outputs": [],
   "source": [
    "x = np.array([1., 1.])\n",
    "f(x), fprime(x), fhess(x)"
   ]
  },
  {
   "cell_type": "code",
   "execution_count": null,
   "metadata": {},
   "outputs": [],
   "source": [
    "ff(x), ffprime(x), ffhess(x)"
   ]
  },
  {
   "cell_type": "markdown",
   "metadata": {
    "slideshow": {
     "slide_type": "slide"
    }
   },
   "source": [
    "## A short primer on automatic differentiation\n",
    "\n",
    "See also [JAX autodiff cookbook](https://jax.readthedocs.io/en/latest/notebooks/autodiff_cookbook.html) or [these slides](https://mblondel.org/teaching/autodiff-2020.pdf) by M. Blondel.\n",
    "\n",
    "Let $F : \\mathbb R^n \\to \\mathbb R^m$.\n",
    "The **Jacobian** matrix of $F$ at $x$ is defined by\n",
    "\n",
    "$$J_F(x) = \\left(\\begin{matrix} \\frac{\\partial F_1}{\\partial x_1}(x) & \\cdots & \\frac{\\partial F_1}{\\partial x_n}(x) \\\\\n",
    "\\vdots & \\ddots & \\vdots \\\\\n",
    "\\frac{\\partial F_m}{\\partial x_1}(x) & \\cdots & \\frac{\\partial F_m}{\\partial x_n}(x) \\end{matrix} \\right) \\in \\mathbb R^{m \\times n}$$\n",
    "\n",
    "E.g., if $m = 1$ we have $J_F(x) = \\nabla F(x)^T$."
   ]
  },
  {
   "cell_type": "markdown",
   "metadata": {
    "slideshow": {
     "slide_type": "slide"
    }
   },
   "source": [
    "A sequence of Python/Numpy operations can be seen to form a graph of elementary operations for which gradients/Jacobians are known.\n",
    "\n",
    "For example, assume $F: \\mathbb R^n \\to \\mathbb R^m$ is given by $F(x) = f(g(h(x)))$.\n",
    "\n",
    "\n"
   ]
  },
  {
   "cell_type": "markdown",
   "metadata": {
    "slideshow": {
     "slide_type": "slide"
    }
   },
   "source": [
    "### JVPs, forward-mode\n",
    "*Jacobian-vector product (JVP):* for a vector $v \\in \\mathbb R^n$, we have by the chain rule:\n",
    "$$ J_F(x) v = J_f(g(h(x))) J_g(h(x)) J_h(x) v$$\n",
    "\n",
    "*Forward-mode* differentiation: right-to-left matrix-vector multiplication, usually more efficient when $m > n$.\n",
    "\n",
    "Full Jacobian can be obtained by computing JVPs for all $v = e_j$ for $j = 1, \\ldots, n$.\n",
    "Implemented in JAX with `jax.jacfwd`."
   ]
  },
  {
   "cell_type": "markdown",
   "metadata": {
    "slideshow": {
     "slide_type": "slide"
    }
   },
   "source": [
    "### VJPs, reverse-mode\n",
    "*Vector-Jacobian product (VJP):* for a vector $u \\in \\mathbb R^m$, we have\n",
    "$$ u^T J_F(x) = u^T J_f(g(h(x))) J_g(h(x)) J_h(x)$$\n",
    "\n",
    "*Reverse-mode* differentiation: left-to-right multiplication, usually more efficient when $m < n$ (but requires to store intermediate Jacobians).\n",
    "\n",
    "Full Jacobian obtained by computing VJPs for $u = e_i$ for $i = 1, \\ldots, m$. Implemented in JAX with `jax.jacrev`.\n",
    "\n"
   ]
  },
  {
   "cell_type": "markdown",
   "metadata": {
    "slideshow": {
     "slide_type": "slide"
    }
   },
   "source": [
    "### Usage in optimization and machine learning\n",
    "\n",
    "Many use-cases in optimization and machine learning have $m = 1$ (scalar objective function), and reverse-mode autodiff is best suited in this case for computing gradients.\n",
    "\n",
    "Computing **Hessians** efficiently can be done by first computing gradients with reverse-mode autodiff:\n",
    "`fgrad = jacrev(f)`\n",
    "\n",
    "Then one can compute the Jacobian of the function `fjac` using foward-mode autodiff (avoids the need to store intermediate computations):\n",
    "`fhess = jacfwd(fgrad)`\n",
    "\n",
    "Compactly: `fhess = jacfwd(jacrev(f))` (or simply use `jax.hessian`)"
   ]
  },
  {
   "cell_type": "code",
   "execution_count": null,
   "metadata": {},
   "outputs": [],
   "source": [
    "## Another example: logistic regression\n",
    "\n",
    "from jax import vmap\n",
    "\n",
    "def sigmoid(x):\n",
    "    return 0.5 * (jnp.tanh(x / 2) + 1)\n",
    "\n",
    "# Outputs probability of a label being true.\n",
    "def predict(W, inputs):\n",
    "#     return sigmoid(jnp.dot(W, inputs))\n",
    "    return sigmoid(jnp.dot(inputs, W))\n",
    "\n",
    "# Build a toy dataset.\n",
    "inputs = jnp.array([[0.52, 1.12,  0.77],\n",
    "                   [0.88, -1.08, 0.15],\n",
    "                   [0.52, 0.06, -1.30],\n",
    "                   [0.74, -2.49, 1.39]])\n",
    "targets = jnp.array([True, True, False, True])\n",
    "\n",
    "# Training loss is the negative log-likelihood of the training examples.\n",
    "def loss(W):\n",
    "    preds = predict(W, inputs)\n",
    "#     preds = vmap(predict, in_axes=(None, 0))(W, inputs)\n",
    "    label_probs = preds * targets + (1 - preds) * (1 - targets)\n",
    "    return -jnp.sum(jnp.log(label_probs))\n",
    "\n",
    "lossgrad = grad(loss)\n",
    "losshessian = hessian(loss)"
   ]
  },
  {
   "cell_type": "code",
   "execution_count": null,
   "metadata": {},
   "outputs": [],
   "source": [
    "W = np.zeros(3)\n",
    "loss(W), lossgrad(W), losshessian(W)"
   ]
  },
  {
   "cell_type": "markdown",
   "metadata": {},
   "source": [
    "Newton optimization routine\n",
    "---\n",
    "\n",
    "In SciPy, Newton’s method is implemented in the function **optimize.fmin_ncg**.\n"
   ]
  },
  {
   "cell_type": "code",
   "execution_count": null,
   "metadata": {},
   "outputs": [],
   "source": [
    "# from jax.config import config\n",
    "# config.update(\"jax_enable_x64\", True)\n",
    "\n",
    "x_opt = optimize.fmin_ncg(f, (0., 0.), fprime=fprime, fhess=fhess)"
   ]
  },
  {
   "cell_type": "code",
   "execution_count": null,
   "metadata": {},
   "outputs": [],
   "source": [
    "print(x_opt)"
   ]
  },
  {
   "cell_type": "code",
   "execution_count": null,
   "metadata": {},
   "outputs": [],
   "source": [
    "X1.shape"
   ]
  },
  {
   "cell_type": "code",
   "execution_count": null,
   "metadata": {},
   "outputs": [],
   "source": [
    "# a contour plot\n",
    "\n",
    "fig, ax = plt.subplots(figsize=(8, 6))\n",
    "x1 = x2 = np.linspace(-2, 4, 100)\n",
    "X1, X2 = np.meshgrid(x1, x2)\n",
    "\n",
    "# contours\n",
    "c = ax.contour(X1, X2, f_(X1, X2), 50)\n",
    "\n",
    "ax.plot(x_opt[0], x_opt[1], 'r*', markersize=15)\n",
    "ax.set_xlabel(r\"$x_1$\", fontsize=18)\n",
    "ax.set_ylabel(r\"$x_2$\", fontsize=18)\n",
    "plt.colorbar(c, ax=ax)"
   ]
  },
  {
   "cell_type": "markdown",
   "metadata": {},
   "source": [
    "## Quasi-Newton methods\n",
    "\n",
    "Computing Hessians can be prohibitively costly on high-dimensional problems. Quasi-Newton methods approximate the Hessian using successive gradient evaluations. The following methods are commonly used: \n",
    "\n",
    "---\n",
    "\n",
    "- the BFGS **optimize.fmin_bfgs** :\n",
    "\n",
    "Broyden–Fletcher–Goldfarb–Shanno algorithm\n",
    "https://en.wikipedia.org/wiki/Broyden%E2%80%93Fletcher%E2%80%93Goldfarb%E2%80%93Shanno_algorithm\n",
    "\n",
    "\n",
    "\n",
    "a quasi-Newton method that can gradually build up numerical\n",
    "estimates of the Hessian, and also the gradient, if necessary. \n",
    "\n",
    "---\n",
    "\n",
    "- The conjugate-gradient methods **optimize.fmin_cg** :\n",
    "\n",
    "Conjugate_gradient_method  \n",
    "https://en.wikipedia.org/wiki/Conjugate_gradient_method\n",
    "\n",
    "is a variant\n",
    "of the steepest decent method and does not use the Hessian, and it can be used with numerical estimates\n",
    "of the gradient obtained from only function evaluations.\n",
    "\n",
    "---"
   ]
  },
  {
   "cell_type": "code",
   "execution_count": null,
   "metadata": {},
   "outputs": [],
   "source": [
    "x_opt = optimize.fmin_bfgs(f, (0, 0), fprime=fprime)\n",
    "x_opt"
   ]
  },
  {
   "cell_type": "code",
   "execution_count": null,
   "metadata": {},
   "outputs": [],
   "source": [
    "x_opt = optimize.fmin_cg(f, (0, 0), fprime=fprime)\n",
    "x_opt"
   ]
  },
  {
   "cell_type": "markdown",
   "metadata": {},
   "source": [
    "Both of these methods can also be used without providing a function for the gradient as well.\n",
    "\n",
    "In this case, the gradient is typically computed using numerical finite differences:\n",
    "$$\\frac{\\partial f}{\\partial x_i}(x) \\approx \\frac{1}{2 \\epsilon} (f(x + \\epsilon e_i) - f(x - \\epsilon e_i))$$\n",
    "\n",
    "**Drawback**: the number of function evaluations will typically be much higher."
   ]
  },
  {
   "cell_type": "code",
   "execution_count": null,
   "metadata": {},
   "outputs": [],
   "source": [
    "x_opt = optimize.fmin_bfgs(f, (0, 0))\n",
    "x_opt"
   ]
  },
  {
   "cell_type": "markdown",
   "metadata": {
    "slideshow": {
     "slide_type": "slide"
    }
   },
   "source": [
    "\n",
    "The methods for multivariate optimization that we have discussed so far all **converge to a local\n",
    "minimum** in general.\n",
    "\n",
    "For problems with many local minima, this can easily lead to a situation when the\n",
    "solver easily gets stuck in a local minimum, even if a global minimum exists.\n",
    "\n"
   ]
  },
  {
   "cell_type": "markdown",
   "metadata": {},
   "source": [
    "\n",
    "### Brute Force\n",
    "---\n",
    "\n",
    "Although there is no complete\n",
    "and general solution to this problem, a practical approach is \n",
    "brute force search over a coordinate grid to find a suitable starting point for an iterative solver. \n",
    "\n",
    "---\n",
    "\n",
    "\n",
    "At least this gives a systematic approach to find a global minimum within given coordinate ranges. \n",
    "\n",
    "\n",
    "Consider the problem of minimizing the function: \n",
    "\n",
    "$$4 sin (\\pi x) + 6 sin (\\pi y) + ( x - 1 )^2 + ( y - 1 )^2,$$ \n",
    "\n",
    "which has a large number of local minima. \n",
    "\n",
    "\n",
    "---\n",
    "\n",
    "\n",
    "This can make it tricky to pick a suitable initial point for an interative solver. To solve this optimization problem\n",
    "with SciPy, we first define a Python function for the objective function:\n",
    "    \n",
    "    "
   ]
  },
  {
   "cell_type": "code",
   "execution_count": null,
   "metadata": {},
   "outputs": [],
   "source": [
    "def f(U):\n",
    "    x, y = U\n",
    "    return (4 * np.sin(np.pi * x) + 6 * np.sin(np.pi * y)) + (x - 1)**2 + (y - 1)**2\n",
    "\n",
    "def func_X_Y_to_XY(f, X, Y):\n",
    "    \"\"\"\n",
    "    Wrapper for f(X, Y) -> f([X, Y])\n",
    "    \"\"\"\n",
    "    s = np.shape(X)\n",
    "    return f(np.vstack([X.ravel(), Y.ravel()])).reshape(*s)\n",
    "\n",
    "fig, ax = plt.subplots(figsize=(6, 4))\n",
    "x_ = y_ = np.linspace(-3, 5, 100)\n",
    "X, Y = np.meshgrid(x_, y_)\n",
    "c = ax.contour(X, Y, func_X_Y_to_XY(f, X, Y), 25)\n",
    "ax.set_xlabel(r\"$x_1$\", fontsize=18)\n",
    "ax.set_ylabel(r\"$x_2$\", fontsize=18)\n",
    "plt.colorbar(c, ax=ax)"
   ]
  },
  {
   "cell_type": "markdown",
   "metadata": {},
   "source": [
    "https://docs.scipy.org/doc/scipy/reference/generated/scipy.optimize.brute.html"
   ]
  },
  {
   "cell_type": "code",
   "execution_count": null,
   "metadata": {},
   "outputs": [],
   "source": [
    "x_start = optimize.brute(f, (slice(-3, 5), slice(-3, 5))) \n",
    "print(x_start, f(x_start))"
   ]
  },
  {
   "cell_type": "code",
   "execution_count": null,
   "metadata": {},
   "outputs": [],
   "source": [
    "x_opt = optimize.fmin_bfgs(f, x_start)"
   ]
  },
  {
   "cell_type": "code",
   "execution_count": null,
   "metadata": {},
   "outputs": [],
   "source": [
    "print(x_opt, f(x_opt))"
   ]
  },
  {
   "cell_type": "code",
   "execution_count": null,
   "metadata": {},
   "outputs": [],
   "source": [
    "fig, ax = plt.subplots(figsize=(6, 4))\n",
    "x_ = y_ = np.linspace(-3, 5, 100)\n",
    "X, Y = np.meshgrid(x_, y_)\n",
    "c = ax.contour(X, Y, func_X_Y_to_XY(f, X, Y), 25)\n",
    "ax.plot(x_opt[0], x_opt[1], 'r*', markersize=15)\n",
    "ax.set_xlabel(r\"$x_1$\", fontsize=18)\n",
    "ax.set_ylabel(r\"$x_2$\", fontsize=18)\n",
    "plt.colorbar(c, ax=ax)"
   ]
  },
  {
   "cell_type": "code",
   "execution_count": null,
   "metadata": {},
   "outputs": [],
   "source": [
    "#We could as well have used:\n",
    "\n",
    "x_opt = optimize.fmin_bfgs(f, x_start)"
   ]
  },
  {
   "cell_type": "code",
   "execution_count": null,
   "metadata": {},
   "outputs": [],
   "source": [
    "print(\"x_opt:\", x_opt)\n",
    "print(\"result:\", f(x_opt))"
   ]
  },
  {
   "cell_type": "code",
   "execution_count": null,
   "metadata": {},
   "outputs": [],
   "source": [
    "result = optimize.minimize(f, x_start, method='BFGS')\n",
    "x_opt = result.x"
   ]
  },
  {
   "cell_type": "code",
   "execution_count": null,
   "metadata": {},
   "outputs": [],
   "source": [
    "print(\"x_opt:\", x_opt)\n",
    "print(\"result:\", f(x_opt))"
   ]
  },
  {
   "cell_type": "markdown",
   "metadata": {},
   "source": [
    "Constrained Optimization\n",
    "---"
   ]
  },
  {
   "cell_type": "markdown",
   "metadata": {},
   "source": [
    "As an example of solving a bounded optimization problem with the L-BFGS-B solver, consider\n",
    "minimizing the objective function: \n",
    "$$f(x) = (x_1 - 1)^2 + (x_2 - 1)^2$$ \n",
    "subject to the constraints $$2 \\leq x_1 \\leq 3$$\n",
    "and \n",
    "$$0 \\leq x_2 \\leq 2.$$\n",
    "\n",
    "---\n",
    "\n",
    "- Define a function for the objective functions, and tuples with the\n",
    "boundaries for each of the two variables in this problem, according to the given constraints. \n",
    "\n",
    "- For comparison, we solve both the unconstrained and unconstrained optimization problems, and plot a contour graph of the objective function."
   ]
  },
  {
   "cell_type": "code",
   "execution_count": null,
   "metadata": {},
   "outputs": [],
   "source": [
    "def f(X):\n",
    "    x, y = X\n",
    "    return (x - 1)**2 + (y - 1)**2\n",
    "\n",
    "# unconstrained optimization\n",
    "x_opt = optimize.minimize(f, np.array([1, 1]), method='BFGS').x\n",
    "\n",
    "# constrained optimization\n",
    "bnd_x1, bnd_x2 = (2, 3), (0, 2)\n",
    "\n",
    "#'L-BFGS-B limited-memory with bound constraints\n",
    "x_cons_opt = optimize.minimize(f, np.array([1, 1]), method='L-BFGS-B', \n",
    "                               bounds=[bnd_x1, bnd_x2]).x\n",
    "\n",
    "# plot function\n",
    "fig, ax = plt.subplots(figsize=(6, 4))\n",
    "x_ = y_ = np.linspace(-1, 3, 100)\n",
    "X, Y = np.meshgrid(x_, y_)\n",
    "c = ax.contour(X, Y, func_X_Y_to_XY(f, X, Y), 50)\n",
    "# compare the two solutions\n",
    "ax.plot(x_opt[0], x_opt[1], 'b*', markersize=15)\n",
    "ax.plot(x_cons_opt[0], x_cons_opt[1], 'r*', markersize=15)\n",
    "\n",
    "\n",
    "\n",
    "# plot a feasible region (in this case it is a rectangle)\n",
    "bound_rect = plt.Rectangle((bnd_x1[0], bnd_x2[0]), bnd_x1[1] - bnd_x1[0], \n",
    "                           bnd_x2[1] - bnd_x2[0], facecolor=\"grey\")\n",
    "ax.add_patch(bound_rect)\n",
    "ax.set_xlabel(r\"$x_1$\", fontsize=18)\n",
    "ax.set_ylabel(r\"$x_2$\", fontsize=18)\n",
    "plt.colorbar(c, ax=ax)"
   ]
  },
  {
   "cell_type": "markdown",
   "metadata": {},
   "source": [
    "**Note:**\n",
    "\n",
    "- Constraints that are defined by equalities or inequalities that include more than one variable are more complicated to deal with. \n",
    "\n",
    "- For example, using the Lagrange multipliers, it is possible to convert a constrained optimization problem to an unconstrained problem by introducing additional variables."
   ]
  },
  {
   "cell_type": "markdown",
   "metadata": {},
   "source": [
    "### Linear Programming"
   ]
  },
  {
   "cell_type": "markdown",
   "metadata": {},
   "source": [
    "- LP: linear objective function with linear constraints. Has many useful applications\n",
    "\n",
    "- Can be solved efficiently using convex solvers\n",
    "\n",
    "- A popular algorithm for this type of problems is known as simplex, which systematically moves from one vertex to another until the optimal vertex has been reached;\n",
    "\n",
    "- Interior point methods can also efficiently solve linear programming problems\n",
    "\n"
   ]
  },
  {
   "cell_type": "markdown",
   "metadata": {},
   "source": [
    "**Definition**\n",
    "\n",
    "$$ \\min c^T x$$\n",
    "\n",
    "$$s.t. \\quad Ax \\leq b$$ \n",
    "\n",
    "where $c, x \\in \\mathbf{R}^n$, $A \\in \\mathbf{R}^{m \\times n}$ and $b \\in \\mathbf{R}^m$."
   ]
  },
  {
   "attachments": {
    "image.png": {
     "image/png": "[encoded data removed]"
    }
   },
   "cell_type": "markdown",
   "metadata": {},
   "source": [
    "From the book *Convex Optimization* by Boyd and Vandenberghe:\n",
    "![image.png](attachment:image.png)"
   ]
  },
  {
   "cell_type": "markdown",
   "metadata": {},
   "source": [
    "To solve this problem, we use the **cvxpy library**, which provides general solvers for **convex** problems"
   ]
  },
  {
   "cell_type": "code",
   "execution_count": null,
   "metadata": {},
   "outputs": [],
   "source": [
    "c = np.array([-1.0, 2.0, -3.0])\n",
    "A = np.array([[ 1.0, 1.0, 0.0], \n",
    "              [-1.0, 3.0, 0.0], \n",
    "              [ 0.0, -1.0, 1.0]])\n",
    "\n",
    "b = np.array([1.0, 2.0, 3.0])\n",
    "\n",
    "import cvxpy as cp\n",
    "\n",
    "# Define and solve the CVXPY problem.\n",
    "x = cp.Variable(3)\n",
    "prob = cp.Problem(cp.Minimize(c.T@x),\n",
    "                 [A @ x <= b])\n",
    "prob.solve()\n",
    "\n",
    "# Print result.\n",
    "print(\"\\nThe optimal value is\", prob.value)\n",
    "print(\"A solution x is\")\n",
    "print(x.value)\n",
    "print(\"A dual solution is\")\n",
    "print(prob.constraints[0].dual_value)"
   ]
  },
  {
   "cell_type": "markdown",
   "metadata": {},
   "source": [
    "A linear programming problem with thousands of variables can be solved.\n",
    "\n",
    "`cvxpy` can solve many more kinds of convex programs (QP, SDP, SOCP, ...) https://www.cvxpy.org/index.html\n"
   ]
  }
 ],
 "metadata": {
  "celltoolbar": "Slideshow",
  "kernelspec": {
   "display_name": "Python 3",
   "language": "python",
   "name": "python3"
  },
  "language_info": {
   "codemirror_mode": {
    "name": "ipython",
    "version": 3
   },
   "file_extension": ".py",
   "mimetype": "text/x-python",
   "name": "python",
   "nbconvert_exporter": "python",
   "pygments_lexer": "ipython3",
   "version": "3.8.5"
  }
 },
 "nbformat": 4,
 "nbformat_minor": 2
}
